{
  "nbformat": 4,
  "nbformat_minor": 0,
  "metadata": {
    "colab": {
      "provenance": [],
      "authorship_tag": "ABX9TyNpQPwRXgcOlTTZPoDKJNBF",
      "include_colab_link": true
    },
    "kernelspec": {
      "name": "python3",
      "display_name": "Python 3"
    },
    "language_info": {
      "name": "python"
    }
  },
  "cells": [
    {
      "cell_type": "markdown",
      "metadata": {
        "id": "view-in-github",
        "colab_type": "text"
      },
      "source": [
        "<a href=\"https://colab.research.google.com/github/vyavasthita/dsml_learning/blob/master/case_study/netflix_case_study.ipynb\" target=\"_parent\"><img src=\"https://colab.research.google.com/assets/colab-badge.svg\" alt=\"Open In Colab\"/></a>"
      ]
    },
    {
      "cell_type": "markdown",
      "source": [
        "### Problem Statement:\n",
        "#### Objective:\n",
        "\n",
        "To help Netflix to grow their business in different contries by deciding which type of movies or shows to produce."
      ],
      "metadata": {
        "id": "m1arFjZtwxtv"
      }
    },
    {
      "cell_type": "markdown",
      "source": [
        "### 1. Import Required Libraries"
      ],
      "metadata": {
        "id": "RDaPNZmAxWYf"
      }
    },
    {
      "cell_type": "code",
      "execution_count": null,
      "metadata": {
        "id": "SyscCu8gwGTz"
      },
      "outputs": [],
      "source": [
        "import numpy as np\n",
        "import pandas as pd\n",
        "import seaborn as sns\n",
        "import matplotlib.pyplot as plt"
      ]
    },
    {
      "cell_type": "markdown",
      "source": [
        "### 2. Load the data"
      ],
      "metadata": {
        "id": "y9o5XAyexjGz"
      }
    },
    {
      "cell_type": "code",
      "source": [
        "data = pd.read_csv(\"netflix_data.csv\")"
      ],
      "metadata": {
        "id": "RwcNt7lFxhfi"
      },
      "execution_count": null,
      "outputs": []
    },
    {
      "cell_type": "code",
      "source": [],
      "metadata": {
        "id": "eZ63UEVTxqcH"
      },
      "execution_count": null,
      "outputs": []
    },
    {
      "cell_type": "markdown",
      "source": [
        "### 3. Basic Data Analysis"
      ],
      "metadata": {
        "id": "Vd61CBvOx5P6"
      }
    },
    {
      "cell_type": "code",
      "source": [
        "data.head() # Read first 5 rows to understand the different columns"
      ],
      "metadata": {
        "id": "tbpQ2bI-xyH5"
      },
      "execution_count": null,
      "outputs": []
    },
    {
      "cell_type": "code",
      "source": [
        "data.columns"
      ],
      "metadata": {
        "id": "0RzujVcbyBSb"
      },
      "execution_count": null,
      "outputs": []
    },
    {
      "cell_type": "code",
      "source": [
        "# Shape of data (We see 8807 rows and 12 columns in our data frame)\n",
        "data.shape"
      ],
      "metadata": {
        "id": "UUXdQiltyFFT"
      },
      "execution_count": null,
      "outputs": []
    },
    {
      "cell_type": "code",
      "source": [
        "# My data unique\n",
        "data.nunique()"
      ],
      "metadata": {
        "id": "CZ-fLNx3yIXY"
      },
      "execution_count": null,
      "outputs": []
    },
    {
      "cell_type": "code",
      "source": [
        "# data type\n",
        "data.info()"
      ],
      "metadata": {
        "id": "SMKKKY5ryUPd"
      },
      "execution_count": null,
      "outputs": []
    },
    {
      "cell_type": "code",
      "source": [
        "data.isna() # Empty data"
      ],
      "metadata": {
        "id": "FZB-UKSE4Afl"
      },
      "execution_count": null,
      "outputs": []
    },
    {
      "cell_type": "markdown",
      "source": [
        "### 4. Exploration"
      ],
      "metadata": {
        "id": "wMlS6qZjyfyn"
      }
    },
    {
      "cell_type": "markdown",
      "source": [
        "#### Content Type"
      ],
      "metadata": {
        "id": "Xt8W1IlCzkAc"
      }
    },
    {
      "cell_type": "code",
      "source": [
        "# Different types of content\n",
        "data['type'].value_counts()"
      ],
      "metadata": {
        "id": "vJzaI8idyxwv"
      },
      "execution_count": null,
      "outputs": []
    },
    {
      "cell_type": "code",
      "source": [
        "# Different type of content(Percentage)\n",
        "data['type'].value_counts(normalize=True) * 100"
      ],
      "metadata": {
        "id": "p1EXpVvfy4we"
      },
      "execution_count": null,
      "outputs": []
    },
    {
      "cell_type": "markdown",
      "source": [
        "Insights: Most of my of the content is of type movies in Netflix (70%) and remainings are TV Shows (30%)"
      ],
      "metadata": {
        "id": "j9CPa_XJzDgh"
      }
    },
    {
      "cell_type": "markdown",
      "source": [],
      "metadata": {
        "id": "4A9j3_cpzXlh"
      }
    },
    {
      "cell_type": "code",
      "source": [
        "## Univariate:\n",
        "sns.countplot(x=data['type'])"
      ],
      "metadata": {
        "id": "CiOCoOtHycPZ"
      },
      "execution_count": null,
      "outputs": []
    },
    {
      "cell_type": "markdown",
      "source": [
        "#### Release Year"
      ],
      "metadata": {
        "id": "-Ph5TSLSznbP"
      }
    },
    {
      "cell_type": "code",
      "source": [
        "data['release_year'].value_counts()"
      ],
      "metadata": {
        "id": "hl3avTx4ysa_"
      },
      "execution_count": null,
      "outputs": []
    },
    {
      "cell_type": "markdown",
      "source": [
        "Insights: Most of the content has been added recently, where highest number of content was added in the year 2018."
      ],
      "metadata": {
        "id": "l2F9CsWvzuh3"
      }
    },
    {
      "cell_type": "code",
      "source": [
        "sns.countplot(x=data['release_year'])"
      ],
      "metadata": {
        "id": "oREi1V9Gzsur"
      },
      "execution_count": null,
      "outputs": []
    },
    {
      "cell_type": "markdown",
      "source": [
        "#### Date Added"
      ],
      "metadata": {
        "id": "gfcF70gi0DVd"
      }
    },
    {
      "cell_type": "code",
      "source": [
        "data[\"date_added\"] = pd.to_datetime(data[\"date_added\"], format='mixed')"
      ],
      "metadata": {
        "id": "wIJLA771z-Rk"
      },
      "execution_count": null,
      "outputs": []
    },
    {
      "cell_type": "code",
      "source": [
        "data[\"year\"] = data[\"date_added\"].dt.year\n",
        "data[\"month\"] = data[\"date_added\"].dt.month\n",
        "data[\"day\"] = data[\"date_added\"].dt.day\n",
        "data[\"day_of_the_week\"] = data[\"date_added\"].dt.day_of_week"
      ],
      "metadata": {
        "id": "CBjfg_xa0ISF"
      },
      "execution_count": null,
      "outputs": []
    },
    {
      "cell_type": "code",
      "source": [
        "# Checking the day on which content is getting released on Netflix"
      ],
      "metadata": {
        "id": "fXKOCcl80NXO"
      },
      "execution_count": null,
      "outputs": []
    },
    {
      "cell_type": "code",
      "source": [
        "sns.countplot(x = data[\"day_of_the_week\"])"
      ],
      "metadata": {
        "id": "kMc7w02i0jHt"
      },
      "execution_count": null,
      "outputs": []
    },
    {
      "cell_type": "markdown",
      "source": [
        "Insights: Most of the content is getting released on Friday"
      ],
      "metadata": {
        "id": "SZiPISQP0nBc"
      }
    },
    {
      "cell_type": "code",
      "source": [
        "# Checking the years when no contents was released\n",
        "print(data[\"year\"].isnull().sum())"
      ],
      "metadata": {
        "id": "mH1AH9Ry0jha"
      },
      "execution_count": null,
      "outputs": []
    },
    {
      "cell_type": "markdown",
      "source": [
        "#### Listed_In"
      ],
      "metadata": {
        "id": "ahLURoM-03Ds"
      }
    },
    {
      "cell_type": "code",
      "source": [
        "data[\"listed_in\"]"
      ],
      "metadata": {
        "id": "6sNLYySY0wGP"
      },
      "execution_count": null,
      "outputs": []
    },
    {
      "cell_type": "code",
      "source": [
        "# First rename the columns to something more meaningful\n",
        "data.rename(columns={\"listed_in\": \"genre\"}, inplace=True)"
      ],
      "metadata": {
        "id": "hP52xzd71PT3"
      },
      "execution_count": null,
      "outputs": []
    },
    {
      "cell_type": "markdown",
      "source": [
        "Some of the content has multiple genre types, so we need to split the genre and find the counts of each genre type"
      ],
      "metadata": {
        "id": "Im-_dFSj07tt"
      }
    },
    {
      "cell_type": "code",
      "source": [
        "data[\"genre\"]"
      ],
      "metadata": {
        "id": "ii5VGJUd05Ta"
      },
      "execution_count": null,
      "outputs": []
    },
    {
      "cell_type": "code",
      "source": [
        "## Which genre are people watching most?\n",
        "all_genre = []\n",
        "\n",
        "for items in data[\"genre\"].str.split(\",\"):\n",
        "  all_genre.extend(items)\n",
        "\n",
        "\n",
        "pd.Series(all_genre).value_counts()"
      ],
      "metadata": {
        "id": "XrqgXjXN1UQg"
      },
      "execution_count": null,
      "outputs": []
    },
    {
      "cell_type": "markdown",
      "source": [
        "Insights: Most of the content is of type International Movies (2624 total count)."
      ],
      "metadata": {
        "id": "l2uYHOJs1aX4"
      }
    },
    {
      "cell_type": "code",
      "source": [
        "## Who is the popular director?\n",
        "## Criteria: The director who produced the most number of movies so far.\n",
        "data['director'].value_counts()\n",
        "\n",
        "# Insights: Rajiv Chilaka is the most popular director who produced 19 movies so far."
      ],
      "metadata": {
        "id": "-n4GQHp91mAs"
      },
      "execution_count": null,
      "outputs": []
    },
    {
      "cell_type": "code",
      "source": [
        "\n",
        "data.head()"
      ],
      "metadata": {
        "id": "qiVQcLMi3HxW"
      },
      "execution_count": null,
      "outputs": []
    },
    {
      "cell_type": "markdown",
      "source": [
        "#### Director"
      ],
      "metadata": {
        "id": "-dIYsAlK4TRB"
      }
    },
    {
      "cell_type": "code",
      "source": [
        "data['director'].nunique() # total unique directors"
      ],
      "metadata": {
        "id": "FDtPnkHf4S2e"
      },
      "execution_count": null,
      "outputs": []
    },
    {
      "cell_type": "markdown",
      "source": [
        "### Recommendation and Insights"
      ],
      "metadata": {
        "id": "DaDDdCAQ3uUn"
      }
    },
    {
      "cell_type": "code",
      "source": [
        "## Most of the content is of type Movies.\n",
        "## Most of the content are added in recent years\n",
        "## Most of the movies are getting released on the Friday of the week."
      ],
      "metadata": {
        "id": "y69yQ0GK3vjY"
      },
      "execution_count": null,
      "outputs": []
    }
  ]
}