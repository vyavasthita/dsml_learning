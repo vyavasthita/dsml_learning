{
  "nbformat": 4,
  "nbformat_minor": 0,
  "metadata": {
    "colab": {
      "provenance": [],
      "authorship_tag": "ABX9TyNe5udM1F1FMu7XZ0dATL6J",
      "include_colab_link": true
    },
    "kernelspec": {
      "name": "python3",
      "display_name": "Python 3"
    },
    "language_info": {
      "name": "python"
    }
  },
  "cells": [
    {
      "cell_type": "markdown",
      "metadata": {
        "id": "view-in-github",
        "colab_type": "text"
      },
      "source": [
        "<a href=\"https://colab.research.google.com/github/vyavasthita/dsml_learning/blob/master/IMDBCaseStudy.ipynb\" target=\"_parent\"><img src=\"https://colab.research.google.com/assets/colab-badge.svg\" alt=\"Open In Colab\"/></a>"
      ]
    },
    {
      "cell_type": "code",
      "execution_count": null,
      "metadata": {
        "id": "9OLrZP7L6hyE"
      },
      "outputs": [],
      "source": [
        "import numpy as np\n",
        "import pandas as pd"
      ]
    },
    {
      "cell_type": "code",
      "source": [
        "!gdown 1s2TkjSpzNc4SyxqRrQleZyDIHlc7bxnd"
      ],
      "metadata": {
        "id": "c95YGz0a6m5x"
      },
      "execution_count": null,
      "outputs": []
    },
    {
      "cell_type": "code",
      "source": [
        "!gdown 1Ws-_s1fHZ9nHfGLVUQurbHDvStePlEJm"
      ],
      "metadata": {
        "id": "4DBlX3H-7CKU"
      },
      "execution_count": null,
      "outputs": []
    },
    {
      "cell_type": "code",
      "source": [
        "# index column will be named 0 and we will have repetitive index (pd provides iloc indexing)\n",
        "movies = pd.read_csv('movies.csv')\n",
        "directors = pd.read_csv('directors.csv')"
      ],
      "metadata": {
        "id": "dmwXyveC7EWo"
      },
      "execution_count": null,
      "outputs": []
    },
    {
      "cell_type": "code",
      "source": [
        "movies.head()"
      ],
      "metadata": {
        "id": "aylpah3k7YBW"
      },
      "execution_count": null,
      "outputs": []
    },
    {
      "cell_type": "code",
      "source": [
        "# we are asking pandas not to create an implict index, but instead use the existing column 0 as index column\n",
        "movies = pd.read_csv('movies.csv', index_col=0)\n",
        "directors = pd.read_csv('directors.csv', index_col=0)"
      ],
      "metadata": {
        "id": "hECIWenW7ggI"
      },
      "execution_count": null,
      "outputs": []
    },
    {
      "cell_type": "code",
      "source": [
        "directors.head()"
      ],
      "metadata": {
        "id": "oadk4GQc8FRJ"
      },
      "execution_count": null,
      "outputs": []
    },
    {
      "cell_type": "code",
      "source": [
        "movies.shape"
      ],
      "metadata": {
        "id": "UjISDgfX8tZy"
      },
      "execution_count": null,
      "outputs": []
    },
    {
      "cell_type": "code",
      "source": [
        "directors.shape"
      ],
      "metadata": {
        "id": "sNk4wIIaCUDZ"
      },
      "execution_count": null,
      "outputs": []
    },
    {
      "cell_type": "code",
      "source": [
        "movies['director_id'].nunique()"
      ],
      "metadata": {
        "id": "dzmJNB62Cmwp"
      },
      "execution_count": null,
      "outputs": []
    },
    {
      "cell_type": "code",
      "source": [
        "directors['id'].nunique()"
      ],
      "metadata": {
        "id": "zHXCyjFUComp"
      },
      "execution_count": null,
      "outputs": []
    },
    {
      "cell_type": "markdown",
      "source": [
        "Check if all director_ids in the movies tables are present as an id column in the directors table"
      ],
      "metadata": {
        "id": "Tz0bbufdDEh1"
      }
    },
    {
      "cell_type": "code",
      "source": [
        "movies['director_id'].isin(directors['id'])"
      ],
      "metadata": {
        "id": "77wDzCXGDm5I"
      },
      "execution_count": null,
      "outputs": []
    },
    {
      "cell_type": "code",
      "source": [
        "movies['director_id'].isin(directors['id']).value_counts()"
      ],
      "metadata": {
        "id": "T7oQ7Sh8D8zH"
      },
      "execution_count": null,
      "outputs": []
    },
    {
      "cell_type": "code",
      "source": [
        "np.sum(movies['director_id'].isin(directors['id']))"
      ],
      "metadata": {
        "id": "DObTt1QGEGDw"
      },
      "execution_count": null,
      "outputs": []
    },
    {
      "cell_type": "code",
      "source": [
        "np.all(movies['director_id'].isin(directors['id']))"
      ],
      "metadata": {
        "id": "Z8wCShg8EMze"
      },
      "execution_count": null,
      "outputs": []
    },
    {
      "cell_type": "markdown",
      "source": [
        "We would like to keep every movie's data, so a left join has to be performed.\n",
        "\n",
        "But because each director_id of movies is present in directors table, so inner join can also be used.\n",
        "\n",
        "Both inner and left joins will give the same result"
      ],
      "metadata": {
        "id": "att-pazLB-lR"
      }
    },
    {
      "cell_type": "code",
      "source": [
        "pd.merge(movies, directors, how='left', left_on='director_id', right_on='id')"
      ],
      "metadata": {
        "id": "80v3cFsM-eIc"
      },
      "execution_count": null,
      "outputs": []
    },
    {
      "cell_type": "code",
      "source": [
        "data = movies.merge(directors, how='left', left_on='director_id', right_on='id')"
      ],
      "metadata": {
        "id": "lc5zndXwCQKK"
      },
      "execution_count": null,
      "outputs": []
    },
    {
      "cell_type": "code",
      "source": [
        "data.drop(['director_id', 'id_y'], axis=1, inplace=True)\n",
        "data"
      ],
      "metadata": {
        "id": "0fIZp4r5GEVF"
      },
      "execution_count": null,
      "outputs": []
    },
    {
      "cell_type": "markdown",
      "source": [
        "post read => imdbd data exploration\n",
        "\n",
        "https://colab.research.google.com/drive/1yrfHSQYUMxxLKGUG-gCPf-R232BuimiR?usp=sharing"
      ],
      "metadata": {
        "id": "E_TGBE2xGhbN"
      }
    },
    {
      "cell_type": "markdown",
      "source": [
        "apply() => apply function along an axis of the df => axis=0"
      ],
      "metadata": {
        "id": "bkNjklH2I2UT"
      }
    },
    {
      "cell_type": "code",
      "source": [
        "def encode(data):\n",
        "  return 0 if data == \"Male\" else 1"
      ],
      "metadata": {
        "id": "VckWf9zbGR0G"
      },
      "execution_count": null,
      "outputs": []
    },
    {
      "cell_type": "code",
      "source": [
        "data['gender'] = data['gender'].apply(encode)\n",
        "data"
      ],
      "metadata": {
        "id": "gU7WKaxYsqy7"
      },
      "execution_count": null,
      "outputs": []
    },
    {
      "cell_type": "code",
      "source": [
        "# sum of revenue and budget for each row\n",
        "data['total_money'] = data[['budget', 'revenue']].apply(np.sum, axis = 1)\n",
        "data"
      ],
      "metadata": {
        "id": "ZRKtyS8Osvsd"
      },
      "execution_count": null,
      "outputs": []
    },
    {
      "cell_type": "code",
      "source": [
        "# profit per movie (revenue - budget)\n",
        "def profit(temp_data):\n",
        "  return temp_data['revenue'] - temp_data['budget']"
      ],
      "metadata": {
        "id": "NO_slqTEvugw"
      },
      "execution_count": null,
      "outputs": []
    },
    {
      "cell_type": "code",
      "source": [
        "data['profit'] = data[['revenue','budget']].apply(profit, axis=1)\n",
        "data"
      ],
      "metadata": {
        "id": "ibXeMVxZwcZg"
      },
      "execution_count": null,
      "outputs": []
    },
    {
      "cell_type": "markdown",
      "source": [
        "GroupBy"
      ],
      "metadata": {
        "id": "LRu7O6UlyklD"
      }
    },
    {
      "cell_type": "markdown",
      "source": [
        "<img src=\"https://learning.oreilly.com/api/v2/epubs/urn:orm:book:9781491912126/files/assets/pyds_03in01.png\" height=\"350\" width=\"700\"/>"
      ],
      "metadata": {
        "id": "cpcK8bB46dA7"
      }
    },
    {
      "cell_type": "code",
      "source": [
        "data['director_name'].nunique()"
      ],
      "metadata": {
        "id": "_LRWTDF5_Jj2"
      },
      "execution_count": null,
      "outputs": []
    },
    {
      "cell_type": "code",
      "source": [
        "data.groupby('director_name')"
      ],
      "metadata": {
        "id": "-j1ykwU0wx8f"
      },
      "execution_count": null,
      "outputs": []
    },
    {
      "cell_type": "code",
      "source": [
        "data.groupby('director_name').ngroups"
      ],
      "metadata": {
        "id": "S0Gl23I--T-d"
      },
      "execution_count": null,
      "outputs": []
    },
    {
      "cell_type": "code",
      "source": [
        "# print groups\n",
        "data.groupby('director_name').groups # it will print director_name as key and values as indexes"
      ],
      "metadata": {
        "id": "ukjo9nSu-bVB"
      },
      "execution_count": null,
      "outputs": []
    },
    {
      "cell_type": "code",
      "source": [
        "# get particular group\n",
        "data.groupby('director_name').get_group('Adam McKay')"
      ],
      "metadata": {
        "id": "E0Zeb60J-msF"
      },
      "execution_count": null,
      "outputs": []
    },
    {
      "cell_type": "code",
      "source": [
        "# count of movies by each director\n",
        "data.groupby('director_name')['title'].count()"
      ],
      "metadata": {
        "id": "JI2bK_CmxZpW"
      },
      "execution_count": null,
      "outputs": []
    },
    {
      "cell_type": "code",
      "source": [
        "# min year and max year for each director (multiple aggregate functions)\n",
        "data.groupby('director_name')['year'].aggregate(['min', 'max'])"
      ],
      "metadata": {
        "id": "dmSmlFBPx-lM"
      },
      "execution_count": null,
      "outputs": []
    },
    {
      "cell_type": "code",
      "source": [
        "data.head()"
      ],
      "metadata": {
        "id": "A-5U5rnQ0oT3"
      },
      "execution_count": null,
      "outputs": []
    },
    {
      "cell_type": "markdown",
      "source": [
        "# Find the details of movies by high-budget directors.\n",
        "# High budget directors -> any director with at least one movie with a budget > 100M"
      ],
      "metadata": {
        "id": "pRaypwIi4Ejj"
      }
    },
    {
      "cell_type": "code",
      "source": [
        "\n",
        "dir_budget = data.groupby('director_name')['budget'].max().reset_index()\n"
      ],
      "metadata": {
        "id": "w-I8O53Lz6Q5"
      },
      "execution_count": null,
      "outputs": []
    },
    {
      "cell_type": "code",
      "source": [
        "dir_budget['budget'] > 100000000"
      ],
      "metadata": {
        "id": "bZW3hou34Nmg"
      },
      "execution_count": null,
      "outputs": []
    },
    {
      "cell_type": "code",
      "source": [
        "dir_budget[dir_budget['budget'] > 100000000]"
      ],
      "metadata": {
        "id": "ExVGbRP84wDD"
      },
      "execution_count": null,
      "outputs": []
    },
    {
      "cell_type": "code",
      "source": [
        "names =dir_budget[dir_budget['budget'] > 100000000]['director_name']\n",
        "names"
      ],
      "metadata": {
        "id": "KXjqXG0g43PE"
      },
      "execution_count": null,
      "outputs": []
    },
    {
      "cell_type": "code",
      "source": [
        "data['director_name'].isin(names)"
      ],
      "metadata": {
        "id": "SFnXMHJD5AQ_"
      },
      "execution_count": null,
      "outputs": []
    },
    {
      "cell_type": "code",
      "source": [
        "data[data['director_name'].isin(names)]"
      ],
      "metadata": {
        "id": "GH43Hx2H5N3z"
      },
      "execution_count": null,
      "outputs": []
    },
    {
      "cell_type": "code",
      "source": [
        "# Single line\n",
        "data.groupby('director_name').filter(lambda val: val['budget'].max() > 100000000)\n"
      ],
      "metadata": {
        "id": "pNzXbRlD5RlG"
      },
      "execution_count": null,
      "outputs": []
    }
  ]
}