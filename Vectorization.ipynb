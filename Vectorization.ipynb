{
  "nbformat": 4,
  "nbformat_minor": 0,
  "metadata": {
    "colab": {
      "provenance": [],
      "authorship_tag": "ABX9TyPVPOoR7y2frBS/VeQDopl1",
      "include_colab_link": true
    },
    "kernelspec": {
      "name": "python3",
      "display_name": "Python 3"
    },
    "language_info": {
      "name": "python"
    }
  },
  "cells": [
    {
      "cell_type": "markdown",
      "metadata": {
        "id": "view-in-github",
        "colab_type": "text"
      },
      "source": [
        "<a href=\"https://colab.research.google.com/github/vyavasthita/dsml_learning/blob/master/Vectorization.ipynb\" target=\"_parent\"><img src=\"https://colab.research.google.com/assets/colab-badge.svg\" alt=\"Open In Colab\"/></a>"
      ]
    },
    {
      "cell_type": "code",
      "execution_count": 43,
      "metadata": {
        "id": "DvahiauzbFZG"
      },
      "outputs": [],
      "source": [
        "import numpy as np"
      ]
    },
    {
      "cell_type": "code",
      "source": [
        "m1 = np.arange(1, 11)\n",
        "m1 ** 2"
      ],
      "metadata": {
        "colab": {
          "base_uri": "https://localhost:8080/"
        },
        "id": "2p0AhhD2cqWh",
        "outputId": "ead45799-04cc-46e8-ed4a-06643c3c0381"
      },
      "execution_count": 44,
      "outputs": [
        {
          "output_type": "execute_result",
          "data": {
            "text/plain": [
              "array([  1,   4,   9,  16,  25,  36,  49,  64,  81, 100])"
            ]
          },
          "metadata": {},
          "execution_count": 44
        }
      ]
    },
    {
      "cell_type": "markdown",
      "source": [
        "We can not use external functions as numpy functions\n",
        "For example, we can not apply a factorial function from the math library to a set of arrays."
      ],
      "metadata": {
        "id": "WC0g2sHnKxmU"
      }
    },
    {
      "cell_type": "markdown",
      "source": [
        "Vectorising the functions which are not numpy's built-in functions"
      ],
      "metadata": {
        "id": "u-tLanFILKTI"
      }
    },
    {
      "cell_type": "code",
      "source": [
        "from math import factorial\n",
        "\n",
        "vectorized_arr = np.vectorize(factorial)# convenient wrapper over for loop, this will not speed up, it is just writing for loop for us\n",
        "vectorized_arr(m1)"
      ],
      "metadata": {
        "colab": {
          "base_uri": "https://localhost:8080/"
        },
        "id": "R_7LdUpXLMgD",
        "outputId": "e8219974-4845-4cfd-eb40-0773fd0f785f"
      },
      "execution_count": 45,
      "outputs": [
        {
          "output_type": "execute_result",
          "data": {
            "text/plain": [
              "array([      1,       2,       6,      24,     120,     720,    5040,\n",
              "         40320,  362880, 3628800])"
            ]
          },
          "metadata": {},
          "execution_count": 45
        }
      ]
    },
    {
      "cell_type": "code",
      "source": [
        "def plus_one(value: int):\n",
        "  return value + 1"
      ],
      "metadata": {
        "id": "PiLyxoH_LZVl"
      },
      "execution_count": 46,
      "outputs": []
    },
    {
      "cell_type": "code",
      "source": [
        "plus_ones = np.vectorize(plus_one)\n",
        "plus_ones(np.arange(1, 51))"
      ],
      "metadata": {
        "colab": {
          "base_uri": "https://localhost:8080/"
        },
        "id": "GDm-9BsyL0Hx",
        "outputId": "5108c724-d339-4ae5-a04e-bcc8e82d8ebd"
      },
      "execution_count": 47,
      "outputs": [
        {
          "output_type": "execute_result",
          "data": {
            "text/plain": [
              "array([ 2,  3,  4,  5,  6,  7,  8,  9, 10, 11, 12, 13, 14, 15, 16, 17, 18,\n",
              "       19, 20, 21, 22, 23, 24, 25, 26, 27, 28, 29, 30, 31, 32, 33, 34, 35,\n",
              "       36, 37, 38, 39, 40, 41, 42, 43, 44, 45, 46, 47, 48, 49, 50, 51])"
            ]
          },
          "metadata": {},
          "execution_count": 47
        }
      ]
    },
    {
      "cell_type": "markdown",
      "source": [
        "multiplying 1d array with another 1d array with same shape"
      ],
      "metadata": {
        "id": "xqH4AyamhaXs"
      }
    },
    {
      "cell_type": "code",
      "source": [
        "a = np.arange(5, 11)\n",
        "b = np.arange(10, 16)\n",
        "a*b"
      ],
      "metadata": {
        "colab": {
          "base_uri": "https://localhost:8080/"
        },
        "id": "hJu2ADh6hgwN",
        "outputId": "f5f001a8-7c5c-4c3f-d795-b1f17e57830f"
      },
      "execution_count": 48,
      "outputs": [
        {
          "output_type": "execute_result",
          "data": {
            "text/plain": [
              "array([ 50,  66,  84, 104, 126, 150])"
            ]
          },
          "metadata": {},
          "execution_count": 48
        }
      ]
    },
    {
      "cell_type": "markdown",
      "source": [
        "Multiplying 2d arrays"
      ],
      "metadata": {
        "id": "10dQlptYjKlE"
      }
    },
    {
      "cell_type": "code",
      "source": [
        "c = np.arange(1, 16).reshape(5, 3)\n",
        "d = np.arange(16, 31).reshape(5, 3)\n",
        "c*d"
      ],
      "metadata": {
        "colab": {
          "base_uri": "https://localhost:8080/"
        },
        "id": "0IjFw7Z9ioGp",
        "outputId": "49f54e18-e21d-47e8-a1b9-644487c4bd21"
      },
      "execution_count": 49,
      "outputs": [
        {
          "output_type": "execute_result",
          "data": {
            "text/plain": [
              "array([[ 16,  34,  54],\n",
              "       [ 76, 100, 126],\n",
              "       [154, 184, 216],\n",
              "       [250, 286, 324],\n",
              "       [364, 406, 450]])"
            ]
          },
          "metadata": {},
          "execution_count": 49
        }
      ]
    },
    {
      "cell_type": "markdown",
      "source": [
        "But if shapes are different, these operations do not work"
      ],
      "metadata": {
        "id": "jP6O6kTMjgd-"
      }
    },
    {
      "cell_type": "markdown",
      "source": [
        "Matrix multiplication.\n",
        "It works when the number of rows in the first matrix is the same as the number of columns in the second matrix.\n",
        "\n",
        "There are 3 ways to do this.\n",
        "\n",
        "1. np.matmul(a, b)\n",
        "2. np.dot(a, b) - this is more generic, as it works with 1d & 1d, array & scaler, array & array\n",
        "3. a @ b\n",
        "\n",
        "Matrix multiplication is used in image processing, ML models, and LLMs"
      ],
      "metadata": {
        "id": "OCdOti9vuGXF"
      }
    },
    {
      "cell_type": "code",
      "source": [
        "a = np.arange(1, 13).reshape(2, 6)\n",
        "b = np.arange(13, 25).reshape(6, 2)\n",
        "np.matmul(a, b)"
      ],
      "metadata": {
        "colab": {
          "base_uri": "https://localhost:8080/"
        },
        "id": "QdgJsw4ljYSX",
        "outputId": "f8c94fe1-c826-413a-d0e1-9249c87adeb0"
      },
      "execution_count": 50,
      "outputs": [
        {
          "output_type": "execute_result",
          "data": {
            "text/plain": [
              "array([[ 413,  434],\n",
              "       [1061, 1118]])"
            ]
          },
          "metadata": {},
          "execution_count": 50
        }
      ]
    },
    {
      "cell_type": "code",
      "source": [
        "np.dot(a, b)"
      ],
      "metadata": {
        "colab": {
          "base_uri": "https://localhost:8080/"
        },
        "id": "Jzi2sbgjxiwK",
        "outputId": "6d43af85-8f82-4d30-b022-7b74d28c02ac"
      },
      "execution_count": 51,
      "outputs": [
        {
          "output_type": "execute_result",
          "data": {
            "text/plain": [
              "array([[ 413,  434],\n",
              "       [1061, 1118]])"
            ]
          },
          "metadata": {},
          "execution_count": 51
        }
      ]
    },
    {
      "cell_type": "code",
      "source": [
        "a @ b"
      ],
      "metadata": {
        "colab": {
          "base_uri": "https://localhost:8080/"
        },
        "id": "EVexLNRRx4p0",
        "outputId": "0e273fb0-5304-4a7d-f079-c43dd987c7bf"
      },
      "execution_count": 52,
      "outputs": [
        {
          "output_type": "execute_result",
          "data": {
            "text/plain": [
              "array([[ 413,  434],\n",
              "       [1061, 1118]])"
            ]
          },
          "metadata": {},
          "execution_count": 52
        }
      ]
    },
    {
      "cell_type": "markdown",
      "source": [
        "Shallow Vs Deep Copy.\n",
        "\n",
        "Any element-wise copy will create a new object, so deep copy.\n",
        "\n",
        "a = np.arange(1, 10)\n",
        "\n",
        "a ** 2 This will be an element-wise copy and hence a deep copy.\n",
        "\n",
        "Shallow copy saves memory.\n",
        "\n",
        "When we want to change an image, we need to use a shallow copy.\n",
        "\n",
        "If we have data and we want this data to be used by multiple ML models, then we need to use shallow copy."
      ],
      "metadata": {
        "id": "k3VtxHx4fE8J"
      }
    },
    {
      "cell_type": "code",
      "source": [
        "np.shares_memory(a, b)"
      ],
      "metadata": {
        "colab": {
          "base_uri": "https://localhost:8080/"
        },
        "id": "g00tAju7x59E",
        "outputId": "d6836356-a396-433b-8714-13f4199c37bf"
      },
      "execution_count": 53,
      "outputs": [
        {
          "output_type": "execute_result",
          "data": {
            "text/plain": [
              "False"
            ]
          },
          "metadata": {},
          "execution_count": 53
        }
      ]
    },
    {
      "cell_type": "code",
      "source": [
        "m1 = np.arange(1, 7)\n",
        "m2 = m1.reshape(2, 3)\n",
        "print(id(m1[0]), id(m2[0][0]))"
      ],
      "metadata": {
        "colab": {
          "base_uri": "https://localhost:8080/"
        },
        "id": "a--KcgmEtT6D",
        "outputId": "26d25033-8132-41c2-efd4-4640abe1d130"
      },
      "execution_count": 54,
      "outputs": [
        {
          "output_type": "stream",
          "name": "stdout",
          "text": [
            "135852717976272 135852717976272\n"
          ]
        }
      ]
    },
    {
      "cell_type": "markdown",
      "source": [
        "Use np.copy() for deep copy\n",
        "Use np.view() for shallow copy"
      ],
      "metadata": {
        "id": "7R952Ad0zGCX"
      }
    },
    {
      "cell_type": "code",
      "source": [
        "m1 = np.arange(1, 7)\n",
        "m2 = m1.copy()\n",
        "\n",
        "np.shares_memory(m1, m2)"
      ],
      "metadata": {
        "colab": {
          "base_uri": "https://localhost:8080/"
        },
        "id": "JHzzA7gLyDS3",
        "outputId": "cebebc29-e1aa-4837-82b8-4a91fb299b53"
      },
      "execution_count": 55,
      "outputs": [
        {
          "output_type": "execute_result",
          "data": {
            "text/plain": [
              "False"
            ]
          },
          "metadata": {},
          "execution_count": 55
        }
      ]
    },
    {
      "cell_type": "code",
      "source": [
        "m3 = m1.view()\n",
        "np.shares_memory(m1, m3)"
      ],
      "metadata": {
        "colab": {
          "base_uri": "https://localhost:8080/"
        },
        "id": "hJLTBjxQzPsI",
        "outputId": "048c3c85-0a2b-411f-f853-a636c8472f75"
      },
      "execution_count": 56,
      "outputs": [
        {
          "output_type": "execute_result",
          "data": {
            "text/plain": [
              "True"
            ]
          },
          "metadata": {},
          "execution_count": 56
        }
      ]
    },
    {
      "cell_type": "markdown",
      "source": [
        "Array Splitting\n",
        "\n",
        "We have our LLM models and we have a data set containing 1000 rows.\n",
        "\n",
        "We need to train our data as well as we need to test our models.\n",
        "\n",
        "So we will split the data into two parts: the first part is to be used for training the LLMs, and the second part is for testing the LLMs."
      ],
      "metadata": {
        "id": "oHHtQH9A1PQA"
      }
    },
    {
      "cell_type": "code",
      "source": [
        "m1 = np.arange(1, 11)\n",
        "np.split(m1, 5)"
      ],
      "metadata": {
        "colab": {
          "base_uri": "https://localhost:8080/"
        },
        "id": "0oll2I_I1uO8",
        "outputId": "cc6076dd-0d65-4020-ce7c-294f586cf918"
      },
      "execution_count": 57,
      "outputs": [
        {
          "output_type": "execute_result",
          "data": {
            "text/plain": [
              "[array([1, 2]), array([3, 4]), array([5, 6]), array([7, 8]), array([ 9, 10])]"
            ]
          },
          "metadata": {},
          "execution_count": 57
        }
      ]
    },
    {
      "cell_type": "markdown",
      "source": [
        "Unequal size split"
      ],
      "metadata": {
        "id": "r3vUuA_x2C-k"
      }
    },
    {
      "cell_type": "code",
      "source": [
        "m1 = np.arange(1, 11)\n",
        "np.split(m1, (2, 5, 8)) # provide tuple of indexes"
      ],
      "metadata": {
        "colab": {
          "base_uri": "https://localhost:8080/"
        },
        "id": "fLloHM5p10yY",
        "outputId": "9ebdffec-54e6-4c45-dd1e-18cae13a82c8"
      },
      "execution_count": 58,
      "outputs": [
        {
          "output_type": "execute_result",
          "data": {
            "text/plain": [
              "[array([1, 2]), array([3, 4, 5]), array([6, 7, 8]), array([ 9, 10])]"
            ]
          },
          "metadata": {},
          "execution_count": 58
        }
      ]
    },
    {
      "cell_type": "markdown",
      "source": [
        "2D Array split"
      ],
      "metadata": {
        "id": "SywzD_v74DVY"
      }
    },
    {
      "cell_type": "code",
      "source": [
        "m1 = np.arange(1, 17)\n",
        "m2 = m1.reshape(4, 4)\n",
        "m2\n",
        "np.split(m2, 2, axis=0)"
      ],
      "metadata": {
        "colab": {
          "base_uri": "https://localhost:8080/"
        },
        "id": "VEg9qmQM2Kcw",
        "outputId": "2e33a714-ae72-4500-8d87-db2d9fea3b5c"
      },
      "execution_count": 59,
      "outputs": [
        {
          "output_type": "execute_result",
          "data": {
            "text/plain": [
              "[array([[1, 2, 3, 4],\n",
              "        [5, 6, 7, 8]]),\n",
              " array([[ 9, 10, 11, 12],\n",
              "        [13, 14, 15, 16]])]"
            ]
          },
          "metadata": {},
          "execution_count": 59
        }
      ]
    },
    {
      "cell_type": "code",
      "source": [
        "np.hsplit(m2, 2)"
      ],
      "metadata": {
        "colab": {
          "base_uri": "https://localhost:8080/"
        },
        "id": "t4F8LCeh4UyB",
        "outputId": "9117a62a-295f-4fb4-984a-db7feab9a8d4"
      },
      "execution_count": 60,
      "outputs": [
        {
          "output_type": "execute_result",
          "data": {
            "text/plain": [
              "[array([[ 1,  2],\n",
              "        [ 5,  6],\n",
              "        [ 9, 10],\n",
              "        [13, 14]]),\n",
              " array([[ 3,  4],\n",
              "        [ 7,  8],\n",
              "        [11, 12],\n",
              "        [15, 16]])]"
            ]
          },
          "metadata": {},
          "execution_count": 60
        }
      ]
    },
    {
      "cell_type": "code",
      "source": [
        "np.vsplit(m2, 2)"
      ],
      "metadata": {
        "colab": {
          "base_uri": "https://localhost:8080/"
        },
        "id": "KtmnBCC2601-",
        "outputId": "d2497b93-01c3-48ea-dcd1-a54a9b4bae3c"
      },
      "execution_count": 61,
      "outputs": [
        {
          "output_type": "execute_result",
          "data": {
            "text/plain": [
              "[array([[1, 2, 3, 4],\n",
              "        [5, 6, 7, 8]]),\n",
              " array([[ 9, 10, 11, 12],\n",
              "        [13, 14, 15, 16]])]"
            ]
          },
          "metadata": {},
          "execution_count": 61
        }
      ]
    },
    {
      "cell_type": "markdown",
      "source": [
        "Stacking array"
      ],
      "metadata": {
        "id": "q7rlOVScFD4x"
      }
    },
    {
      "cell_type": "code",
      "source": [
        "a = np.arange(1, 11)\n",
        "b = np.arange(11, 21)"
      ],
      "metadata": {
        "id": "hvHYaRSI62yl"
      },
      "execution_count": 62,
      "outputs": []
    },
    {
      "cell_type": "code",
      "source": [
        "np.vstack((a, b))"
      ],
      "metadata": {
        "colab": {
          "base_uri": "https://localhost:8080/"
        },
        "id": "vXIBJb1KFMCY",
        "outputId": "72dbfb3b-471f-49dc-879d-59146a344c9a"
      },
      "execution_count": 63,
      "outputs": [
        {
          "output_type": "execute_result",
          "data": {
            "text/plain": [
              "array([[ 1,  2,  3,  4,  5,  6,  7,  8,  9, 10],\n",
              "       [11, 12, 13, 14, 15, 16, 17, 18, 19, 20]])"
            ]
          },
          "metadata": {},
          "execution_count": 63
        }
      ]
    },
    {
      "cell_type": "code",
      "source": [
        "np.hstack((a, b))"
      ],
      "metadata": {
        "colab": {
          "base_uri": "https://localhost:8080/"
        },
        "id": "GJr0tdekFRab",
        "outputId": "44c4e409-efc0-4c9f-f648-0b7d3c118cc0"
      },
      "execution_count": 64,
      "outputs": [
        {
          "output_type": "execute_result",
          "data": {
            "text/plain": [
              "array([ 1,  2,  3,  4,  5,  6,  7,  8,  9, 10, 11, 12, 13, 14, 15, 16, 17,\n",
              "       18, 19, 20])"
            ]
          },
          "metadata": {},
          "execution_count": 64
        }
      ]
    },
    {
      "cell_type": "code",
      "source": [
        "m1 = np.array(\n",
        "    [\n",
        "        [1, 2],\n",
        "        [3, 4],\n",
        "        [5, 6]]\n",
        "    )\n",
        "m1"
      ],
      "metadata": {
        "colab": {
          "base_uri": "https://localhost:8080/"
        },
        "id": "wlKxN7o7FWB1",
        "outputId": "674f91c3-fa91-4bef-de43-846565b45d49"
      },
      "execution_count": 65,
      "outputs": [
        {
          "output_type": "execute_result",
          "data": {
            "text/plain": [
              "array([[1, 2],\n",
              "       [3, 4],\n",
              "       [5, 6]])"
            ]
          },
          "metadata": {},
          "execution_count": 65
        }
      ]
    },
    {
      "cell_type": "code",
      "source": [],
      "metadata": {
        "id": "fVGQYp9zal3P"
      },
      "execution_count": 65,
      "outputs": []
    }
  ]
}