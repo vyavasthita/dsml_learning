{
  "nbformat": 4,
  "nbformat_minor": 0,
  "metadata": {
    "colab": {
      "provenance": [],
      "authorship_tag": "ABX9TyMyq3khCIATfiu8buu3ZEc4",
      "include_colab_link": true
    },
    "kernelspec": {
      "name": "python3",
      "display_name": "Python 3"
    },
    "language_info": {
      "name": "python"
    }
  },
  "cells": [
    {
      "cell_type": "markdown",
      "metadata": {
        "id": "view-in-github",
        "colab_type": "text"
      },
      "source": [
        "<a href=\"https://colab.research.google.com/github/vyavasthita/dsml_learning/blob/master/Pandas3_0.ipynb\" target=\"_parent\"><img src=\"https://colab.research.google.com/assets/colab-badge.svg\" alt=\"Open In Colab\"/></a>"
      ]
    },
    {
      "cell_type": "code",
      "execution_count": null,
      "metadata": {
        "id": "cGwlzhm6vy2w"
      },
      "outputs": [],
      "source": [
        "import numpy as np\n",
        "import pandas as pd"
      ]
    },
    {
      "cell_type": "markdown",
      "source": [
        "Concatenation"
      ],
      "metadata": {
        "id": "Nu0gVKvJv8bA"
      }
    },
    {
      "cell_type": "code",
      "source": [
        "users = pd.DataFrame(\n",
        "    {\n",
        "        'user_id': [1, 2, 3],\n",
        "        'name': [\"Rama\", \"Krishna\", \"Shiva\"]\n",
        "    }\n",
        ")"
      ],
      "metadata": {
        "id": "ITWBvlrnv65O"
      },
      "execution_count": null,
      "outputs": []
    },
    {
      "cell_type": "code",
      "source": [
        "messages = pd.DataFrame(\n",
        "    {\n",
        "        'user_id': [1, 2, 2, 4],\n",
        "        'messages': [\"Yoga\", \"Meditation\", \"Dhyan\", \"Kriya\"]\n",
        "    }\n",
        ")"
      ],
      "metadata": {
        "id": "8e_sRH84wTJx"
      },
      "execution_count": null,
      "outputs": []
    },
    {
      "cell_type": "code",
      "source": [
        "pd.concat([users, messages]) # default concat direction is vertical (axis = 0)"
      ],
      "metadata": {
        "id": "EdIfAhaIwdrr"
      },
      "execution_count": null,
      "outputs": []
    },
    {
      "cell_type": "markdown",
      "source": [
        "type of user_id is converted to float.\n",
        "\n",
        "This is because in the fourth row, we have user_id value as NaN, which is of float type.\n",
        "\n",
        "Now all rows for user_id column must be of same type, so pandas converts int user_id to float type.\n",
        "\n",
        "Similarly, in the name column, the float NaN is converted to a String because other rows are of String type."
      ],
      "metadata": {
        "id": "5kKbiYHvyIlO"
      }
    },
    {
      "cell_type": "code",
      "source": [
        "type(np.nan)"
      ],
      "metadata": {
        "id": "-A2oZEGCybKr"
      },
      "execution_count": null,
      "outputs": []
    },
    {
      "cell_type": "code",
      "source": [
        "pd.concat([users, messages], axis=1) # concat direction is horizontal (axis = 1)"
      ],
      "metadata": {
        "id": "ZhN3-PzDwpwp"
      },
      "execution_count": null,
      "outputs": []
    },
    {
      "cell_type": "markdown",
      "source": [
        "Concatenation is not used much for merging two data frames.\n",
        "We instead use merging in pandas."
      ],
      "metadata": {
        "id": "yhyLiNCqzKgg"
      }
    },
    {
      "cell_type": "code",
      "source": [
        "users.merge(messages) # default join is inner join and default column is the common column, which is user_id here"
      ],
      "metadata": {
        "id": "7VLWM9cDxy2C"
      },
      "execution_count": null,
      "outputs": []
    },
    {
      "cell_type": "code",
      "source": [
        "users.merge(messages, on='user_id')"
      ],
      "metadata": {
        "id": "AWbUotJQzYAs"
      },
      "execution_count": null,
      "outputs": []
    },
    {
      "cell_type": "code",
      "source": [
        "users.merge(messages, on='user_id', how=\"inner\")"
      ],
      "metadata": {
        "id": "_m2IlhQH0FWD"
      },
      "execution_count": null,
      "outputs": []
    },
    {
      "cell_type": "code",
      "source": [
        "users.merge(messages, on='user_id', how=\"left\")"
      ],
      "metadata": {
        "id": "wquvSTAG0Mo5"
      },
      "execution_count": null,
      "outputs": []
    },
    {
      "cell_type": "code",
      "source": [
        "users.merge(messages, on='user_id', how=\"right\")"
      ],
      "metadata": {
        "id": "d-ATNzKb0Zwi"
      },
      "execution_count": null,
      "outputs": []
    },
    {
      "cell_type": "code",
      "source": [
        "users.merge(messages, on='user_id', how=\"outer\") # full outer join"
      ],
      "metadata": {
        "id": "YTQvz00N3ODk"
      },
      "execution_count": null,
      "outputs": []
    },
    {
      "cell_type": "markdown",
      "source": [
        "When columns do not match"
      ],
      "metadata": {
        "id": "ag37YRUD4IDR"
      }
    },
    {
      "cell_type": "code",
      "source": [
        "users.rename(columns={'user_id': 'id'}, inplace=True)"
      ],
      "metadata": {
        "id": "gRw8pT_h347n"
      },
      "execution_count": null,
      "outputs": []
    },
    {
      "cell_type": "code",
      "source": [
        "users"
      ],
      "metadata": {
        "id": "aUfScrY14UyO"
      },
      "execution_count": null,
      "outputs": []
    },
    {
      "cell_type": "code",
      "source": [
        "users.merge(messages, left_on='id', right_on='user_id', how='inner')"
      ],
      "metadata": {
        "id": "9awnemFj4Vam"
      },
      "execution_count": null,
      "outputs": []
    }
  ]
}