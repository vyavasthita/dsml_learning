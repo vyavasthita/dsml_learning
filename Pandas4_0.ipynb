{
  "nbformat": 4,
  "nbformat_minor": 0,
  "metadata": {
    "colab": {
      "provenance": [],
      "authorship_tag": "ABX9TyMg1Ta/lB2kBpM7L262SRtk",
      "include_colab_link": true
    },
    "kernelspec": {
      "name": "python3",
      "display_name": "Python 3"
    },
    "language_info": {
      "name": "python"
    }
  },
  "cells": [
    {
      "cell_type": "markdown",
      "metadata": {
        "id": "view-in-github",
        "colab_type": "text"
      },
      "source": [
        "<a href=\"https://colab.research.google.com/github/vyavasthita/dsml_learning/blob/master/Pandas4_0.ipynb\" target=\"_parent\"><img src=\"https://colab.research.google.com/assets/colab-badge.svg\" alt=\"Open In Colab\"/></a>"
      ]
    },
    {
      "cell_type": "code",
      "source": [
        "!gdown 1s2TkjSpzNc4SyxqRrQleZyDIHlc7bxnd\n",
        "!gdown 1Ws-_s1fHZ9nHfGLVUQurbHDvStePlEJm"
      ],
      "metadata": {
        "id": "FzPGrTCueDPG"
      },
      "execution_count": null,
      "outputs": []
    },
    {
      "cell_type": "code",
      "source": [
        "import pandas as pd\n",
        "import numpy as np"
      ],
      "metadata": {
        "id": "8yQ9QVHFeoKM"
      },
      "execution_count": null,
      "outputs": []
    },
    {
      "cell_type": "code",
      "source": [
        "movies = pd.read_csv('movies.csv', index_col=0)\n",
        "directors = pd.read_csv('directors.csv', index_col=0)"
      ],
      "metadata": {
        "id": "jt3s1te-eDrZ"
      },
      "execution_count": null,
      "outputs": []
    },
    {
      "cell_type": "code",
      "source": [
        "movies.head()"
      ],
      "metadata": {
        "id": "QXO3Bwjfetfo"
      },
      "execution_count": null,
      "outputs": []
    },
    {
      "cell_type": "code",
      "source": [
        "directors.head()"
      ],
      "metadata": {
        "id": "VWnNMLJqeuj3"
      },
      "execution_count": null,
      "outputs": []
    },
    {
      "cell_type": "code",
      "source": [
        "data = movies.merge(directors, left_on='director_id', right_on='id', how='inner')"
      ],
      "metadata": {
        "id": "M6ufJzeWexs_"
      },
      "execution_count": null,
      "outputs": []
    },
    {
      "cell_type": "code",
      "source": [
        "data"
      ],
      "metadata": {
        "id": "ZJoQb55lhjjD"
      },
      "execution_count": null,
      "outputs": []
    },
    {
      "cell_type": "code",
      "source": [
        "data.drop(['director_id', 'id_y'], axis=1, inplace=True)"
      ],
      "metadata": {
        "id": "EQ0oonyEh0w3"
      },
      "execution_count": null,
      "outputs": []
    },
    {
      "cell_type": "code",
      "source": [
        "data"
      ],
      "metadata": {
        "id": "0ufeR0Dsh-zj"
      },
      "execution_count": null,
      "outputs": []
    },
    {
      "cell_type": "markdown",
      "source": [
        "Question 1: What is the total span of years covered by the movies dataset?\n",
        "calculated from its earliest to its latest release year?"
      ],
      "metadata": {
        "id": "looJobeYiFzU"
      }
    },
    {
      "cell_type": "code",
      "source": [
        "no_of_years = data['year'].max() - data['year'].min()\n",
        "no_of_years"
      ],
      "metadata": {
        "id": "GygltQp7h_mU"
      },
      "execution_count": null,
      "outputs": []
    },
    {
      "cell_type": "markdown",
      "source": [
        "Question 2: Using the movies data set, select the correct snippet that gives the release date in Day, Month, Year format.\n",
        "Example Date format: Thursday-Dec-2009"
      ],
      "metadata": {
        "id": "a-0GnqhQlWgE"
      }
    },
    {
      "cell_type": "code",
      "source": [
        "data['release_date'] = data['day'] + '-' + data['month'] + '-' + data['year'].astype('str')\n",
        "data['release_date']"
      ],
      "metadata": {
        "id": "_QBNs63NjPMQ"
      },
      "execution_count": null,
      "outputs": []
    },
    {
      "cell_type": "markdown",
      "source": [
        "Question 3: What is the % of male directors in the given data?"
      ],
      "metadata": {
        "id": "8LPZGFeony6v"
      }
    },
    {
      "cell_type": "code",
      "source": [
        "data['gender'].value_counts()"
      ],
      "metadata": {
        "id": "BPUN_7BXlgga"
      },
      "execution_count": null,
      "outputs": []
    },
    {
      "cell_type": "code",
      "source": [
        "males_count = len(data[data['gender'] == 'Male'])\n",
        "males_count\n",
        "male_directors = (males_count / len(data)) * 100\n",
        "male_directors = round(male_directors, 2)\n",
        "male_directors"
      ],
      "metadata": {
        "id": "UyEVlzFxn0wk"
      },
      "execution_count": null,
      "outputs": []
    },
    {
      "cell_type": "code",
      "source": [
        "data['gender'].isna().sum()"
      ],
      "metadata": {
        "id": "ib7vBXHmuBEe"
      },
      "execution_count": null,
      "outputs": []
    },
    {
      "cell_type": "code",
      "source": [
        "data['gender'].value_counts(normalize=True) * 100\n",
        "# here we get 97.61 not 89.35 because we did not subtract the count of na from the total count 1465.\n"
      ],
      "metadata": {
        "id": "v9vs7i37n5Gh"
      },
      "execution_count": null,
      "outputs": []
    },
    {
      "cell_type": "markdown",
      "source": [
        "Question 4: How many different movies were directed in the year 2010?"
      ],
      "metadata": {
        "id": "yZUceOq7uiAX"
      }
    },
    {
      "cell_type": "code",
      "source": [
        "len(data[data['year'] == 2010])"
      ],
      "metadata": {
        "id": "vdaOJwl4sb1i"
      },
      "execution_count": null,
      "outputs": []
    },
    {
      "cell_type": "markdown",
      "source": [
        "Question 5: How many different directors have directed a movie since 2010 (inclusive)?"
      ],
      "metadata": {
        "id": "0ulFHIj2vnt9"
      }
    }
  ]
}