{
  "nbformat": 4,
  "nbformat_minor": 0,
  "metadata": {
    "colab": {
      "provenance": [],
      "authorship_tag": "ABX9TyO0QtrlDKx+rz+d66ZaVeBr",
      "include_colab_link": true
    },
    "kernelspec": {
      "name": "python3",
      "display_name": "Python 3"
    },
    "language_info": {
      "name": "python"
    }
  },
  "cells": [
    {
      "cell_type": "markdown",
      "metadata": {
        "id": "view-in-github",
        "colab_type": "text"
      },
      "source": [
        "<a href=\"https://colab.research.google.com/github/vyavasthita/dsml_learning/blob/master/pandas/Pandas4_0.ipynb\" target=\"_parent\"><img src=\"https://colab.research.google.com/assets/colab-badge.svg\" alt=\"Open In Colab\"/></a>"
      ]
    },
    {
      "cell_type": "code",
      "source": [
        "!gdown 1s2TkjSpzNc4SyxqRrQleZyDIHlc7bxnd\n",
        "!gdown 1Ws-_s1fHZ9nHfGLVUQurbHDvStePlEJm"
      ],
      "metadata": {
        "id": "FzPGrTCueDPG"
      },
      "execution_count": null,
      "outputs": []
    },
    {
      "cell_type": "code",
      "source": [
        "import pandas as pd\n",
        "import numpy as np"
      ],
      "metadata": {
        "id": "8yQ9QVHFeoKM"
      },
      "execution_count": null,
      "outputs": []
    },
    {
      "cell_type": "code",
      "source": [
        "movies = pd.read_csv('movies.csv', index_col=0)\n",
        "directors = pd.read_csv('directors.csv', index_col=0)"
      ],
      "metadata": {
        "id": "jt3s1te-eDrZ"
      },
      "execution_count": null,
      "outputs": []
    },
    {
      "cell_type": "code",
      "source": [
        "movies.head()"
      ],
      "metadata": {
        "id": "QXO3Bwjfetfo"
      },
      "execution_count": null,
      "outputs": []
    },
    {
      "cell_type": "code",
      "source": [
        "directors.head()"
      ],
      "metadata": {
        "id": "VWnNMLJqeuj3"
      },
      "execution_count": null,
      "outputs": []
    },
    {
      "cell_type": "code",
      "source": [
        "data = movies.merge(directors, left_on='director_id', right_on='id', how='inner')"
      ],
      "metadata": {
        "id": "M6ufJzeWexs_"
      },
      "execution_count": null,
      "outputs": []
    },
    {
      "cell_type": "code",
      "source": [
        "data"
      ],
      "metadata": {
        "id": "ZJoQb55lhjjD"
      },
      "execution_count": null,
      "outputs": []
    },
    {
      "cell_type": "code",
      "source": [
        "data.drop(['director_id', 'id_y'], axis=1, inplace=True)"
      ],
      "metadata": {
        "id": "EQ0oonyEh0w3"
      },
      "execution_count": null,
      "outputs": []
    },
    {
      "cell_type": "code",
      "source": [
        "data"
      ],
      "metadata": {
        "id": "0ufeR0Dsh-zj"
      },
      "execution_count": null,
      "outputs": []
    },
    {
      "cell_type": "markdown",
      "source": [
        "Question 1: What is the total span of years covered by the movies dataset?\n",
        "calculated from its earliest to its latest release year?"
      ],
      "metadata": {
        "id": "looJobeYiFzU"
      }
    },
    {
      "cell_type": "code",
      "source": [
        "no_of_years = data['year'].max() - data['year'].min()\n",
        "no_of_years"
      ],
      "metadata": {
        "id": "GygltQp7h_mU"
      },
      "execution_count": null,
      "outputs": []
    },
    {
      "cell_type": "markdown",
      "source": [
        "Question 2: Using the movies data set, select the correct snippet that gives the release date in Day, Month, Year format.\n",
        "Example Date format: Thursday-Dec-2009"
      ],
      "metadata": {
        "id": "a-0GnqhQlWgE"
      }
    },
    {
      "cell_type": "code",
      "source": [
        "data['release_date'] = data['day'] + '-' + data['month'] + '-' + data['year'].astype('str')\n",
        "data['release_date']"
      ],
      "metadata": {
        "id": "_QBNs63NjPMQ"
      },
      "execution_count": null,
      "outputs": []
    },
    {
      "cell_type": "markdown",
      "source": [
        "Question 3: What is the % of male directors in the given data?"
      ],
      "metadata": {
        "id": "8LPZGFeony6v"
      }
    },
    {
      "cell_type": "code",
      "source": [
        "data['gender'].value_counts()"
      ],
      "metadata": {
        "id": "BPUN_7BXlgga"
      },
      "execution_count": null,
      "outputs": []
    },
    {
      "cell_type": "code",
      "source": [
        "males_count = len(data[data['gender'] == 'Male'])\n",
        "males_count\n",
        "male_directors = (males_count / len(data)) * 100\n",
        "male_directors = round(male_directors, 2)\n",
        "male_directors"
      ],
      "metadata": {
        "id": "UyEVlzFxn0wk"
      },
      "execution_count": null,
      "outputs": []
    },
    {
      "cell_type": "code",
      "source": [
        "data['gender'].isna().sum()"
      ],
      "metadata": {
        "id": "ib7vBXHmuBEe"
      },
      "execution_count": null,
      "outputs": []
    },
    {
      "cell_type": "code",
      "source": [
        "data['gender'].value_counts(normalize=True) * 100\n",
        "# here we get 97.61 not 89.35 because we did not subtract the count of na from the total count 1465.\n"
      ],
      "metadata": {
        "id": "v9vs7i37n5Gh"
      },
      "execution_count": null,
      "outputs": []
    },
    {
      "cell_type": "markdown",
      "source": [
        "Question 4: How many different movies were directed in the year 2010?"
      ],
      "metadata": {
        "id": "yZUceOq7uiAX"
      }
    },
    {
      "cell_type": "code",
      "source": [
        "len(data[data['year'] == 2010])"
      ],
      "metadata": {
        "id": "vdaOJwl4sb1i"
      },
      "execution_count": null,
      "outputs": []
    },
    {
      "cell_type": "markdown",
      "source": [
        "Question 5: How many different directors have directed a movie since 2010 (inclusive)?"
      ],
      "metadata": {
        "id": "0ulFHIj2vnt9"
      }
    },
    {
      "cell_type": "code",
      "source": [
        "data['year'] >= 2010"
      ],
      "metadata": {
        "id": "5525BnXSXBOO"
      },
      "execution_count": null,
      "outputs": []
    },
    {
      "cell_type": "code",
      "source": [
        "data[data['year'] >= 2010]"
      ],
      "metadata": {
        "id": "xf4Ap84eXP0d"
      },
      "execution_count": null,
      "outputs": []
    },
    {
      "cell_type": "code",
      "source": [
        "data[data['year'] >= 2010]['director_name'] # with duplicate director names"
      ],
      "metadata": {
        "id": "pCXdGmCNYZBP"
      },
      "execution_count": null,
      "outputs": []
    },
    {
      "cell_type": "code",
      "source": [
        "data[data['year'] >= 2010]['director_name'].unique()  # Unique director names"
      ],
      "metadata": {
        "id": "qUz3vMsqYcmd"
      },
      "execution_count": null,
      "outputs": []
    },
    {
      "cell_type": "code",
      "source": [
        "data[data['year'] >= 2010]['director_name'].nunique()  # Unique director count"
      ],
      "metadata": {
        "id": "5_ELQULhYhfU"
      },
      "execution_count": null,
      "outputs": []
    },
    {
      "cell_type": "markdown",
      "source": [
        "Question 7: Display the name of the director who directed the Spider-Man 3 movie."
      ],
      "metadata": {
        "id": "cCWX_JLidOi8"
      }
    },
    {
      "cell_type": "code",
      "source": [
        "data"
      ],
      "metadata": {
        "id": "NY-h0wNtYl3d"
      },
      "execution_count": null,
      "outputs": []
    },
    {
      "cell_type": "code",
      "source": [
        "data[data['title'] == 'Spider-Man 3']"
      ],
      "metadata": {
        "id": "Pig2cW_KdRun"
      },
      "execution_count": null,
      "outputs": []
    },
    {
      "cell_type": "code",
      "source": [
        "data[data['title'] == 'Spider-Man 3']['director_name']"
      ],
      "metadata": {
        "id": "XS2FOiJCdXUc"
      },
      "execution_count": null,
      "outputs": []
    },
    {
      "cell_type": "markdown",
      "source": [
        "Question 8: How many different movies have been directed by James Cameron between year 2005 to 2010?"
      ],
      "metadata": {
        "id": "pI5547JWee5K"
      }
    },
    {
      "cell_type": "code",
      "source": [
        "data['director_name'] == 'James Cameron'"
      ],
      "metadata": {
        "id": "qrUTx8l-f4hJ"
      },
      "execution_count": null,
      "outputs": []
    },
    {
      "cell_type": "code",
      "source": [
        "(data['director_name'] == 'James Cameron') & (data['year'] >= 2005)"
      ],
      "metadata": {
        "id": "jk9H3028f8Hj"
      },
      "execution_count": null,
      "outputs": []
    },
    {
      "cell_type": "code",
      "source": [
        "(data['director_name'] == 'James Cameron') & (data['year'] >= 2005) & (data['year'] <= 2010)"
      ],
      "metadata": {
        "id": "AFboRUP9gqDX"
      },
      "execution_count": null,
      "outputs": []
    },
    {
      "cell_type": "code",
      "source": [
        "data[(data['director_name'] == 'James Cameron') & (data['year'] >= 2005) & (data['year'] <= 2010)]"
      ],
      "metadata": {
        "id": "91-pdWTUehaW"
      },
      "execution_count": null,
      "outputs": []
    },
    {
      "cell_type": "code",
      "source": [
        "data[(data['director_name'] == 'James Cameron') & (data['year'] >= 2005) & (data['year'] <= 2010)]['title']"
      ],
      "metadata": {
        "id": "JlpMFc-JfhkV"
      },
      "execution_count": null,
      "outputs": []
    },
    {
      "cell_type": "code",
      "source": [
        "data[(data['director_name'] == 'James Cameron') & (data['year'] >= 2005) & (data['year'] <= 2010)]['title'][0]"
      ],
      "metadata": {
        "id": "KJFXTkgFnnAH"
      },
      "execution_count": null,
      "outputs": []
    },
    {
      "cell_type": "markdown",
      "source": [
        "Question 8.1: How many different movies have been directed by any director between the years 2005 to 2010?\n",
        "\n"
      ],
      "metadata": {
        "id": "HLvuHROceGA4"
      }
    },
    {
      "cell_type": "code",
      "source": [
        "def filter_movies(director_name, start_year, end_year):\n",
        "  movies_details = list()\n",
        "  director_movies = data[(data['director_name'] == director_name) & (data['year'] >= 2005) & (data['year'] <= 2010)]['title']\n",
        "  movies_details.append((director_name, director_movies))\n",
        "  return movies_details"
      ],
      "metadata": {
        "id": "blUoxzLlnqIZ"
      },
      "execution_count": null,
      "outputs": []
    },
    {
      "cell_type": "code",
      "source": [
        "filter_movies('Sam Mendes', 2005, 2010)"
      ],
      "metadata": {
        "id": "eZ7-L0fXev2B"
      },
      "execution_count": null,
      "outputs": []
    },
    {
      "cell_type": "code",
      "source": [
        "filter_movies('Dilip Sharma', 2005, 2010)"
      ],
      "metadata": {
        "id": "TLefapE6e8ZY"
      },
      "execution_count": null,
      "outputs": []
    },
    {
      "cell_type": "markdown",
      "source": [
        "Question 9: Among the top 10 most popular movies, which is the movie with the 2nd highest vote_avg?"
      ],
      "metadata": {
        "id": "1TRELxVoq9hn"
      }
    },
    {
      "cell_type": "code",
      "source": [
        "movies.head()"
      ],
      "metadata": {
        "id": "3ULqV2QPsEac"
      },
      "execution_count": null,
      "outputs": []
    },
    {
      "cell_type": "code",
      "source": [
        "top_10_popular_movies = movies.sort_values(by='popularity', ascending=False).head(10)"
      ],
      "metadata": {
        "id": "WH0LyPJcsGP1"
      },
      "execution_count": null,
      "outputs": []
    },
    {
      "cell_type": "code",
      "source": [
        "top_2_vote_avg_movies = top_10_popular_movies.sort_values(by='vote_average', ascending=False).head(2)"
      ],
      "metadata": {
        "id": "ukJf0_qisYYz"
      },
      "execution_count": null,
      "outputs": []
    },
    {
      "cell_type": "code",
      "source": [
        "top_2_vote_avg_movies.iloc[1]"
      ],
      "metadata": {
        "id": "trJKKYgCuqse"
      },
      "execution_count": null,
      "outputs": []
    },
    {
      "cell_type": "code",
      "source": [
        "top_2_vote_avg_movies.iloc[1]['title']"
      ],
      "metadata": {
        "id": "Y2Y18_g6uxiN"
      },
      "execution_count": null,
      "outputs": []
    },
    {
      "cell_type": "markdown",
      "source": [
        "Question 10:\n",
        "\n",
        "How many movies that are among the top 10 popular movies are also among the top 10 rated (vote_avg)?"
      ],
      "metadata": {
        "id": "1tYPFKa2vY3-"
      }
    },
    {
      "cell_type": "code",
      "source": [
        "top_10_most_popular_movies = data.sort_values(['popularity'],ascending=False).head(10)\n",
        "top_10_most_popular_movies['title']"
      ],
      "metadata": {
        "id": "gF2mkuUYu2uw"
      },
      "execution_count": null,
      "outputs": []
    },
    {
      "cell_type": "code",
      "source": [
        "top_10_most_rated_movies = data.sort_values(['vote_average'],ascending=False).head(10)\n",
        "top_10_most_rated_movies['title']\n",
        "\n",
        "top_10_most_rated_names = data.sort_values(by='vote_average',ascending=False).head(10)['title']"
      ],
      "metadata": {
        "id": "veaQ6IQsypFc"
      },
      "execution_count": null,
      "outputs": []
    },
    {
      "cell_type": "code",
      "source": [
        "(data['title'].isin(top_10_most_popular_movies)) & (data['title'].isin(top_10_most_rated_movies))"
      ],
      "metadata": {
        "id": "WCLEelR-yzSh"
      },
      "execution_count": null,
      "outputs": []
    },
    {
      "cell_type": "code",
      "source": [
        "data[(data['title'].isin(top_10_most_popular_movies)) & (data['title'].isin(top_10_most_rated_movies))]\n"
      ],
      "metadata": {
        "id": "BDFPk87WzaCW"
      },
      "execution_count": null,
      "outputs": []
    },
    {
      "cell_type": "markdown",
      "source": [
        "Question 11:\n",
        "\n",
        "In which year did Christopher Nolan produced most number of movies?"
      ],
      "metadata": {
        "id": "H_hW2Akw2Me0"
      }
    }
  ]
}