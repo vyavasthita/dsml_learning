{
  "nbformat": 4,
  "nbformat_minor": 0,
  "metadata": {
    "colab": {
      "provenance": [],
      "authorship_tag": "ABX9TyOdWbJz9/zBfcDKyt3AcRBd",
      "include_colab_link": true
    },
    "kernelspec": {
      "name": "python3",
      "display_name": "Python 3"
    },
    "language_info": {
      "name": "python"
    }
  },
  "cells": [
    {
      "cell_type": "markdown",
      "metadata": {
        "id": "view-in-github",
        "colab_type": "text"
      },
      "source": [
        "<a href=\"https://colab.research.google.com/github/vyavasthita/dsml_learning/blob/master/pandas/2_pandas.ipynb\" target=\"_parent\"><img src=\"https://colab.research.google.com/assets/colab-badge.svg\" alt=\"Open In Colab\"/></a>"
      ]
    },
    {
      "cell_type": "code",
      "execution_count": null,
      "metadata": {
        "id": "5QZ6J5x_71Dt"
      },
      "outputs": [],
      "source": [
        "import numpy as np\n",
        "import pandas as pd"
      ]
    },
    {
      "cell_type": "code",
      "source": [
        "!gdown 1E3bwvYGf1ig32RmcYiWc0IXPN-mD_bI_"
      ],
      "metadata": {
        "id": "MhJ76Yim8TM0"
      },
      "execution_count": null,
      "outputs": []
    },
    {
      "cell_type": "code",
      "source": [
        "df = pd.read_csv('mckinsey.csv')\n",
        "df['country']\n",
        "df.head()"
      ],
      "metadata": {
        "id": "I0OjN0_x8Zz5"
      },
      "execution_count": null,
      "outputs": []
    },
    {
      "cell_type": "markdown",
      "source": [
        "df[0] will not work because pandas will try to look for a column named 0 in the data frame, which does not exist, so it will throw an error.\n",
        "\n",
        "But slicing like df[0:4] will work, and it will fetch the first 4 rows."
      ],
      "metadata": {
        "id": "GsDm20FH8__l"
      }
    },
    {
      "cell_type": "code",
      "source": [
        "# df[0]"
      ],
      "metadata": {
        "id": "DnOhB6EO8kAL"
      },
      "execution_count": null,
      "outputs": []
    },
    {
      "cell_type": "code",
      "source": [
        "df[0:4]"
      ],
      "metadata": {
        "id": "Aolmcsgz9KFB"
      },
      "execution_count": null,
      "outputs": []
    },
    {
      "cell_type": "code",
      "source": [
        "df.index  # implicit index"
      ],
      "metadata": {
        "id": "MGjSc5x-9Z46"
      },
      "execution_count": null,
      "outputs": []
    },
    {
      "cell_type": "code",
      "source": [
        "df.index = np.arange(10, 1714)\n",
        "df"
      ],
      "metadata": {
        "id": "xDkXnyJt9fyC"
      },
      "execution_count": null,
      "outputs": []
    },
    {
      "cell_type": "markdown",
      "source": [
        "loc: explicit indexing, end is inclusive\n",
        "iloc: implicit indexing, end is NOT inclusive"
      ],
      "metadata": {
        "id": "d_25wiCynHIQ"
      }
    },
    {
      "cell_type": "code",
      "source": [
        "# df.loc[1] # will not work because the explicit indexing starts from 10 in the\n",
        "# above example\n",
        "df.iloc[1] # this will work because implicit indexing always starts from 0"
      ],
      "metadata": {
        "id": "588UG0Tx90HM"
      },
      "execution_count": null,
      "outputs": []
    },
    {
      "cell_type": "code",
      "source": [
        "df.iloc[-1]"
      ],
      "metadata": {
        "id": "wn2Pll9es599"
      },
      "execution_count": null,
      "outputs": []
    },
    {
      "cell_type": "code",
      "source": [
        "# df.loc[-1]  # will not work because the explicit indexing does not have -1"
      ],
      "metadata": {
        "id": "MxIuREcivAK4"
      },
      "execution_count": null,
      "outputs": []
    },
    {
      "cell_type": "code",
      "source": [
        "df.iloc[[3, 4, 5]]"
      ],
      "metadata": {
        "id": "ON_R8MbCxwHi"
      },
      "execution_count": null,
      "outputs": []
    },
    {
      "cell_type": "code",
      "source": [
        "df['continent'] == 'Asia'"
      ],
      "metadata": {
        "id": "Z4bXQ7iK3P2D"
      },
      "execution_count": null,
      "outputs": []
    },
    {
      "cell_type": "code",
      "source": [
        "df.loc[df['continent'] == 'Asia']"
      ],
      "metadata": {
        "id": "bdw_ClJywMXx"
      },
      "execution_count": null,
      "outputs": []
    },
    {
      "cell_type": "code",
      "source": [
        "temp_df = df.set_index('country')\n",
        "temp_df\n",
        "# temp_df.loc['Afghanistan']"
      ],
      "metadata": {
        "id": "B8J1x5a4wM5G"
      },
      "execution_count": null,
      "outputs": []
    },
    {
      "cell_type": "code",
      "source": [
        "# reset index back to 0\n",
        "df.reset_index()  # it does not change the original df also it will show the old indexing under the index column"
      ],
      "metadata": {
        "id": "g1zScweRwQDX"
      },
      "execution_count": null,
      "outputs": []
    },
    {
      "cell_type": "markdown",
      "source": [
        "To change the original df we need to use inplace = True\n",
        "To remove the old indexing, we need to use drop = True"
      ],
      "metadata": {
        "id": "mPNTJJt6NP4M"
      }
    },
    {
      "cell_type": "code",
      "source": [
        "df.reset_index(inplace=True, drop=True)\n",
        "df"
      ],
      "metadata": {
        "id": "uK0SlcFi0ghB"
      },
      "execution_count": null,
      "outputs": []
    },
    {
      "cell_type": "markdown",
      "source": [
        "To create a new row, we can not use iloc, as it will throw an error if the index is not present.\n",
        "For this, we need to use loc"
      ],
      "metadata": {
        "id": "An-LDn71Trli"
      }
    },
    {
      "cell_type": "code",
      "source": [
        "# df.iloc[len(df)] = ['Bharat', 2009, 234567, 'Asia', 44.44, 567.987] # throws\n",
        "# error"
      ],
      "metadata": {
        "id": "ru0iZs11T2mK"
      },
      "execution_count": null,
      "outputs": []
    },
    {
      "cell_type": "code",
      "source": [
        "\n",
        "df.loc[len(df)] = ['Bharat', 2009, 234567, 'Asia', 44.44, 567.987]  # create a new row\n",
        "df"
      ],
      "metadata": {
        "id": "AB_JlafdSZtx"
      },
      "execution_count": null,
      "outputs": []
    },
    {
      "cell_type": "markdown",
      "source": [
        "If we use the existing index in loc or iloc, then the row will be updated.\n",
        "\n",
        "So, for adding a new row, we need to use loc.\n",
        "\n",
        "For updating an existing row, we can use either loc or iloc."
      ],
      "metadata": {
        "id": "CVd590TQbeWr"
      }
    },
    {
      "cell_type": "code",
      "source": [
        "# Add duplicate records\n",
        "df.loc[len(df)] = ['India', 2009, 234567, 'Asia', 44.44, 567.987]\n",
        "df.loc[len(df)] = ['India', 2009, 234567, 'Asia', 44.44, 567.987]\n",
        "df.loc[len(df)] = ['India', 2009, 234567, 'Asia', 44.44, 567.987]\n",
        "df.loc[len(df)] = ['India', 2009, 234567, 'Asia', 44.44, 567.987]\n",
        "df.loc[len(df)] = ['India', 2009, 234567, 'Asia', 44.44, 567.987]\n",
        "df"
      ],
      "metadata": {
        "id": "GEpflvNBSmBo"
      },
      "execution_count": null,
      "outputs": []
    },
    {
      "cell_type": "code",
      "source": [
        "# Remove duplicate rows\n",
        "# df.drop([1709, 1710, 1711, 1712, 1713, 1714, 1715, 1716, 1717, 1718])\n",
        "df"
      ],
      "metadata": {
        "id": "p_8L6Vy5cFF5"
      },
      "execution_count": null,
      "outputs": []
    },
    {
      "cell_type": "code",
      "source": [
        "# Finding the duplicates\n",
        "df.duplicated()"
      ],
      "metadata": {
        "id": "miuNm1ekcnoN"
      },
      "execution_count": null,
      "outputs": []
    },
    {
      "cell_type": "code",
      "source": [
        "df[df.duplicated()] # search and print duplicates"
      ],
      "metadata": {
        "id": "ywQRBb4vUo2a"
      },
      "execution_count": null,
      "outputs": []
    },
    {
      "cell_type": "code",
      "source": [
        "# Drop duplicates (Search + delete)\n",
        "df.drop_duplicates()"
      ],
      "metadata": {
        "id": "9mKKm5clVDqp"
      },
      "execution_count": null,
      "outputs": []
    },
    {
      "cell_type": "code",
      "source": [
        "df.drop_duplicates(keep='last')"
      ],
      "metadata": {
        "id": "Ca2jXhOWVfFs"
      },
      "execution_count": null,
      "outputs": []
    },
    {
      "cell_type": "code",
      "source": [
        "df.drop_duplicates(keep='first', inplace=True)"
      ],
      "metadata": {
        "id": "3hwZJpAnW8ne"
      },
      "execution_count": null,
      "outputs": []
    },
    {
      "cell_type": "code",
      "source": [
        "df"
      ],
      "metadata": {
        "id": "E6J6HEZIXdVa"
      },
      "execution_count": null,
      "outputs": []
    },
    {
      "cell_type": "markdown",
      "source": [
        "By default, duplicates will include all columns for comparing the duplicates.\n",
        "\n",
        "If we use subset argument, then it will only use columns mentioned in subset for checking duplicates.\n",
        "\n",
        "In the example below, it will check only columns A and B and compare the consolidated values of A and B.\n",
        "\n",
        "subset=['A', 'B'] will return Bool array.\n",
        "\n",
        "Sum will sum True(1) and will output 2 as there are two combinations (index 4 & 6) of the same rows with columns A and B.\n"
      ],
      "metadata": {
        "id": "scEELPJ7ZLwW"
      }
    },
    {
      "cell_type": "code",
      "source": [
        "data = {'A': ['foo', 'bar', 'foo', 'bar', 'foo', 'bar', 'foo', 'foo'],\n",
        "        'B': ['one', 'one', 'two', 'three', 'two', 'two', 'one', 'three'],\n",
        "        'C': ['small', 'large', 'large', 'small', 'small', 'large', 'large', 'small'],\n",
        "        'D': [1, 2, 2, 3, 3, 4, 5, 6]}\n",
        "\n",
        "df2 = pd.DataFrame(data)\n",
        "\n",
        "print(sum(df2.duplicated(subset=['A', 'B'])))"
      ],
      "metadata": {
        "id": "IiKthmHEXeFL"
      },
      "execution_count": null,
      "outputs": []
    },
    {
      "cell_type": "code",
      "source": [
        "df2.duplicated(subset=['A', 'B'])"
      ],
      "metadata": {
        "id": "F38Z6aQEaOD5"
      },
      "execution_count": null,
      "outputs": []
    },
    {
      "cell_type": "code",
      "source": [
        "df = pd.read_csv('mckinsey.csv')"
      ],
      "metadata": {
        "id": "bHTFaAGQaOjy"
      },
      "execution_count": null,
      "outputs": []
    },
    {
      "cell_type": "markdown",
      "source": [
        "Slicing on DF"
      ],
      "metadata": {
        "id": "LOZzbx8mzt3A"
      }
    },
    {
      "cell_type": "code",
      "source": [
        "# By default implicit and explicit indexes are same\n",
        "df.loc[1]"
      ],
      "metadata": {
        "id": "V6i_TidWyttE"
      },
      "execution_count": null,
      "outputs": []
    },
    {
      "cell_type": "code",
      "source": [
        "df.iloc[1]"
      ],
      "metadata": {
        "id": "vqBWwnUm0Hr5"
      },
      "execution_count": null,
      "outputs": []
    },
    {
      "cell_type": "markdown",
      "source": [
        "When we use `loc`, the slicing works only on rows, not on columns.\n"
      ],
      "metadata": {
        "id": "7kFpBeUI1B9x"
      }
    },
    {
      "cell_type": "code",
      "source": [
        "# df.loc[0:2, 1:3]"
      ],
      "metadata": {
        "id": "zr9sV16W0nTm"
      },
      "execution_count": null,
      "outputs": []
    },
    {
      "cell_type": "markdown",
      "source": [
        "When we use iloc, the slicing works both on rows and columns."
      ],
      "metadata": {
        "id": "FZkmp1re1Zdq"
      }
    },
    {
      "cell_type": "code",
      "source": [
        "df.iloc[0:2, 1:3]"
      ],
      "metadata": {
        "id": "g6MkiM1y1Vbm"
      },
      "execution_count": null,
      "outputs": []
    },
    {
      "cell_type": "markdown",
      "source": [
        "For columns with loc, we need to explicity use the name of the columns with slicing."
      ],
      "metadata": {
        "id": "B5-NpUbE1iLp"
      }
    },
    {
      "cell_type": "code",
      "source": [
        "df.loc[0:2, 'year':'life_exp'] # columns starting from year till life_exp"
      ],
      "metadata": {
        "id": "Ym66Uyyy1gaL"
      },
      "execution_count": null,
      "outputs": []
    },
    {
      "cell_type": "code",
      "source": [
        "df.loc[0:2, ['year','life_exp']] # only columns year and life_exp"
      ],
      "metadata": {
        "id": "NkOq7keA1xtA"
      },
      "execution_count": null,
      "outputs": []
    },
    {
      "cell_type": "code",
      "source": [
        "df.iloc[0:5:2, 1:4]"
      ],
      "metadata": {
        "id": "zPootKaz9Hww"
      },
      "execution_count": null,
      "outputs": []
    },
    {
      "cell_type": "code",
      "source": [
        "df.loc[0:2, 'year':'gdp_cap': 2]"
      ],
      "metadata": {
        "id": "aSfBQrnZ_bi1"
      },
      "execution_count": null,
      "outputs": []
    },
    {
      "cell_type": "code",
      "source": [
        "print(df['life_exp'].mean())"
      ],
      "metadata": {
        "id": "oDnShIiwFebJ"
      },
      "execution_count": null,
      "outputs": []
    },
    {
      "cell_type": "code",
      "source": [
        "df['life_exp'].min()"
      ],
      "metadata": {
        "id": "pV3U6kYaGK5d"
      },
      "execution_count": null,
      "outputs": []
    },
    {
      "cell_type": "code",
      "source": [
        "np.min(df['life_exp']) # Series is 1D array and we can use numpy also"
      ],
      "metadata": {
        "id": "ffdKtJUxGXHP"
      },
      "execution_count": null,
      "outputs": []
    },
    {
      "cell_type": "code",
      "source": [
        "df.sort_values('life_exp', ascending=False)"
      ],
      "metadata": {
        "id": "7y4Ng7iKGf4X"
      },
      "execution_count": null,
      "outputs": []
    },
    {
      "cell_type": "code",
      "source": [
        "df.sort_values(['year', 'life_exp'], ascending=[False, True])"
      ],
      "metadata": {
        "id": "rITCQvbpHDIa"
      },
      "execution_count": null,
      "outputs": []
    },
    {
      "cell_type": "code",
      "source": [
        "df.sort_values(['year', 'life_exp'], ascending=[False, True]).reset_index(drop=True, inplace=True)"
      ],
      "metadata": {
        "id": "i8eAf5B2HWGs"
      },
      "execution_count": null,
      "outputs": []
    },
    {
      "cell_type": "code",
      "source": [
        "df.to_csv('output.csv', index=False)"
      ],
      "metadata": {
        "id": "hED_Lw5eIMRe"
      },
      "execution_count": null,
      "outputs": []
    },
    {
      "cell_type": "markdown",
      "source": [
        "Concatenation"
      ],
      "metadata": {
        "id": "hpnErDx0J15n"
      }
    },
    {
      "cell_type": "code",
      "source": [
        "users = pd.DataFrame(\n",
        "    {\n",
        "        'user_id': [101, 102, 103],\n",
        "        \"names\": [\"Samskriti\", \"Sabhyata\", \"Aarush\"]\n",
        "    }\n",
        ")\n",
        "users"
      ],
      "metadata": {
        "id": "J84Tp0EUIiLL"
      },
      "execution_count": null,
      "outputs": []
    },
    {
      "cell_type": "code",
      "source": [
        "messages = pd.DataFrame(\n",
        "    {\n",
        "        'user_id': [101, 102, 103, 104],\n",
        "        \"msgs\": [\"Namaste\", \"Kaise Ho\", \"Mein Accha Hoon\", \"Kaha Ho\"]\n",
        "    }\n",
        ")\n",
        "messages"
      ],
      "metadata": {
        "id": "u2wU5Cu6x4DQ"
      },
      "execution_count": null,
      "outputs": []
    },
    {
      "cell_type": "code",
      "source": [
        "pd.concat([users, messages])"
      ],
      "metadata": {
        "id": "LmrcwN5SzehO"
      },
      "execution_count": null,
      "outputs": []
    },
    {
      "cell_type": "code",
      "source": [],
      "metadata": {
        "id": "VDHbROi5zj4W"
      },
      "execution_count": null,
      "outputs": []
    }
  ]
}