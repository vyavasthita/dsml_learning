{
  "nbformat": 4,
  "nbformat_minor": 0,
  "metadata": {
    "colab": {
      "provenance": [],
      "authorship_tag": "ABX9TyOX1VZKd1KHaU2E2YxXErcN",
      "include_colab_link": true
    },
    "kernelspec": {
      "name": "python3",
      "display_name": "Python 3"
    },
    "language_info": {
      "name": "python"
    }
  },
  "cells": [
    {
      "cell_type": "markdown",
      "metadata": {
        "id": "view-in-github",
        "colab_type": "text"
      },
      "source": [
        "<a href=\"https://colab.research.google.com/github/vyavasthita/dsml_learning/blob/master/pandas/pfizer_case_study.ipynb\" target=\"_parent\"><img src=\"https://colab.research.google.com/assets/colab-badge.svg\" alt=\"Open In Colab\"/></a>"
      ]
    },
    {
      "cell_type": "code",
      "source": [
        "!gdown 173A59xh2mnpmljCCB9bhC4C5eP2IS6qZ"
      ],
      "metadata": {
        "id": "4v-37wU5C3lS"
      },
      "execution_count": null,
      "outputs": []
    },
    {
      "cell_type": "code",
      "source": [
        "import pandas as pd"
      ],
      "metadata": {
        "id": "5AlI_lJVCyB6"
      },
      "execution_count": null,
      "outputs": []
    },
    {
      "cell_type": "code",
      "source": [
        "data = pd.read_csv('Pfizer_1.csv')"
      ],
      "metadata": {
        "id": "P3u3DRL2DHaY"
      },
      "execution_count": null,
      "outputs": []
    },
    {
      "cell_type": "code",
      "source": [
        "data.head()"
      ],
      "metadata": {
        "id": "QVuzsJwpDLlh"
      },
      "execution_count": null,
      "outputs": []
    },
    {
      "cell_type": "code",
      "source": [
        "data.shape"
      ],
      "metadata": {
        "id": "IJoxLHqgDF0U"
      },
      "execution_count": null,
      "outputs": []
    },
    {
      "cell_type": "code",
      "source": [
        "data.info()"
      ],
      "metadata": {
        "id": "VHv8Jbn1DGa1"
      },
      "execution_count": null,
      "outputs": []
    },
    {
      "cell_type": "markdown",
      "source": [
        "# Melting\n",
        "Convert columns to rows."
      ],
      "metadata": {
        "id": "Ekq0AX5dD0kb"
      }
    },
    {
      "cell_type": "markdown",
      "source": [
        "\n",
        "Structure the data in a more readable form."
      ],
      "metadata": {
        "id": "nY-fmMSEDnCd"
      }
    },
    {
      "cell_type": "code",
      "source": [
        "pd.melt(data, id_vars=['Date', 'Drug_Name', 'Parameter'])"
      ],
      "metadata": {
        "id": "v-ymDhG9DX1D"
      },
      "execution_count": null,
      "outputs": []
    },
    {
      "cell_type": "markdown",
      "source": [
        "Use proper name for generated columns variable and value"
      ],
      "metadata": {
        "id": "se0PJ4ywEpxD"
      }
    },
    {
      "cell_type": "code",
      "source": [
        "data_melt = pd.melt(data, id_vars=['Date', 'Drug_Name', 'Parameter'], var_name='time', value_name='reading')\n",
        "data_melt"
      ],
      "metadata": {
        "id": "TRzKaJFJEcaG"
      },
      "execution_count": null,
      "outputs": []
    },
    {
      "cell_type": "code",
      "source": [],
      "metadata": {
        "id": "yctBI6xVE3Tq"
      },
      "execution_count": null,
      "outputs": []
    }
  ]
}