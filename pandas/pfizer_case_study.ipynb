{
  "nbformat": 4,
  "nbformat_minor": 0,
  "metadata": {
    "colab": {
      "provenance": [],
      "authorship_tag": "ABX9TyMyspc9KJLnCn81D/wBd8cS",
      "include_colab_link": true
    },
    "kernelspec": {
      "name": "python3",
      "display_name": "Python 3"
    },
    "language_info": {
      "name": "python"
    }
  },
  "cells": [
    {
      "cell_type": "markdown",
      "metadata": {
        "id": "view-in-github",
        "colab_type": "text"
      },
      "source": [
        "<a href=\"https://colab.research.google.com/github/vyavasthita/dsml_learning/blob/master/pandas/pfizer_case_study.ipynb\" target=\"_parent\"><img src=\"https://colab.research.google.com/assets/colab-badge.svg\" alt=\"Open In Colab\"/></a>"
      ]
    },
    {
      "cell_type": "code",
      "source": [
        "!gdown 173A59xh2mnpmljCCB9bhC4C5eP2IS6qZ"
      ],
      "metadata": {
        "id": "4v-37wU5C3lS"
      },
      "execution_count": null,
      "outputs": []
    },
    {
      "cell_type": "code",
      "source": [
        "import pandas as pd\n",
        "import numpy as np"
      ],
      "metadata": {
        "id": "5AlI_lJVCyB6"
      },
      "execution_count": null,
      "outputs": []
    },
    {
      "cell_type": "code",
      "source": [
        "data = pd.read_csv('Pfizer_1.csv')"
      ],
      "metadata": {
        "id": "P3u3DRL2DHaY"
      },
      "execution_count": null,
      "outputs": []
    },
    {
      "cell_type": "code",
      "source": [
        "data.head()"
      ],
      "metadata": {
        "id": "QVuzsJwpDLlh"
      },
      "execution_count": null,
      "outputs": []
    },
    {
      "cell_type": "code",
      "source": [
        "data.shape"
      ],
      "metadata": {
        "id": "IJoxLHqgDF0U"
      },
      "execution_count": null,
      "outputs": []
    },
    {
      "cell_type": "code",
      "source": [
        "data.info()"
      ],
      "metadata": {
        "id": "VHv8Jbn1DGa1"
      },
      "execution_count": null,
      "outputs": []
    },
    {
      "cell_type": "markdown",
      "source": [
        "# Melting\n",
        "Convert columns to rows."
      ],
      "metadata": {
        "id": "Ekq0AX5dD0kb"
      }
    },
    {
      "cell_type": "markdown",
      "source": [
        "\n",
        "Structure the data in a more readable form."
      ],
      "metadata": {
        "id": "nY-fmMSEDnCd"
      }
    },
    {
      "cell_type": "code",
      "source": [
        "pd.melt(data, id_vars=['Date', 'Drug_Name', 'Parameter']).head(20)"
      ],
      "metadata": {
        "id": "v-ymDhG9DX1D"
      },
      "execution_count": null,
      "outputs": []
    },
    {
      "cell_type": "markdown",
      "source": [
        "Use proper name for generated columns variable and value"
      ],
      "metadata": {
        "id": "se0PJ4ywEpxD"
      }
    },
    {
      "cell_type": "code",
      "source": [
        "data_melt = pd.melt(data, id_vars=['Date', 'Drug_Name', 'Parameter'], var_name='time', value_name='reading')\n",
        "data_melt"
      ],
      "metadata": {
        "id": "TRzKaJFJEcaG"
      },
      "execution_count": null,
      "outputs": []
    },
    {
      "cell_type": "markdown",
      "source": [
        "# Pivoting\n",
        "### Opposite of Melting"
      ],
      "metadata": {
        "id": "MZUuKnVEgOz6"
      }
    },
    {
      "cell_type": "code",
      "source": [
        "data_melt.pivot(index=['Date', 'Drug_Name', 'Parameter'], columns='time', values='reading')"
      ],
      "metadata": {
        "id": "CMS1PVkd4-DU"
      },
      "execution_count": null,
      "outputs": []
    },
    {
      "cell_type": "code",
      "source": [
        "data_melt.pivot(index=['Date', 'Drug_Name', 'Parameter'], columns='time', values='reading').reset_index()"
      ],
      "metadata": {
        "id": "yctBI6xVE3Tq"
      },
      "execution_count": null,
      "outputs": []
    },
    {
      "cell_type": "markdown",
      "source": [
        "\n",
        " We can see the column parameter has two values, pressure and temperature and they are getting repeated.\n",
        "\n",
        "We can convert these two values to two columns using Pivoting."
      ],
      "metadata": {
        "id": "atoDlZTNikIU"
      }
    },
    {
      "cell_type": "code",
      "source": [
        "data_melt"
      ],
      "metadata": {
        "id": "t1LxTkYolSXj"
      },
      "execution_count": null,
      "outputs": []
    },
    {
      "cell_type": "code",
      "source": [
        "data_tidy = data_melt.pivot(index=['time', 'Date', 'Drug_Name'], columns='Parameter', values='reading')\n",
        "data_tidy"
      ],
      "metadata": {
        "id": "KDj-U5s2g6W7"
      },
      "execution_count": null,
      "outputs": []
    },
    {
      "cell_type": "code",
      "source": [
        "data_tidy.reset_index(inplace=True)\n",
        "data_tidy"
      ],
      "metadata": {
        "id": "UERRBAckjOzu"
      },
      "execution_count": null,
      "outputs": []
    },
    {
      "cell_type": "markdown",
      "source": [
        "Categorising temperature values into different readable texts.\n",
        "\n",
        "So we need to convert numerical data to different bins."
      ],
      "metadata": {
        "id": "UCo9Ew97mJMy"
      }
    },
    {
      "cell_type": "code",
      "source": [
        "# first find out the min and max values of Temperature"
      ],
      "metadata": {
        "id": "Dg_GxD0ZkZ0A"
      },
      "execution_count": null,
      "outputs": []
    },
    {
      "cell_type": "code",
      "source": [
        "data_tidy['Temperature'].min()"
      ],
      "metadata": {
        "id": "GYdcnNfCn454"
      },
      "execution_count": null,
      "outputs": []
    },
    {
      "cell_type": "code",
      "source": [
        "data_tidy['Temperature'].max()"
      ],
      "metadata": {
        "id": "5j_W34Tzn9Hs"
      },
      "execution_count": null,
      "outputs": []
    },
    {
      "cell_type": "code",
      "source": [
        "temp_points = [5, 20, 35, 50, 60]\n",
        "temp_labels = ['low', 'medium', 'high', 'very high']\n",
        "# (5, 20] exclude 5 and include 20 --> low\n",
        "# (20, 35] starting 21 and ending 34 --> medium"
      ],
      "metadata": {
        "id": "coxLfeasn_Ud"
      },
      "execution_count": null,
      "outputs": []
    },
    {
      "cell_type": "code",
      "source": [
        "data_tidy['temp_cat'] = pd.cut(data_tidy['Temperature'], bins=temp_points, labels=temp_labels)\n",
        "data_tidy"
      ],
      "metadata": {
        "id": "KIJhk8j9ov3C"
      },
      "execution_count": null,
      "outputs": []
    },
    {
      "cell_type": "code",
      "source": [
        "data_tidy['temp_cat'].value_counts()"
      ],
      "metadata": {
        "id": "sm6kQcpLpEwp"
      },
      "execution_count": null,
      "outputs": []
    },
    {
      "cell_type": "markdown",
      "source": [
        "# Missing Values\n",
        "NaN vs None\n",
        "Nan => Not a Number, used to represent numerical columns (int and float)\n",
        "None => Used to represent missing values in non-numerical columns (string)\n",
        "\n",
        "If we use None in a numerical column, it will automatically get converted to NaN"
      ],
      "metadata": {
        "id": "iE-kggjhrWyi"
      }
    },
    {
      "cell_type": "code",
      "source": [
        "pd.Series([1, np.nan, 3, None])"
      ],
      "metadata": {
        "id": "79AtxuoOqj0t"
      },
      "execution_count": null,
      "outputs": []
    },
    {
      "cell_type": "code",
      "source": [
        "data.isna() # Count missing values"
      ],
      "metadata": {
        "id": "1L2QVRwUs4Nn"
      },
      "execution_count": null,
      "outputs": []
    },
    {
      "cell_type": "code",
      "source": [
        "data.isnull() # just an alias for isna"
      ],
      "metadata": {
        "id": "LmuNsItKwPp_"
      },
      "execution_count": null,
      "outputs": []
    },
    {
      "cell_type": "code",
      "source": [
        "# Count the missing values\n",
        "# We can not use value_counts() because we need to use it for all columns\n",
        "data.isna().sum() # sum of column values (axis = 0 by default)"
      ],
      "metadata": {
        "id": "TIBOEOtswRg0"
      },
      "execution_count": null,
      "outputs": []
    },
    {
      "cell_type": "code",
      "source": [
        "# Row wise missing count\n",
        "data.isna().sum(axis = 1) # sum of row values"
      ],
      "metadata": {
        "id": "gFpMTZPVxPsE"
      },
      "execution_count": null,
      "outputs": []
    },
    {
      "cell_type": "markdown",
      "source": [
        "So far, we have found out the missing values, now we need to decide what to do with the missing values.\n",
        "Dealing with missing values."
      ],
      "metadata": {
        "id": "5KKgCJmIkEGI"
      }
    },
    {
      "cell_type": "code",
      "source": [
        "# Option 1 (if na count is very very low, we can simply drop them as the remaining data is large enough and deleting a few will not impact the result.)\n",
        "data.dropna() # remove row if any columns contains na"
      ],
      "metadata": {
        "id": "tdpDJ4BHxvuH"
      },
      "execution_count": null,
      "outputs": []
    },
    {
      "cell_type": "code",
      "source": [
        "data.dropna(axis=1) # drop columns having na"
      ],
      "metadata": {
        "id": "gLNtT0rmoIlK"
      },
      "execution_count": null,
      "outputs": []
    },
    {
      "cell_type": "markdown",
      "source": [
        "But we will lose lots of data here if we drop because our dataset is very, very small with just 18 rows. So, drop will not be the right choice here.\n",
        "\n",
        "We need to use **data imputation** => mean, mode, median, 0, custom values etc."
      ],
      "metadata": {
        "id": "Cm7gcEe8ok5W"
      }
    },
    {
      "cell_type": "code",
      "source": [],
      "metadata": {
        "id": "3bmDYLyUogr7"
      },
      "execution_count": null,
      "outputs": []
    }
  ]
}