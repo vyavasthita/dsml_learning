{
  "nbformat": 4,
  "nbformat_minor": 0,
  "metadata": {
    "colab": {
      "provenance": [],
      "authorship_tag": "ABX9TyMbMKCtsnZv6pp0gv680YHb",
      "include_colab_link": true
    },
    "kernelspec": {
      "name": "python3",
      "display_name": "Python 3"
    },
    "language_info": {
      "name": "python"
    }
  },
  "cells": [
    {
      "cell_type": "markdown",
      "metadata": {
        "id": "view-in-github",
        "colab_type": "text"
      },
      "source": [
        "<a href=\"https://colab.research.google.com/github/vyavasthita/dsml_learning/blob/master/pandas/movies_case_study.ipynb\" target=\"_parent\"><img src=\"https://colab.research.google.com/assets/colab-badge.svg\" alt=\"Open In Colab\"/></a>"
      ]
    },
    {
      "cell_type": "code",
      "execution_count": null,
      "metadata": {
        "id": "Oqge46hqTjao"
      },
      "outputs": [],
      "source": [
        "import pandas as pd"
      ]
    },
    {
      "cell_type": "code",
      "source": [
        "!gdown 1s2TkjSpzNc4SyxqRrQleZyDIHlc7bxnd"
      ],
      "metadata": {
        "id": "qDmhm5a-KZFd"
      },
      "execution_count": null,
      "outputs": []
    },
    {
      "cell_type": "code",
      "source": [
        "!gdown 1Ws-_s1fHZ9nHfGLVUQurbHDvStePlEJm"
      ],
      "metadata": {
        "id": "VjqfvsQQKZpV"
      },
      "execution_count": null,
      "outputs": []
    },
    {
      "cell_type": "code",
      "source": [
        "movies = pd.read_csv(\"movies.csv\", index_col=0)\n",
        "directors = pd.read_csv(\"directors.csv\", index_col=0)"
      ],
      "metadata": {
        "id": "rMocf8Y0PisO"
      },
      "execution_count": null,
      "outputs": []
    },
    {
      "cell_type": "code",
      "source": [
        "movies.head()"
      ],
      "metadata": {
        "id": "LY1m8iQZPqdJ"
      },
      "execution_count": null,
      "outputs": []
    },
    {
      "cell_type": "code",
      "source": [
        "directors.head()"
      ],
      "metadata": {
        "id": "viP6yoMYPrzP"
      },
      "execution_count": null,
      "outputs": []
    },
    {
      "cell_type": "code",
      "source": [
        "data = movies.merge(directors, left_on='director_id', right_on='id', how='left')\n",
        "data.drop(['director_id', 'id_y'], axis=1, inplace=True)\n",
        "data"
      ],
      "metadata": {
        "id": "NFN-Dym0PtzW"
      },
      "execution_count": null,
      "outputs": []
    },
    {
      "cell_type": "markdown",
      "source": [
        "# filter out the risky movies from our data\n",
        "# whose budget was even higher than the avg revenue of the director from his other movies"
      ],
      "metadata": {
        "id": "YNy9fSc1QjQ_"
      }
    },
    {
      "cell_type": "code",
      "source": [
        "def is_risky(row_data):\n",
        "  movie_budget = row_data['budget']\n",
        "  avg_revenue_by_director = row_data['revenue'].mean()\n",
        "  row_data['risky'] = movie_budget > avg_revenue_by_director  # new colomn with boolean value\n",
        "  return row_data"
      ],
      "metadata": {
        "id": "_roW5MgtP7x3"
      },
      "execution_count": null,
      "outputs": []
    },
    {
      "cell_type": "code",
      "source": [
        "data_risky = data.groupby('director_name').apply(is_risky)"
      ],
      "metadata": {
        "id": "TVZEkdkDRA0t"
      },
      "execution_count": null,
      "outputs": []
    },
    {
      "cell_type": "markdown",
      "source": [
        "### Combine group and convert to dataframe-like output with individual rows"
      ],
      "metadata": {
        "id": "IwaMc0Tpy4yP"
      }
    },
    {
      "cell_type": "code",
      "source": [
        "data_risky = data.groupby('director_name', group_keys=False).apply(is_risky)\n",
        "data_risky"
      ],
      "metadata": {
        "id": "9_cvau2tyzFb"
      },
      "execution_count": null,
      "outputs": []
    },
    {
      "cell_type": "code",
      "source": [
        "data_risky['risky'].value_counts()"
      ],
      "metadata": {
        "id": "eTh2CLQS2XQV"
      },
      "execution_count": null,
      "outputs": []
    },
    {
      "cell_type": "code",
      "source": [
        "data_risky[data_risky['risky'] == True]"
      ],
      "metadata": {
        "id": "vbSOMpow2bfO"
      },
      "execution_count": null,
      "outputs": []
    },
    {
      "cell_type": "markdown",
      "source": [
        "# which director => most productive director"
      ],
      "metadata": {
        "id": "fNgiDhRP3M_0"
      }
    },
    {
      "cell_type": "code",
      "source": [
        "data.groupby('director_name')['title'].count()"
      ],
      "metadata": {
        "id": "1CcHhOZw2j0i"
      },
      "execution_count": null,
      "outputs": []
    },
    {
      "cell_type": "code",
      "source": [
        "data.groupby('director_name')['title'].count().sort_values(ascending=False)"
      ],
      "metadata": {
        "id": "XMbP5Sxo5YtK"
      },
      "execution_count": null,
      "outputs": []
    },
    {
      "cell_type": "markdown",
      "source": [
        "But only count of movies is not the right parameter to measure productivity.\n",
        "We need to check the duration also.\n",
        "We need to find the starting year and ending year of direction by the director.\n",
        "\n",
        "Based on the number of years he worked and the number of movies, we will decide who is the most productive director."
      ],
      "metadata": {
        "id": "90poGdFs5zwu"
      }
    },
    {
      "cell_type": "code",
      "source": [
        "data_agg = data.groupby('director_name')[['year', 'title']].agg({'year': ['min', 'max'], 'title': 'count'})"
      ],
      "metadata": {
        "id": "M3jzs_fF5taa"
      },
      "execution_count": null,
      "outputs": []
    },
    {
      "cell_type": "markdown",
      "source": [
        "In the output, we have two levels of columns.\n",
        "\n",
        "Year has min and max and title has count."
      ],
      "metadata": {
        "id": "RcEVzF_266RM"
      }
    },
    {
      "cell_type": "code",
      "source": [
        "data_agg.columns\n",
        "# the output shows that data_agg is a multi level index"
      ],
      "metadata": {
        "id": "_aFLsTX86wQz"
      },
      "execution_count": null,
      "outputs": []
    },
    {
      "cell_type": "code",
      "source": [
        "data_agg['year'].head()"
      ],
      "metadata": {
        "id": "fQJS7t2Q7JYh"
      },
      "execution_count": null,
      "outputs": []
    },
    {
      "cell_type": "code",
      "source": [
        "data_agg['year']['min']"
      ],
      "metadata": {
        "id": "dFkwdC5h7cmM"
      },
      "execution_count": null,
      "outputs": []
    },
    {
      "cell_type": "code",
      "source": [
        "data_agg['title']['count']"
      ],
      "metadata": {
        "id": "L5aXIyGW7n0x"
      },
      "execution_count": null,
      "outputs": []
    },
    {
      "cell_type": "code",
      "source": [
        "# Show both levels of columns\n",
        "data_agg[('title', 'count')]"
      ],
      "metadata": {
        "id": "VNmi7Y8N73Hu"
      },
      "execution_count": null,
      "outputs": []
    },
    {
      "cell_type": "markdown",
      "source": [
        "To simplify this, we should convert a multi-level index to a single-level index.\n",
        "\n",
        "For this we override the columns."
      ],
      "metadata": {
        "id": "vjZBmdw08Hxn"
      }
    },
    {
      "cell_type": "code",
      "source": [
        "data_agg.columns = ['year_min', 'year_max', 'title_count']\n",
        "data_agg"
      ],
      "metadata": {
        "id": "HzbSwiqW8AtA"
      },
      "execution_count": null,
      "outputs": []
    },
    {
      "cell_type": "code",
      "source": [
        "# reset index\n",
        "data_agg.reset_index(inplace=True)\n",
        "data_agg"
      ],
      "metadata": {
        "id": "XFWFnCvP8b_q"
      },
      "execution_count": null,
      "outputs": []
    },
    {
      "cell_type": "code",
      "source": [
        "data_agg['active_years'] = data_agg['year_max'] - data_agg['year_min']\n",
        "data_agg"
      ],
      "metadata": {
        "id": "FwYbxjxq9Swm"
      },
      "execution_count": null,
      "outputs": []
    },
    {
      "cell_type": "markdown",
      "source": [
        "Moves per year by each director"
      ],
      "metadata": {
        "id": "j0WM2kS_-C6F"
      }
    },
    {
      "cell_type": "code",
      "source": [
        "data_agg['movies_per_year'] = data_agg['title_count'] / data_agg['active_years']\n",
        "data_agg"
      ],
      "metadata": {
        "id": "IgnZqN1c95AC"
      },
      "execution_count": null,
      "outputs": []
    },
    {
      "cell_type": "code",
      "source": [
        "data_agg.sort_values(by='movies_per_year', ascending=False, inplace=True)\n",
        "data_agg"
      ],
      "metadata": {
        "id": "2ofiDln--VVd"
      },
      "execution_count": null,
      "outputs": []
    },
    {
      "cell_type": "code",
      "source": [
        "data_agg.reset_index(inplace=True)\n",
        "data_agg"
      ],
      "metadata": {
        "id": "k_ScjB1--tb3"
      },
      "execution_count": null,
      "outputs": []
    },
    {
      "cell_type": "code",
      "source": [],
      "metadata": {
        "id": "8RM1souc-4e3"
      },
      "execution_count": null,
      "outputs": []
    }
  ]
}