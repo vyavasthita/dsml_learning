{
  "nbformat": 4,
  "nbformat_minor": 0,
  "metadata": {
    "colab": {
      "provenance": [],
      "authorship_tag": "ABX9TyOoZWxoveb5ZPmnQnTXOY88",
      "include_colab_link": true
    },
    "kernelspec": {
      "name": "python3",
      "display_name": "Python 3"
    },
    "language_info": {
      "name": "python"
    }
  },
  "cells": [
    {
      "cell_type": "markdown",
      "metadata": {
        "id": "view-in-github",
        "colab_type": "text"
      },
      "source": [
        "<a href=\"https://colab.research.google.com/github/vyavasthita/dsml_learning/blob/master/pandas/Pandas4.0.ipynb\" target=\"_parent\"><img src=\"https://colab.research.google.com/assets/colab-badge.svg\" alt=\"Open In Colab\"/></a>"
      ]
    },
    {
      "cell_type": "code",
      "execution_count": null,
      "metadata": {
        "id": "Oqge46hqTjao"
      },
      "outputs": [],
      "source": [
        "import pandas as pd"
      ]
    },
    {
      "cell_type": "code",
      "source": [
        "!gdown 1s2TkjSpzNc4SyxqRrQleZyDIHlc7bxnd"
      ],
      "metadata": {
        "id": "qDmhm5a-KZFd"
      },
      "execution_count": null,
      "outputs": []
    },
    {
      "cell_type": "code",
      "source": [
        "!gdown 1Ws-_s1fHZ9nHfGLVUQurbHDvStePlEJm"
      ],
      "metadata": {
        "id": "VjqfvsQQKZpV"
      },
      "execution_count": null,
      "outputs": []
    },
    {
      "cell_type": "code",
      "source": [
        "movies = pd.read_csv(\"movies.csv\", index_col=0)\n",
        "directors = pd.read_csv(\"directors.csv\", index_col=0)"
      ],
      "metadata": {
        "id": "rMocf8Y0PisO"
      },
      "execution_count": null,
      "outputs": []
    },
    {
      "cell_type": "code",
      "source": [
        "movies.head()"
      ],
      "metadata": {
        "id": "LY1m8iQZPqdJ"
      },
      "execution_count": null,
      "outputs": []
    },
    {
      "cell_type": "code",
      "source": [
        "directors.head()"
      ],
      "metadata": {
        "id": "viP6yoMYPrzP"
      },
      "execution_count": null,
      "outputs": []
    },
    {
      "cell_type": "code",
      "source": [
        "data = movies.merge(directors, left_on='director_id', right_on='id', how='left')\n",
        "data.drop(['director_id', 'id_y'], axis=1, inplace=True)\n",
        "data"
      ],
      "metadata": {
        "id": "NFN-Dym0PtzW"
      },
      "execution_count": null,
      "outputs": []
    },
    {
      "cell_type": "markdown",
      "source": [
        "# filter out the risky movies from our data\n",
        "# whose budget was even higher than the avg revenue of the director from his other movies"
      ],
      "metadata": {
        "id": "YNy9fSc1QjQ_"
      }
    },
    {
      "cell_type": "code",
      "source": [
        "def is_risky(row_data):\n",
        "  movie_budget = row_data['budget']\n",
        "  avg_revenue_by_director = row_data['revenue'].mean()\n",
        "  row_data['risky'] = movie_budget > avg_revenue_by_director  # new colomn with boolean value\n",
        "  return row_data"
      ],
      "metadata": {
        "id": "_roW5MgtP7x3"
      },
      "execution_count": null,
      "outputs": []
    },
    {
      "cell_type": "code",
      "source": [
        "data_risky = data.groupby('director_name').apply(is_risky)"
      ],
      "metadata": {
        "id": "TVZEkdkDRA0t"
      },
      "execution_count": null,
      "outputs": []
    },
    {
      "cell_type": "markdown",
      "source": [
        "### Combine group and convert to dataframe-like output with individual rows"
      ],
      "metadata": {
        "id": "IwaMc0Tpy4yP"
      }
    },
    {
      "cell_type": "code",
      "source": [
        "data_risky = data.groupby('director_name', group_keys=False).apply(is_risky)\n",
        "data_risky"
      ],
      "metadata": {
        "id": "9_cvau2tyzFb"
      },
      "execution_count": null,
      "outputs": []
    },
    {
      "cell_type": "code",
      "source": [
        "data_risky['risky'].value_counts()"
      ],
      "metadata": {
        "id": "eTh2CLQS2XQV"
      },
      "execution_count": null,
      "outputs": []
    },
    {
      "cell_type": "code",
      "source": [
        "data_risky[data_risky['risky'] == True]"
      ],
      "metadata": {
        "id": "vbSOMpow2bfO"
      },
      "execution_count": null,
      "outputs": []
    },
    {
      "cell_type": "code",
      "source": [],
      "metadata": {
        "id": "1CcHhOZw2j0i"
      },
      "execution_count": null,
      "outputs": []
    }
  ]
}