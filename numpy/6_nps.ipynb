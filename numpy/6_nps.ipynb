{
  "nbformat": 4,
  "nbformat_minor": 0,
  "metadata": {
    "colab": {
      "provenance": [],
      "authorship_tag": "ABX9TyM8eC/EMITKSffegLlwIIZm",
      "include_colab_link": true
    },
    "kernelspec": {
      "name": "python3",
      "display_name": "Python 3"
    },
    "language_info": {
      "name": "python"
    }
  },
  "cells": [
    {
      "cell_type": "markdown",
      "metadata": {
        "id": "view-in-github",
        "colab_type": "text"
      },
      "source": [
        "<a href=\"https://colab.research.google.com/github/vyavasthita/dsml_learning/blob/master/numpy/6_nps.ipynb\" target=\"_parent\"><img src=\"https://colab.research.google.com/assets/colab-badge.svg\" alt=\"Open In Colab\"/></a>"
      ]
    },
    {
      "cell_type": "code",
      "execution_count": null,
      "metadata": {
        "id": "uopHFbhec64F"
      },
      "outputs": [],
      "source": [
        "!gdown 1c0ClC8SrPwJq5rrkyMKyPn80nyHcFikK"
      ]
    },
    {
      "cell_type": "code",
      "source": [
        "import numpy as np"
      ],
      "metadata": {
        "id": "LXBqQw9Lc_Os"
      },
      "execution_count": null,
      "outputs": []
    },
    {
      "cell_type": "code",
      "source": [
        "scores = np.loadtxt('survey.txt', dtype='int')\n",
        "scores"
      ],
      "metadata": {
        "id": "qgvpgC53dVcB"
      },
      "execution_count": null,
      "outputs": []
    },
    {
      "cell_type": "code",
      "source": [
        "scores <= 6"
      ],
      "metadata": {
        "id": "cu_2nvGidcT7"
      },
      "execution_count": null,
      "outputs": []
    },
    {
      "cell_type": "code",
      "source": [
        "detractors = scores[scores < 6]\n",
        "detractors"
      ],
      "metadata": {
        "id": "uA-fLu9HfIg_"
      },
      "execution_count": null,
      "outputs": []
    },
    {
      "cell_type": "code",
      "source": [
        "promotors = scores[scores >= 9]\n",
        "promotors"
      ],
      "metadata": {
        "id": "VlNy-pvYNdkJ"
      },
      "execution_count": null,
      "outputs": []
    },
    {
      "cell_type": "code",
      "source": [
        "# nps = % promotors - % detractors\n",
        "nps = ((len(promotors) - len(detractors)) / len(scores)) * 100\n",
        "round(nps, 2)"
      ],
      "metadata": {
        "id": "QSVcHDTwfL_C"
      },
      "execution_count": null,
      "outputs": []
    }
  ]
}