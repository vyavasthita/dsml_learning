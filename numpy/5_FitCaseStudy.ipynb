{
  "nbformat": 4,
  "nbformat_minor": 0,
  "metadata": {
    "colab": {
      "provenance": [],
      "authorship_tag": "ABX9TyO1u9EFDR4BJRqEOqth/aVS",
      "include_colab_link": true
    },
    "kernelspec": {
      "name": "python3",
      "display_name": "Python 3"
    },
    "language_info": {
      "name": "python"
    }
  },
  "cells": [
    {
      "cell_type": "markdown",
      "metadata": {
        "id": "view-in-github",
        "colab_type": "text"
      },
      "source": [
        "<a href=\"https://colab.research.google.com/github/vyavasthita/dsml_learning/blob/master/numpy/5_FitCaseStudy.ipynb\" target=\"_parent\"><img src=\"https://colab.research.google.com/assets/colab-badge.svg\" alt=\"Open In Colab\"/></a>"
      ]
    },
    {
      "cell_type": "code",
      "execution_count": null,
      "metadata": {
        "id": "gb3qCN25k3H2"
      },
      "outputs": [],
      "source": [
        "!gdown 1vk1Pu0djiYcrdc85yUXZ_Rqq2oZNcohd"
      ]
    },
    {
      "cell_type": "code",
      "source": [
        "import numpy as np"
      ],
      "metadata": {
        "id": "CjjSNblkk-y7"
      },
      "execution_count": null,
      "outputs": []
    },
    {
      "cell_type": "code",
      "source": [
        "fitness = np.loadtxt('fit.txt', dtype='str')\n",
        "fitness"
      ],
      "metadata": {
        "id": "JKVjH7h0lZeJ"
      },
      "execution_count": null,
      "outputs": []
    },
    {
      "cell_type": "markdown",
      "source": [
        "Question: What is the average step count on active days?"
      ],
      "metadata": {
        "id": "nbJMV5xMuwm4"
      }
    },
    {
      "cell_type": "code",
      "source": [
        "# First, separate each and every column of info\n",
        "# Convert column in each row to the correct type\n",
        "step_count = fitness[:, 1].astype('int')\n",
        "mood = fitness[:, 2]\n",
        "calories = fitness[:, 3].astype('int')\n",
        "sleep = fitness[:, 4].astype('int')\n",
        "activity = fitness[:, 5]"
      ],
      "metadata": {
        "id": "H3y5hJh0lgHm"
      },
      "execution_count": null,
      "outputs": []
    },
    {
      "cell_type": "code",
      "source": [
        "print(id(fitness[0]), id(step_count))"
      ],
      "metadata": {
        "id": "UuIVAqZI_HN8"
      },
      "execution_count": null,
      "outputs": []
    },
    {
      "cell_type": "code",
      "source": [
        "step_count"
      ],
      "metadata": {
        "id": "kykXKImD9iBQ"
      },
      "execution_count": null,
      "outputs": []
    },
    {
      "cell_type": "code",
      "source": [
        "mood"
      ],
      "metadata": {
        "id": "WSrhmXgG9pPn"
      },
      "execution_count": null,
      "outputs": []
    },
    {
      "cell_type": "code",
      "source": [
        "calories"
      ],
      "metadata": {
        "id": "sqMaZqnA9sIR"
      },
      "execution_count": null,
      "outputs": []
    },
    {
      "cell_type": "code",
      "source": [
        "sleep"
      ],
      "metadata": {
        "id": "2KdHJQHc9uRY"
      },
      "execution_count": null,
      "outputs": []
    },
    {
      "cell_type": "code",
      "source": [
        "activity"
      ],
      "metadata": {
        "id": "Zg36lIMv9xN6"
      },
      "execution_count": null,
      "outputs": []
    },
    {
      "cell_type": "code",
      "source": [
        "# find the activity which is active\n",
        "activity[activity=='Active'] # passing a bool array to activity, wherever we have True, only that value will be picked up"
      ],
      "metadata": {
        "id": "SMCo2VokvmMh"
      },
      "execution_count": null,
      "outputs": []
    },
    {
      "cell_type": "code",
      "source": [
        "step_count"
      ],
      "metadata": {
        "id": "H0tm5C9n-Dfx"
      },
      "execution_count": null,
      "outputs": []
    },
    {
      "cell_type": "code",
      "source": [
        "len(step_count)"
      ],
      "metadata": {
        "id": "Ni-cVl7c-vPC"
      },
      "execution_count": null,
      "outputs": []
    },
    {
      "cell_type": "code",
      "source": [
        "activity=='Active'"
      ],
      "metadata": {
        "id": "znJNBzKp-ILI"
      },
      "execution_count": null,
      "outputs": []
    },
    {
      "cell_type": "code",
      "source": [
        "# Step count on active days\n",
        "step_count[activity=='Active'] # passing a bool array to step_count, wherever we have True, only that value will be picked up"
      ],
      "metadata": {
        "id": "O4lX42gvwo2c"
      },
      "execution_count": null,
      "outputs": []
    },
    {
      "cell_type": "code",
      "source": [
        "# mean value\n",
        "print(round(np.mean(step_count[activity=='Active']), 2))"
      ],
      "metadata": {
        "id": "49v2xeUMw0hE"
      },
      "execution_count": null,
      "outputs": []
    },
    {
      "cell_type": "markdown",
      "source": [
        "Question: How many days had more than 5000 steps and burned more than 150 calories?"
      ],
      "metadata": {
        "id": "ieqDaiYLyhCW"
      }
    },
    {
      "cell_type": "code",
      "source": [
        "(step_count > 5000) & (calories > 150)"
      ],
      "metadata": {
        "id": "esrvylUbxoGT"
      },
      "execution_count": null,
      "outputs": []
    },
    {
      "cell_type": "code",
      "source": [
        "print(sum((step_count > 5000) & (calories > 150)))"
      ],
      "metadata": {
        "id": "yDm9IzQj-jTf"
      },
      "execution_count": null,
      "outputs": []
    },
    {
      "cell_type": "markdown",
      "source": [
        "Question: What percentage of days had 'Sad' mood?"
      ],
      "metadata": {
        "id": "0Jf86vdD_TU2"
      }
    },
    {
      "cell_type": "code",
      "source": [
        "mood"
      ],
      "metadata": {
        "id": "w6xAG6rJ-5Zn"
      },
      "execution_count": null,
      "outputs": []
    },
    {
      "cell_type": "code",
      "source": [
        "mood[mood == 'Sad']"
      ],
      "metadata": {
        "id": "mzD7i2mN_YpG"
      },
      "execution_count": null,
      "outputs": []
    },
    {
      "cell_type": "code",
      "source": [
        "res = (len(mood[mood == 'Sad'])) / len(mood) * 100\n",
        "res = round(res, 2)\n",
        "res"
      ],
      "metadata": {
        "id": "bJOUmPHX_gxj"
      },
      "execution_count": null,
      "outputs": []
    },
    {
      "cell_type": "markdown",
      "source": [
        "Question: What is the maximum number of steps taken on days with less than 6 hours of sleep?"
      ],
      "metadata": {
        "id": "48oczRq2Bu3X"
      }
    },
    {
      "cell_type": "code",
      "source": [
        "print(np.max(step_count[sleep < 6]))"
      ],
      "metadata": {
        "id": "GgtsvJF3_r4S"
      },
      "execution_count": null,
      "outputs": []
    },
    {
      "cell_type": "markdown",
      "source": [
        "Question: What are the average calories burned per hour of sleep on \"Inactive\" days?"
      ],
      "metadata": {
        "id": "A1jafVuiHRY6"
      }
    },
    {
      "cell_type": "code",
      "source": [
        "sleep[activity == 'Inactive']\n",
        "calories[activity == 'Inactive']"
      ],
      "metadata": {
        "collapsed": true,
        "id": "P7IQ5314DwVO"
      },
      "execution_count": null,
      "outputs": []
    },
    {
      "cell_type": "code",
      "source": [
        "np.mean(calories[activity == 'Inactive']) # average calories burned on Inactive days"
      ],
      "metadata": {
        "id": "MkeI03xiFwm0"
      },
      "execution_count": null,
      "outputs": []
    },
    {
      "cell_type": "code",
      "source": [
        "res = np.mean(calories[activity == 'Inactive'] / sleep[activity == 'Inactive'])\n",
        "res = np.round(res, 2)\n",
        "print(res)"
      ],
      "metadata": {
        "id": "9LPIqH8PJd8s"
      },
      "execution_count": null,
      "outputs": []
    }
  ]
}