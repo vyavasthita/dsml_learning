{
  "nbformat": 4,
  "nbformat_minor": 0,
  "metadata": {
    "colab": {
      "provenance": [],
      "authorship_tag": "ABX9TyPQYJgjNzv5rWhKvT8IDo9l",
      "include_colab_link": true
    },
    "kernelspec": {
      "name": "python3",
      "display_name": "Python 3"
    },
    "language_info": {
      "name": "python"
    }
  },
  "cells": [
    {
      "cell_type": "markdown",
      "metadata": {
        "id": "view-in-github",
        "colab_type": "text"
      },
      "source": [
        "<a href=\"https://colab.research.google.com/github/vyavasthita/dsml_learning/blob/master/numpy/4_Broadcasting.ipynb\" target=\"_parent\"><img src=\"https://colab.research.google.com/assets/colab-badge.svg\" alt=\"Open In Colab\"/></a>"
      ]
    },
    {
      "cell_type": "markdown",
      "source": [
        "# Broadcasting"
      ],
      "metadata": {
        "id": "IdTzCNKY6rHS"
      }
    },
    {
      "cell_type": "code",
      "execution_count": null,
      "metadata": {
        "id": "6Nj7gZf3ubaJ"
      },
      "outputs": [],
      "source": [
        "import numpy as np"
      ]
    },
    {
      "cell_type": "markdown",
      "source": [
        "Arrays are of the same dim and the same shape."
      ],
      "metadata": {
        "id": "phWW9rB1yYPL"
      }
    },
    {
      "cell_type": "code",
      "source": [
        "\n",
        "a1 = np.array(\n",
        "    [\n",
        "        [1, 2],\n",
        "        [3, 4]\n",
        "    ]\n",
        ")\n",
        "\n",
        "a2 = np.array(\n",
        "    [\n",
        "        [5, 6],\n",
        "        [7, 8]\n",
        "    ]\n",
        ")\n",
        "\n",
        "a1 + a2"
      ],
      "metadata": {
        "id": "FRhifzqBufwN"
      },
      "execution_count": null,
      "outputs": []
    },
    {
      "cell_type": "code",
      "source": [
        "m1 = np.arange(0, 40, 10)\n",
        "m1"
      ],
      "metadata": {
        "id": "TjIHSUgsuqNj"
      },
      "execution_count": null,
      "outputs": []
    },
    {
      "cell_type": "code",
      "source": [
        "np.vstack((m1, m1, m1))"
      ],
      "metadata": {
        "id": "F6pg-T5yyi8L"
      },
      "execution_count": null,
      "outputs": []
    },
    {
      "cell_type": "code",
      "source": [
        "np.hstack((m1, m1, m1))"
      ],
      "metadata": {
        "id": "6ku99cgPymy2"
      },
      "execution_count": null,
      "outputs": []
    },
    {
      "cell_type": "code",
      "source": [
        "res = np.vstack((m1, m1, m1))\n",
        "np.hstack((res, res, res))"
      ],
      "metadata": {
        "id": "hdVCLjWrywqw"
      },
      "execution_count": null,
      "outputs": []
    },
    {
      "cell_type": "code",
      "source": [
        "m1"
      ],
      "metadata": {
        "id": "Kp7yOV9S67Ly"
      },
      "execution_count": null,
      "outputs": []
    },
    {
      "cell_type": "code",
      "source": [
        "np.tile(m1, (3, 3)) # equivalent to vstack 3 times and hstack 3 times"
      ],
      "metadata": {
        "id": "YGfYb4hazaLp"
      },
      "execution_count": null,
      "outputs": []
    },
    {
      "cell_type": "code",
      "source": [
        "m1 = np.arange(0, 40, 10)\n",
        "m1"
      ],
      "metadata": {
        "id": "S8-ysmoX7PzL"
      },
      "execution_count": null,
      "outputs": []
    },
    {
      "cell_type": "code",
      "source": [
        "m1 = np.tile(m1, (3, 1))\n",
        "m1"
      ],
      "metadata": {
        "id": "X13MTmID7U0d"
      },
      "execution_count": null,
      "outputs": []
    },
    {
      "cell_type": "code",
      "source": [
        "m1 = m1.T\n",
        "m1"
      ],
      "metadata": {
        "id": "km2kO5f57eWr"
      },
      "execution_count": null,
      "outputs": []
    },
    {
      "cell_type": "code",
      "source": [
        "m2 = np.arange(3)\n",
        "m2 = np.tile(m2, (4, 1))\n",
        "m2"
      ],
      "metadata": {
        "id": "3itEIa1g0X3p"
      },
      "execution_count": null,
      "outputs": []
    },
    {
      "cell_type": "code",
      "source": [
        "m1 + m2"
      ],
      "metadata": {
        "id": "c3ksm2uq0k-s"
      },
      "execution_count": null,
      "outputs": []
    },
    {
      "cell_type": "code",
      "source": [
        "m3 = np.array([1, 2, 3, 4])\n",
        "m4 = np.arange(12).reshape(4, 3)\n",
        "m4"
      ],
      "metadata": {
        "id": "7gE-5dPr0zs_"
      },
      "execution_count": null,
      "outputs": []
    },
    {
      "cell_type": "code",
      "source": [
        "m3 = np.tile(m3, (4,1))\n",
        "m3"
      ],
      "metadata": {
        "id": "9waKFjsD4BgA"
      },
      "execution_count": null,
      "outputs": []
    },
    {
      "cell_type": "code",
      "source": [
        "m4 = np.tile(m4, (1, 1))\n",
        "m4"
      ],
      "metadata": {
        "id": "EJgZEwlf4J1d"
      },
      "execution_count": null,
      "outputs": []
    }
  ]
}