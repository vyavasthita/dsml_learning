{
  "nbformat": 4,
  "nbformat_minor": 0,
  "metadata": {
    "colab": {
      "provenance": [],
      "authorship_tag": "ABX9TyO9syb1pzwYj0loWuO+MLz/",
      "include_colab_link": true
    },
    "kernelspec": {
      "name": "python3",
      "display_name": "Python 3"
    },
    "language_info": {
      "name": "python"
    }
  },
  "cells": [
    {
      "cell_type": "markdown",
      "metadata": {
        "id": "view-in-github",
        "colab_type": "text"
      },
      "source": [
        "<a href=\"https://colab.research.google.com/github/vyavasthita/dsml_learning/blob/master/numpy/3_Vectorization.ipynb\" target=\"_parent\"><img src=\"https://colab.research.google.com/assets/colab-badge.svg\" alt=\"Open In Colab\"/></a>"
      ]
    },
    {
      "cell_type": "markdown",
      "source": [
        "# Vectorization"
      ],
      "metadata": {
        "id": "7ks_ofRJ2x1o"
      }
    },
    {
      "cell_type": "code",
      "execution_count": null,
      "metadata": {
        "id": "DvahiauzbFZG"
      },
      "outputs": [],
      "source": [
        "import numpy as np"
      ]
    },
    {
      "cell_type": "code",
      "source": [
        "m1 = np.arange(1, 11)\n",
        "m1 ** 2"
      ],
      "metadata": {
        "id": "2p0AhhD2cqWh"
      },
      "execution_count": null,
      "outputs": []
    },
    {
      "cell_type": "markdown",
      "source": [
        "We can not use external functions as numpy functions\n",
        "For example, we can not apply a factorial function from the math library to a set of arrays."
      ],
      "metadata": {
        "id": "WC0g2sHnKxmU"
      }
    },
    {
      "cell_type": "markdown",
      "source": [
        "**Vectorising** the functions which are not numpy's built-in functions"
      ],
      "metadata": {
        "id": "u-tLanFILKTI"
      }
    },
    {
      "cell_type": "code",
      "source": [
        "from math import factorial\n",
        "\n",
        "vectorized_arr = np.vectorize(factorial)# convenient wrapper over for loop, this will not speed up, it is just writing for loop for us\n",
        "vectorized_arr(m1)"
      ],
      "metadata": {
        "id": "R_7LdUpXLMgD"
      },
      "execution_count": null,
      "outputs": []
    },
    {
      "cell_type": "code",
      "source": [
        "np.vectorize(factorial)(m1)"
      ],
      "metadata": {
        "id": "3v8eKRXX0jM-"
      },
      "execution_count": null,
      "outputs": []
    },
    {
      "cell_type": "code",
      "source": [
        "def plus_one(value: int):\n",
        "  return value + 1"
      ],
      "metadata": {
        "id": "PiLyxoH_LZVl"
      },
      "execution_count": null,
      "outputs": []
    },
    {
      "cell_type": "code",
      "source": [
        "np.vectorize(plus_one)(m1)"
      ],
      "metadata": {
        "id": "p862sR9y0qN5"
      },
      "execution_count": null,
      "outputs": []
    },
    {
      "cell_type": "code",
      "source": [
        "np.vectorize(plus_one)(np.arange(10, 31, 2))"
      ],
      "metadata": {
        "id": "WoMH3gEd0vFG"
      },
      "execution_count": null,
      "outputs": []
    },
    {
      "cell_type": "code",
      "source": [
        "plus_ones = np.vectorize(plus_one)\n",
        "plus_ones(np.arange(1, 51))"
      ],
      "metadata": {
        "id": "GDm-9BsyL0Hx"
      },
      "execution_count": null,
      "outputs": []
    },
    {
      "cell_type": "markdown",
      "source": [
        "multiplying 1d array with another 1d array with same shape"
      ],
      "metadata": {
        "id": "xqH4AyamhaXs"
      }
    },
    {
      "cell_type": "code",
      "source": [
        "a = np.arange(5, 11)\n",
        "b = np.arange(10, 16)\n",
        "a*b"
      ],
      "metadata": {
        "id": "hJu2ADh6hgwN"
      },
      "execution_count": null,
      "outputs": []
    },
    {
      "cell_type": "markdown",
      "source": [
        "Multiplying 2d arrays"
      ],
      "metadata": {
        "id": "10dQlptYjKlE"
      }
    },
    {
      "cell_type": "code",
      "source": [
        "c = np.arange(1, 16).reshape(5, 3)\n",
        "d = np.arange(16, 31).reshape(5, 3)\n",
        "c*d"
      ],
      "metadata": {
        "id": "0IjFw7Z9ioGp"
      },
      "execution_count": null,
      "outputs": []
    },
    {
      "cell_type": "markdown",
      "source": [
        "But if shapes are different, these operations do not work"
      ],
      "metadata": {
        "id": "jP6O6kTMjgd-"
      }
    },
    {
      "cell_type": "markdown",
      "source": [
        "# Matrix multiplication.\n",
        "It works when the number of rows in the first matrix is the same as the number of columns in the second matrix.\n",
        "\n",
        "There are 3 ways to do this.\n",
        "\n",
        "1. np.matmul(a, b)\n",
        "2. np.dot(a, b) - this is more generic, as it works with 1d & 1d, array & scaler, array & array\n",
        "3. a @ b\n",
        "\n",
        "Matrix multiplication is used in image processing, ML models, and LLMs"
      ],
      "metadata": {
        "id": "OCdOti9vuGXF"
      }
    },
    {
      "cell_type": "code",
      "source": [
        "a = np.arange(1, 13).reshape(2, 6)\n",
        "a"
      ],
      "metadata": {
        "id": "IHfW40KK1Xzz"
      },
      "execution_count": null,
      "outputs": []
    },
    {
      "cell_type": "code",
      "source": [
        "b = np.arange(13, 25).reshape(6, 2)\n",
        "b"
      ],
      "metadata": {
        "id": "hXoBjGry1bBv"
      },
      "execution_count": null,
      "outputs": []
    },
    {
      "cell_type": "code",
      "source": [
        "np.matmul(a, b)"
      ],
      "metadata": {
        "id": "qEJuN3Oh1yju"
      },
      "execution_count": null,
      "outputs": []
    },
    {
      "cell_type": "code",
      "source": [
        "a = np.arange(1, 13).reshape(2, 6)\n",
        "b = np.arange(13, 25).reshape(6, 2)\n",
        "np.matmul(a, b)"
      ],
      "metadata": {
        "id": "QdgJsw4ljYSX"
      },
      "execution_count": null,
      "outputs": []
    },
    {
      "cell_type": "code",
      "source": [
        "np.dot(a, b)"
      ],
      "metadata": {
        "id": "Jzi2sbgjxiwK"
      },
      "execution_count": null,
      "outputs": []
    },
    {
      "cell_type": "code",
      "source": [
        "a @ b"
      ],
      "metadata": {
        "id": "EVexLNRRx4p0"
      },
      "execution_count": null,
      "outputs": []
    },
    {
      "cell_type": "markdown",
      "source": [
        "# Shallow Vs Deep Copy.\n",
        "\n",
        "Any element-wise copy will create a new object, so deep copy.\n",
        "\n",
        "a = np.arange(1, 10)\n",
        "\n",
        "a ** 2 This will be an element-wise copy and hence a deep copy.\n",
        "\n",
        "Shallow copy saves memory.\n",
        "\n",
        "When we want to change an image, we need to use a shallow copy.\n",
        "\n",
        "If we have data and we want this data to be used by multiple ML models, then we need to use shallow copy."
      ],
      "metadata": {
        "id": "k3VtxHx4fE8J"
      }
    },
    {
      "cell_type": "code",
      "source": [
        "np.shares_memory(a, b)"
      ],
      "metadata": {
        "id": "g00tAju7x59E"
      },
      "execution_count": null,
      "outputs": []
    },
    {
      "cell_type": "code",
      "source": [
        "m1 = np.arange(1, 7)\n",
        "m2 = m1.reshape(2, 3)\n",
        "print(id(m1[0]), id(m2[0][0]))"
      ],
      "metadata": {
        "id": "a--KcgmEtT6D"
      },
      "execution_count": null,
      "outputs": []
    },
    {
      "cell_type": "markdown",
      "source": [
        "Use np.copy() for deep copy\n",
        "Use np.view() for shallow copy"
      ],
      "metadata": {
        "id": "7R952Ad0zGCX"
      }
    },
    {
      "cell_type": "code",
      "source": [
        "m1 = np.arange(1, 7)\n",
        "m2 = m1.copy()\n",
        "\n",
        "np.shares_memory(m1, m2)"
      ],
      "metadata": {
        "id": "JHzzA7gLyDS3"
      },
      "execution_count": null,
      "outputs": []
    },
    {
      "cell_type": "code",
      "source": [
        "m3 = m1.view()\n",
        "np.shares_memory(m1, m3)"
      ],
      "metadata": {
        "id": "hJLTBjxQzPsI"
      },
      "execution_count": null,
      "outputs": []
    },
    {
      "cell_type": "markdown",
      "source": [
        "# Array Splitting\n",
        "\n",
        "We have our LLM models and we have a data set containing 1000 rows.\n",
        "\n",
        "We need to train our data as well as we need to test our models.\n",
        "\n",
        "So we will split the data into two parts: the first part is to be used for training the LLMs, and the second part is for testing the LLMs."
      ],
      "metadata": {
        "id": "oHHtQH9A1PQA"
      }
    },
    {
      "cell_type": "code",
      "source": [
        "arr = np.arange(10, 201, 10)\n",
        "np.split(arr, 10)"
      ],
      "metadata": {
        "id": "Mk069sYM3RuA"
      },
      "execution_count": null,
      "outputs": []
    },
    {
      "cell_type": "code",
      "source": [
        "m1 = np.arange(1, 11)\n",
        "np.split(m1, 5)"
      ],
      "metadata": {
        "id": "0oll2I_I1uO8"
      },
      "execution_count": null,
      "outputs": []
    },
    {
      "cell_type": "markdown",
      "source": [
        "Unequal size split"
      ],
      "metadata": {
        "id": "r3vUuA_x2C-k"
      }
    },
    {
      "cell_type": "code",
      "source": [
        "m1 = np.arange(1, 11)\n",
        "np.split(m1, (2, 5, 8)) # provide tuple of indexes"
      ],
      "metadata": {
        "id": "fLloHM5p10yY"
      },
      "execution_count": null,
      "outputs": []
    },
    {
      "cell_type": "markdown",
      "source": [
        "2D Array split"
      ],
      "metadata": {
        "id": "SywzD_v74DVY"
      }
    },
    {
      "cell_type": "code",
      "source": [
        "m1 = np.arange(1, 17)\n",
        "m2 = m1.reshape(4, 4)\n",
        "m2"
      ],
      "metadata": {
        "id": "VEg9qmQM2Kcw"
      },
      "execution_count": null,
      "outputs": []
    },
    {
      "cell_type": "code",
      "source": [
        "np.split(m2, 2, axis=0)"
      ],
      "metadata": {
        "id": "UlWPgdI83jvr"
      },
      "execution_count": null,
      "outputs": []
    },
    {
      "cell_type": "code",
      "source": [
        "np.hsplit(m2, 2)"
      ],
      "metadata": {
        "id": "t4F8LCeh4UyB"
      },
      "execution_count": null,
      "outputs": []
    },
    {
      "cell_type": "code",
      "source": [
        "np.vsplit(m2, 2)"
      ],
      "metadata": {
        "id": "KtmnBCC2601-"
      },
      "execution_count": null,
      "outputs": []
    },
    {
      "cell_type": "markdown",
      "source": [
        "# Stacking array"
      ],
      "metadata": {
        "id": "q7rlOVScFD4x"
      }
    },
    {
      "cell_type": "code",
      "source": [
        "a = np.arange(1, 11)\n",
        "b = np.arange(11, 21)"
      ],
      "metadata": {
        "id": "hvHYaRSI62yl"
      },
      "execution_count": null,
      "outputs": []
    },
    {
      "cell_type": "code",
      "source": [
        "np.vstack((a, b))"
      ],
      "metadata": {
        "id": "vXIBJb1KFMCY"
      },
      "execution_count": null,
      "outputs": []
    },
    {
      "cell_type": "code",
      "source": [
        "np.vstack((b, a))"
      ],
      "metadata": {
        "id": "be-xg7uh3-ca"
      },
      "execution_count": null,
      "outputs": []
    },
    {
      "cell_type": "code",
      "source": [
        "np.hstack((a, b))"
      ],
      "metadata": {
        "id": "GJr0tdekFRab"
      },
      "execution_count": null,
      "outputs": []
    },
    {
      "cell_type": "code",
      "source": [
        "m1 = np.array(\n",
        "    [\n",
        "        [1, 2],\n",
        "        [3, 4],\n",
        "        [5, 6]]\n",
        "    )\n",
        "m1"
      ],
      "metadata": {
        "id": "wlKxN7o7FWB1"
      },
      "execution_count": null,
      "outputs": []
    },
    {
      "cell_type": "code",
      "source": [],
      "metadata": {
        "id": "dAYVnNXT4Dcf"
      },
      "execution_count": null,
      "outputs": []
    }
  ]
}