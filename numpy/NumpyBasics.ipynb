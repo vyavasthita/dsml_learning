{
  "nbformat": 4,
  "nbformat_minor": 0,
  "metadata": {
    "colab": {
      "provenance": [],
      "authorship_tag": "ABX9TyMYwOTvV6Lr4xOih64GgVsf",
      "include_colab_link": true
    },
    "kernelspec": {
      "name": "python3",
      "display_name": "Python 3"
    },
    "language_info": {
      "name": "python"
    }
  },
  "cells": [
    {
      "cell_type": "markdown",
      "metadata": {
        "id": "view-in-github",
        "colab_type": "text"
      },
      "source": [
        "<a href=\"https://colab.research.google.com/github/vyavasthita/dsml_learning/blob/master/numpy/NumpyBasics.ipynb\" target=\"_parent\"><img src=\"https://colab.research.google.com/assets/colab-badge.svg\" alt=\"Open In Colab\"/></a>"
      ]
    },
    {
      "cell_type": "code",
      "execution_count": null,
      "metadata": {
        "id": "UokyLDVJUeTf"
      },
      "outputs": [],
      "source": [
        "! pip install numpy"
      ]
    },
    {
      "cell_type": "code",
      "source": [
        "import numpy as np"
      ],
      "metadata": {
        "id": "c9QST426UsJ9"
      },
      "execution_count": null,
      "outputs": []
    },
    {
      "cell_type": "code",
      "source": [
        "data = np.array([2, 4, 6, 8])\n",
        "data"
      ],
      "metadata": {
        "id": "wZTrQsgaUv49"
      },
      "execution_count": null,
      "outputs": []
    },
    {
      "cell_type": "code",
      "source": [
        "data**2"
      ],
      "metadata": {
        "id": "3sQgNT-CVdQl"
      },
      "execution_count": null,
      "outputs": []
    },
    {
      "cell_type": "code",
      "source": [
        "data = [item for item in range(1000000)]\n",
        "data"
      ],
      "metadata": {
        "id": "vMU528mcVlV0"
      },
      "execution_count": null,
      "outputs": []
    },
    {
      "cell_type": "code",
      "source": [
        "%timeit [i**2 for i in data]"
      ],
      "metadata": {
        "id": "S1lfWOM-XJty"
      },
      "execution_count": null,
      "outputs": []
    },
    {
      "cell_type": "code",
      "source": [
        "data2 = np.array([item for item in range(1000000)])"
      ],
      "metadata": {
        "id": "wxcZ7GnXXHLD"
      },
      "execution_count": null,
      "outputs": []
    },
    {
      "cell_type": "code",
      "source": [
        "%timeit data2**2"
      ],
      "metadata": {
        "id": "tr0A4xWTXay5"
      },
      "execution_count": null,
      "outputs": []
    },
    {
      "cell_type": "code",
      "source": [
        "data2.ndim"
      ],
      "metadata": {
        "id": "QdANssqmXdUC"
      },
      "execution_count": null,
      "outputs": []
    },
    {
      "cell_type": "code",
      "source": [
        "data3 = np.array([[1, 2, 3], [4, 5, 6]])"
      ],
      "metadata": {
        "id": "gxZ7zQG5Y2IX"
      },
      "execution_count": null,
      "outputs": []
    },
    {
      "cell_type": "code",
      "source": [
        "data3.shape"
      ],
      "metadata": {
        "id": "VCwvDhDaZlse"
      },
      "execution_count": null,
      "outputs": []
    },
    {
      "cell_type": "code",
      "source": [
        "data4 = np.array([1, 2.5, \"Raja\"])"
      ],
      "metadata": {
        "id": "P7s7_hxcZrA3"
      },
      "execution_count": null,
      "outputs": []
    },
    {
      "cell_type": "code",
      "source": [
        "data4"
      ],
      "metadata": {
        "id": "inXkqGrAf34W"
      },
      "execution_count": null,
      "outputs": []
    },
    {
      "cell_type": "code",
      "source": [
        "data4 = np.array([1, 2.5], dtype='int')\n",
        "data4"
      ],
      "metadata": {
        "id": "rlVnCFzBf8Tk"
      },
      "execution_count": null,
      "outputs": []
    },
    {
      "cell_type": "code",
      "source": [
        "data4"
      ],
      "metadata": {
        "id": "MXUora2egHUS"
      },
      "execution_count": null,
      "outputs": []
    },
    {
      "cell_type": "code",
      "source": [
        "data = np.array([1, 2, 3, 4.4], dtype='float')\n",
        "data"
      ],
      "metadata": {
        "id": "O2XgKjRVZO8x"
      },
      "execution_count": null,
      "outputs": []
    },
    {
      "cell_type": "code",
      "source": [
        "res = data.astype('str')\n",
        "res"
      ],
      "metadata": {
        "id": "tSbq7SFEcvvC"
      },
      "execution_count": null,
      "outputs": []
    },
    {
      "cell_type": "code",
      "source": [
        "m1 = np.arange(33, 99, 9)\n",
        "m1"
      ],
      "metadata": {
        "id": "VnWvGMyRa09a"
      },
      "execution_count": null,
      "outputs": []
    },
    {
      "cell_type": "code",
      "source": [
        "m1[[4, 5]]"
      ],
      "metadata": {
        "id": "GQB9f1ZTefNt"
      },
      "execution_count": null,
      "outputs": []
    },
    {
      "cell_type": "code",
      "source": [
        "m1.shape"
      ],
      "metadata": {
        "id": "6NJngy_HgjKE"
      },
      "execution_count": null,
      "outputs": []
    },
    {
      "cell_type": "code",
      "source": [
        "m2 = np.arange(1, 101)\n",
        "m3 = m2.reshape(25, 4)\n",
        "m3.ndim"
      ],
      "metadata": {
        "id": "4Fmg15QJjU4A"
      },
      "execution_count": null,
      "outputs": []
    },
    {
      "cell_type": "code",
      "source": [
        "m3.shape"
      ],
      "metadata": {
        "id": "pKjaZbtcmhwv"
      },
      "execution_count": null,
      "outputs": []
    }
  ]
}