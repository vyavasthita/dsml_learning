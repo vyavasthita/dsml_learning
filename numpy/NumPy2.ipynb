{
  "nbformat": 4,
  "nbformat_minor": 0,
  "metadata": {
    "colab": {
      "provenance": [],
      "authorship_tag": "ABX9TyPlUMcnS8+/lTHafrBgZTXY",
      "include_colab_link": true
    },
    "kernelspec": {
      "name": "python3",
      "display_name": "Python 3"
    },
    "language_info": {
      "name": "python"
    }
  },
  "cells": [
    {
      "cell_type": "markdown",
      "metadata": {
        "id": "view-in-github",
        "colab_type": "text"
      },
      "source": [
        "<a href=\"https://colab.research.google.com/github/vyavasthita/dsml_learning/blob/master/numpy/NumPy2.ipynb\" target=\"_parent\"><img src=\"https://colab.research.google.com/assets/colab-badge.svg\" alt=\"Open In Colab\"/></a>"
      ]
    },
    {
      "cell_type": "code",
      "execution_count": null,
      "metadata": {
        "id": "ny6C-zDqPG9o"
      },
      "outputs": [],
      "source": [
        "import numpy as np"
      ]
    },
    {
      "cell_type": "code",
      "source": [
        "data = np.arange(1, 34, 0.5)\n",
        "data"
      ],
      "metadata": {
        "id": "ryFIWKj4PXmc",
        "outputId": "bc518e4d-b8a4-4878-fc87-ca623fccc27f",
        "colab": {
          "base_uri": "https://localhost:8080/"
        }
      },
      "execution_count": 54,
      "outputs": [
        {
          "output_type": "execute_result",
          "data": {
            "text/plain": [
              "array([ 1. ,  1.5,  2. ,  2.5,  3. ,  3.5,  4. ,  4.5,  5. ,  5.5,  6. ,\n",
              "        6.5,  7. ,  7.5,  8. ,  8.5,  9. ,  9.5, 10. , 10.5, 11. , 11.5,\n",
              "       12. , 12.5, 13. , 13.5, 14. , 14.5, 15. , 15.5, 16. , 16.5, 17. ,\n",
              "       17.5, 18. , 18.5, 19. , 19.5, 20. , 20.5, 21. , 21.5, 22. , 22.5,\n",
              "       23. , 23.5, 24. , 24.5, 25. , 25.5, 26. , 26.5, 27. , 27.5, 28. ,\n",
              "       28.5, 29. , 29.5, 30. , 30.5, 31. , 31.5, 32. , 32.5, 33. , 33.5])"
            ]
          },
          "metadata": {},
          "execution_count": 54
        }
      ]
    },
    {
      "cell_type": "code",
      "source": [
        "data.ndim"
      ],
      "metadata": {
        "id": "C8P7hoi_Pbqh",
        "outputId": "12b98b2a-f9e5-486e-f443-7b5b13b59821",
        "colab": {
          "base_uri": "https://localhost:8080/"
        }
      },
      "execution_count": 55,
      "outputs": [
        {
          "output_type": "execute_result",
          "data": {
            "text/plain": [
              "1"
            ]
          },
          "metadata": {},
          "execution_count": 55
        }
      ]
    },
    {
      "cell_type": "code",
      "source": [
        "data.shape"
      ],
      "metadata": {
        "id": "IXdcit1MPg_z",
        "outputId": "3107ba66-7758-4d16-a5a8-632d4993a2ee",
        "colab": {
          "base_uri": "https://localhost:8080/"
        }
      },
      "execution_count": 56,
      "outputs": [
        {
          "output_type": "execute_result",
          "data": {
            "text/plain": [
              "(66,)"
            ]
          },
          "metadata": {},
          "execution_count": 56
        }
      ]
    },
    {
      "cell_type": "code",
      "source": [
        "len(data)"
      ],
      "metadata": {
        "id": "hE7noE3vPt1x",
        "outputId": "94169a58-745e-4bf5-dda9-c574641ff183",
        "colab": {
          "base_uri": "https://localhost:8080/"
        }
      },
      "execution_count": 57,
      "outputs": [
        {
          "output_type": "execute_result",
          "data": {
            "text/plain": [
              "66"
            ]
          },
          "metadata": {},
          "execution_count": 57
        }
      ]
    },
    {
      "cell_type": "code",
      "source": [
        "data.reshape(22, 3)"
      ],
      "metadata": {
        "id": "rTHuJAeMP5aF",
        "outputId": "8d188126-f17d-41a4-c430-4e45e893c26c",
        "colab": {
          "base_uri": "https://localhost:8080/"
        }
      },
      "execution_count": 58,
      "outputs": [
        {
          "output_type": "execute_result",
          "data": {
            "text/plain": [
              "array([[ 1. ,  1.5,  2. ],\n",
              "       [ 2.5,  3. ,  3.5],\n",
              "       [ 4. ,  4.5,  5. ],\n",
              "       [ 5.5,  6. ,  6.5],\n",
              "       [ 7. ,  7.5,  8. ],\n",
              "       [ 8.5,  9. ,  9.5],\n",
              "       [10. , 10.5, 11. ],\n",
              "       [11.5, 12. , 12.5],\n",
              "       [13. , 13.5, 14. ],\n",
              "       [14.5, 15. , 15.5],\n",
              "       [16. , 16.5, 17. ],\n",
              "       [17.5, 18. , 18.5],\n",
              "       [19. , 19.5, 20. ],\n",
              "       [20.5, 21. , 21.5],\n",
              "       [22. , 22.5, 23. ],\n",
              "       [23.5, 24. , 24.5],\n",
              "       [25. , 25.5, 26. ],\n",
              "       [26.5, 27. , 27.5],\n",
              "       [28. , 28.5, 29. ],\n",
              "       [29.5, 30. , 30.5],\n",
              "       [31. , 31.5, 32. ],\n",
              "       [32.5, 33. , 33.5]])"
            ]
          },
          "metadata": {},
          "execution_count": 58
        }
      ]
    },
    {
      "cell_type": "code",
      "source": [
        "data.reshape(-1, 3)"
      ],
      "metadata": {
        "id": "TtDR1aA7zdxa",
        "outputId": "e947653d-ab34-454f-ad7d-c7394c0e4959",
        "colab": {
          "base_uri": "https://localhost:8080/"
        }
      },
      "execution_count": 59,
      "outputs": [
        {
          "output_type": "execute_result",
          "data": {
            "text/plain": [
              "array([[ 1. ,  1.5,  2. ],\n",
              "       [ 2.5,  3. ,  3.5],\n",
              "       [ 4. ,  4.5,  5. ],\n",
              "       [ 5.5,  6. ,  6.5],\n",
              "       [ 7. ,  7.5,  8. ],\n",
              "       [ 8.5,  9. ,  9.5],\n",
              "       [10. , 10.5, 11. ],\n",
              "       [11.5, 12. , 12.5],\n",
              "       [13. , 13.5, 14. ],\n",
              "       [14.5, 15. , 15.5],\n",
              "       [16. , 16.5, 17. ],\n",
              "       [17.5, 18. , 18.5],\n",
              "       [19. , 19.5, 20. ],\n",
              "       [20.5, 21. , 21.5],\n",
              "       [22. , 22.5, 23. ],\n",
              "       [23.5, 24. , 24.5],\n",
              "       [25. , 25.5, 26. ],\n",
              "       [26.5, 27. , 27.5],\n",
              "       [28. , 28.5, 29. ],\n",
              "       [29.5, 30. , 30.5],\n",
              "       [31. , 31.5, 32. ],\n",
              "       [32.5, 33. , 33.5]])"
            ]
          },
          "metadata": {},
          "execution_count": 59
        }
      ]
    },
    {
      "cell_type": "code",
      "source": [
        "# A negative number means we are telling numpy to decide the row, and we will just decide the columns\n",
        "data = np.arange(1, 13)\n",
        "data_2 = data.reshape(-1, 4)\n",
        "data_2"
      ],
      "metadata": {
        "id": "ChuyQq6nQMKP",
        "outputId": "feb9ddff-d36a-4e11-a7da-cf30d6e5964e",
        "colab": {
          "base_uri": "https://localhost:8080/"
        }
      },
      "execution_count": 60,
      "outputs": [
        {
          "output_type": "execute_result",
          "data": {
            "text/plain": [
              "array([[ 1,  2,  3,  4],\n",
              "       [ 5,  6,  7,  8],\n",
              "       [ 9, 10, 11, 12]])"
            ]
          },
          "metadata": {},
          "execution_count": 60
        }
      ]
    },
    {
      "cell_type": "code",
      "source": [
        "# transpose\n",
        "data_2.T"
      ],
      "metadata": {
        "id": "xKkrnBMDQfr2",
        "outputId": "6f917dd9-3910-4617-8c1a-96abde27acb0",
        "colab": {
          "base_uri": "https://localhost:8080/"
        }
      },
      "execution_count": 61,
      "outputs": [
        {
          "output_type": "execute_result",
          "data": {
            "text/plain": [
              "array([[ 1,  5,  9],\n",
              "       [ 2,  6, 10],\n",
              "       [ 3,  7, 11],\n",
              "       [ 4,  8, 12]])"
            ]
          },
          "metadata": {},
          "execution_count": 61
        }
      ]
    },
    {
      "cell_type": "code",
      "source": [
        "data_2.T?"
      ],
      "metadata": {
        "id": "FGAZf4FeYt4w"
      },
      "execution_count": 62,
      "outputs": []
    },
    {
      "cell_type": "code",
      "source": [
        "data_2.transpose()"
      ],
      "metadata": {
        "id": "NFHhyLXAYvtv",
        "outputId": "cad1d53a-20d7-4bd1-963d-6b77d202066d",
        "colab": {
          "base_uri": "https://localhost:8080/"
        }
      },
      "execution_count": 63,
      "outputs": [
        {
          "output_type": "execute_result",
          "data": {
            "text/plain": [
              "array([[ 1,  5,  9],\n",
              "       [ 2,  6, 10],\n",
              "       [ 3,  7, 11],\n",
              "       [ 4,  8, 12]])"
            ]
          },
          "metadata": {},
          "execution_count": 63
        }
      ]
    },
    {
      "cell_type": "code",
      "source": [
        "m1 = np.arange(1, 10).reshape(-1, 3)\n",
        "m1"
      ],
      "metadata": {
        "id": "d-G-9He5Y-tK",
        "outputId": "fa3abff7-b269-4f8c-8f85-7f13ad26ce45",
        "colab": {
          "base_uri": "https://localhost:8080/"
        }
      },
      "execution_count": 64,
      "outputs": [
        {
          "output_type": "execute_result",
          "data": {
            "text/plain": [
              "array([[1, 2, 3],\n",
              "       [4, 5, 6],\n",
              "       [7, 8, 9]])"
            ]
          },
          "metadata": {},
          "execution_count": 64
        }
      ]
    },
    {
      "cell_type": "markdown",
      "source": [
        "Indexing"
      ],
      "metadata": {
        "id": "qGB2gecVzv6C"
      }
    },
    {
      "cell_type": "code",
      "source": [
        "print(m1[1][1])  # option 1\n"
      ],
      "metadata": {
        "id": "56H0wzQkZ0VO",
        "outputId": "bac2b882-62fa-415e-baff-706bde57e576",
        "colab": {
          "base_uri": "https://localhost:8080/"
        }
      },
      "execution_count": 65,
      "outputs": [
        {
          "output_type": "stream",
          "name": "stdout",
          "text": [
            "5\n"
          ]
        }
      ]
    },
    {
      "cell_type": "code",
      "source": [
        "print(m1[1, 1])  # option 2"
      ],
      "metadata": {
        "id": "ebisJJ9qzu2b",
        "outputId": "d8980ee3-5ad6-41f7-f3fd-c5268543f9f9",
        "colab": {
          "base_uri": "https://localhost:8080/"
        }
      },
      "execution_count": 66,
      "outputs": [
        {
          "output_type": "stream",
          "name": "stdout",
          "text": [
            "5\n"
          ]
        }
      ]
    },
    {
      "cell_type": "code",
      "source": [
        "m2 = np.arange(1, 11)\n",
        "# multiple indexes using list\n",
        "m2[[-1, -2, -3]]"
      ],
      "metadata": {
        "id": "MmYL95K8anTE",
        "outputId": "6f254800-23e5-4970-c70a-d8273ddea737",
        "colab": {
          "base_uri": "https://localhost:8080/"
        }
      },
      "execution_count": 69,
      "outputs": [
        {
          "output_type": "execute_result",
          "data": {
            "text/plain": [
              "array([10,  9,  8])"
            ]
          },
          "metadata": {},
          "execution_count": 69
        }
      ]
    },
    {
      "cell_type": "code",
      "source": [
        "# 2d indexing using list\n",
        "m3 = np.arange(1, 10).reshape(-1, 3)\n",
        "m3\n",
        "# print diagonals\n",
        "print(m3[[0, 1, 2], [0, 1, 2]])"
      ],
      "metadata": {
        "id": "2Slak2cobAzn",
        "outputId": "c18202b4-59d2-4fc0-c8b6-827868febd66",
        "colab": {
          "base_uri": "https://localhost:8080/"
        }
      },
      "execution_count": 70,
      "outputs": [
        {
          "output_type": "stream",
          "name": "stdout",
          "text": [
            "[1 5 9]\n"
          ]
        }
      ]
    },
    {
      "cell_type": "code",
      "source": [
        "m3[[0, 1], [0, 1]]"
      ],
      "metadata": {
        "id": "eeRVp_ZfbiOc",
        "outputId": "072ec7f4-0fff-4998-e397-97a28dffc963",
        "colab": {
          "base_uri": "https://localhost:8080/"
        }
      },
      "execution_count": 71,
      "outputs": [
        {
          "output_type": "execute_result",
          "data": {
            "text/plain": [
              "array([1, 5])"
            ]
          },
          "metadata": {},
          "execution_count": 71
        }
      ]
    },
    {
      "cell_type": "code",
      "source": [
        "# slicing\n",
        "m1"
      ],
      "metadata": {
        "id": "F4qa3SRwhN6A",
        "outputId": "d5ebd9ee-8d09-4e64-f47b-c5d9b728189a",
        "colab": {
          "base_uri": "https://localhost:8080/"
        }
      },
      "execution_count": 73,
      "outputs": [
        {
          "output_type": "execute_result",
          "data": {
            "text/plain": [
              "array([[1, 2, 3],\n",
              "       [4, 5, 6],\n",
              "       [7, 8, 9]])"
            ]
          },
          "metadata": {},
          "execution_count": 73
        }
      ]
    },
    {
      "cell_type": "code",
      "source": [
        "m1[:, :2]"
      ],
      "metadata": {
        "id": "VYpDIiQAiZH_",
        "outputId": "13484c2d-4f93-42e6-e793-6c47ed33c0f4",
        "colab": {
          "base_uri": "https://localhost:8080/"
        }
      },
      "execution_count": 74,
      "outputs": [
        {
          "output_type": "execute_result",
          "data": {
            "text/plain": [
              "array([[1, 2],\n",
              "       [4, 5],\n",
              "       [7, 8]])"
            ]
          },
          "metadata": {},
          "execution_count": 74
        }
      ]
    },
    {
      "cell_type": "code",
      "source": [
        "m4 = np.arange(1, 13).reshape(-1, 4)\n",
        "m4"
      ],
      "metadata": {
        "id": "_fswaWVvtlh_"
      },
      "execution_count": null,
      "outputs": []
    },
    {
      "cell_type": "code",
      "source": [
        "m4[1:,1:3]"
      ],
      "metadata": {
        "id": "bgL3Pxyst1Ym",
        "outputId": "ffdb1f1e-8048-4391-8d17-f1db8e1f0b61",
        "colab": {
          "base_uri": "https://localhost:8080/"
        }
      },
      "execution_count": 75,
      "outputs": [
        {
          "output_type": "execute_result",
          "data": {
            "text/plain": [
              "array([[ 6,  7],\n",
              "       [10, 11]])"
            ]
          },
          "metadata": {},
          "execution_count": 75
        }
      ]
    },
    {
      "cell_type": "code",
      "source": [
        "m4[:, 1::2]"
      ],
      "metadata": {
        "id": "aS7qM8XBt_vD",
        "outputId": "6889e854-10b9-4f2f-c5f0-f6dcede3ec54",
        "colab": {
          "base_uri": "https://localhost:8080/"
        }
      },
      "execution_count": 76,
      "outputs": [
        {
          "output_type": "execute_result",
          "data": {
            "text/plain": [
              "array([[ 2,  4],\n",
              "       [ 6,  8],\n",
              "       [10, 12]])"
            ]
          },
          "metadata": {},
          "execution_count": 76
        }
      ]
    },
    {
      "cell_type": "code",
      "source": [
        "# alternative, when there is an inconsistency in indexing\n",
        "m4[:, [1, 3]]"
      ],
      "metadata": {
        "id": "wOUzPtCgwBik"
      },
      "execution_count": null,
      "outputs": []
    },
    {
      "cell_type": "code",
      "source": [
        "np.sum(m4)"
      ],
      "metadata": {
        "id": "m5ScaLbHxjfp"
      },
      "execution_count": null,
      "outputs": []
    },
    {
      "cell_type": "code",
      "source": [
        "m4\n",
        "# np.min(m4, axis=1)"
      ],
      "metadata": {
        "id": "va4wGEjYBMS5"
      },
      "execution_count": null,
      "outputs": []
    },
    {
      "cell_type": "code",
      "source": [
        "print(np.min(m4))"
      ],
      "metadata": {
        "id": "PruznZIgCT0t"
      },
      "execution_count": null,
      "outputs": []
    },
    {
      "cell_type": "code",
      "source": [
        "# axis - for one direction\n",
        "# vertical-axis 0, horizontal 1"
      ],
      "metadata": {
        "id": "MCrxnfjjIZ74"
      },
      "execution_count": null,
      "outputs": []
    },
    {
      "cell_type": "code",
      "source": [
        "np.min(m4, axis = 1) # min in each row"
      ],
      "metadata": {
        "id": "3KmefpKPI60P"
      },
      "execution_count": null,
      "outputs": []
    },
    {
      "cell_type": "code",
      "source": [
        "np.min(m4, axis = 0) # min in each col"
      ],
      "metadata": {
        "id": "-hwCfKATI-5f"
      },
      "execution_count": null,
      "outputs": []
    },
    {
      "cell_type": "code",
      "source": [
        "# average\n",
        "np.mean(m4)"
      ],
      "metadata": {
        "id": "-6BkMpxIJavl"
      },
      "execution_count": null,
      "outputs": []
    },
    {
      "cell_type": "code",
      "source": [
        "np.mean(m4, axis = 0) # in each col"
      ],
      "metadata": {
        "id": "5wPLiLv9Jpr5"
      },
      "execution_count": null,
      "outputs": []
    },
    {
      "cell_type": "code",
      "source": [
        "# avg between particular rows or cols"
      ],
      "metadata": {
        "id": "pStaYrD7J2m1"
      },
      "execution_count": null,
      "outputs": []
    },
    {
      "cell_type": "code",
      "source": [
        "#sale is going on amazon\n",
        "prices = np.array([50,45,25,20,35])\n",
        "#your budget\n",
        "budget = 30\n",
        "#check if there atleast one item that sonal can purchase with budget of 30 ? => true/false\n",
        "prices <= budget  # all items less than budget"
      ],
      "metadata": {
        "id": "aRboLj_nnsrD"
      },
      "execution_count": null,
      "outputs": []
    },
    {
      "cell_type": "code",
      "source": [
        "np.any(prices <= budget)  # if there is any item less than budget"
      ],
      "metadata": {
        "id": "8GTEqd5hnu6O"
      },
      "execution_count": null,
      "outputs": []
    },
    {
      "cell_type": "code",
      "source": [],
      "metadata": {
        "id": "FTP8aX0xrPVy"
      },
      "execution_count": null,
      "outputs": []
    },
    {
      "cell_type": "code",
      "source": [
        "np.all(prices <= budget) # if all prices less than budget"
      ],
      "metadata": {
        "id": "ZOUaQSenoGSF"
      },
      "execution_count": null,
      "outputs": []
    },
    {
      "cell_type": "code",
      "source": [
        "m5 = np.arange(1, 13).reshape(3, 4)"
      ],
      "metadata": {
        "id": "QJe9-cK9olAe"
      },
      "execution_count": null,
      "outputs": []
    },
    {
      "cell_type": "code",
      "source": [
        "np.any(m5 > 15)"
      ],
      "metadata": {
        "id": "HZVVtjsLo2qZ"
      },
      "execution_count": null,
      "outputs": []
    },
    {
      "cell_type": "code",
      "source": [
        "np.where(m5 < 10, m5 * 0.8, m5)"
      ],
      "metadata": {
        "id": "hy3cKhLHo5qM"
      },
      "execution_count": null,
      "outputs": []
    },
    {
      "cell_type": "code",
      "source": [
        "bp = np.array([130, 150, 1110, 160, 120, 140, 170])\n",
        "np.where(bp > 140, 'High BP', 'Low BP')"
      ],
      "metadata": {
        "id": "qYdOLal4qNpf"
      },
      "execution_count": null,
      "outputs": []
    },
    {
      "cell_type": "code",
      "source": [
        "m6 = np.array([3, 5, -1, 4, -5, 8, 2])\n",
        "m6.sort() # in place\n",
        "m6"
      ],
      "metadata": {
        "id": "iI1ersQTrVro"
      },
      "execution_count": null,
      "outputs": []
    },
    {
      "cell_type": "code",
      "source": [
        "np.sort(m6) # new sorted array"
      ],
      "metadata": {
        "id": "Vvbrfz2Yv95O"
      },
      "execution_count": null,
      "outputs": []
    },
    {
      "cell_type": "code",
      "source": [
        "m7 = np.arange(1, 19).reshape(-1, 6)\n",
        "m8 = np.sort(m7)[::-1]  # reverse order sorting, axis is default 1 (horizontal)\n",
        "m8"
      ],
      "metadata": {
        "id": "qaeEfIB1wIlb"
      },
      "execution_count": null,
      "outputs": []
    },
    {
      "cell_type": "code",
      "source": [
        "# vertical sorting\n",
        "np.sort(m8, axis=0)"
      ],
      "metadata": {
        "id": "ryRwTKDRej74"
      },
      "execution_count": null,
      "outputs": []
    },
    {
      "cell_type": "code",
      "source": [
        "# Full sort\n",
        "# Convert 2d to 1d, then sort 1d, then convert 1d to 2d again\n",
        "np.sort(m7.flatten()).reshape(-1, 3)"
      ],
      "metadata": {
        "id": "mp_96W_fgZLo"
      },
      "execution_count": null,
      "outputs": []
    },
    {
      "cell_type": "code",
      "source": [
        "x = np.ones((5,5))\n",
        "x"
      ],
      "metadata": {
        "id": "61g7KYvehhKn"
      },
      "execution_count": null,
      "outputs": []
    },
    {
      "cell_type": "code",
      "source": [
        "m5 = np.arange(1, 101).reshape(-1, 5)\n",
        "m5"
      ],
      "metadata": {
        "id": "i6LA5C5GAOtY"
      },
      "execution_count": null,
      "outputs": []
    },
    {
      "cell_type": "code",
      "source": [
        "m5[0][2]"
      ],
      "metadata": {
        "id": "9aZ3kL0_4KSz"
      },
      "execution_count": null,
      "outputs": []
    },
    {
      "cell_type": "code",
      "source": [
        "m5[[40, 41, 42, 43]]"
      ],
      "metadata": {
        "id": "KluwQn4_4Nyl"
      },
      "execution_count": null,
      "outputs": []
    },
    {
      "cell_type": "code",
      "source": [
        "m6 = np.arange(11, 51).reshape(-1, 10)\n",
        "m6"
      ],
      "metadata": {
        "id": "hqlJW0084UvX"
      },
      "execution_count": null,
      "outputs": []
    },
    {
      "cell_type": "code",
      "source": [
        "m6[1:3, 4: 6]"
      ],
      "metadata": {
        "id": "jd_2i9YF6biH"
      },
      "execution_count": null,
      "outputs": []
    },
    {
      "cell_type": "code",
      "source": [
        "m6[0: 3: 2, 4: 7: 2]"
      ],
      "metadata": {
        "id": "FkkIFhkt66Lo"
      },
      "execution_count": null,
      "outputs": []
    },
    {
      "cell_type": "code",
      "source": [
        "ages = np.array([2, 6, 8, 11, 12, 13, 15, 16, 22, 26, 37, 41, 44, 55, 77])\n",
        "ages <= 12"
      ],
      "metadata": {
        "id": "Nvs6e0EP7aUf"
      },
      "execution_count": null,
      "outputs": []
    },
    {
      "cell_type": "code",
      "source": [
        "ages[ages <= 12]"
      ],
      "metadata": {
        "id": "sn8N-7av9s7o"
      },
      "execution_count": null,
      "outputs": []
    },
    {
      "cell_type": "code",
      "source": [
        "np.any(ages <= 1)"
      ],
      "metadata": {
        "id": "p56TnLd5938k"
      },
      "execution_count": null,
      "outputs": []
    },
    {
      "cell_type": "code",
      "source": [
        "np.all(ages <= 76)"
      ],
      "metadata": {
        "id": "noBUT-Lw-Uze"
      },
      "execution_count": null,
      "outputs": []
    },
    {
      "cell_type": "code",
      "source": [
        "np.where(ages <= 35, \"Young\", \"Old\")"
      ],
      "metadata": {
        "id": "jIAM_I45-Z5d"
      },
      "execution_count": null,
      "outputs": []
    },
    {
      "cell_type": "code",
      "source": [],
      "metadata": {
        "id": "pUZ6xYto_K_F"
      },
      "execution_count": null,
      "outputs": []
    }
  ]
}