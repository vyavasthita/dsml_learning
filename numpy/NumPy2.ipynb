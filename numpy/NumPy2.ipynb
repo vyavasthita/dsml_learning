{
  "nbformat": 4,
  "nbformat_minor": 0,
  "metadata": {
    "colab": {
      "provenance": [],
      "authorship_tag": "ABX9TyMThbmT1SRd2amK5Gx/xIJf",
      "include_colab_link": true
    },
    "kernelspec": {
      "name": "python3",
      "display_name": "Python 3"
    },
    "language_info": {
      "name": "python"
    }
  },
  "cells": [
    {
      "cell_type": "markdown",
      "metadata": {
        "id": "view-in-github",
        "colab_type": "text"
      },
      "source": [
        "<a href=\"https://colab.research.google.com/github/vyavasthita/dsml_learning/blob/master/numpy/NumPy2.ipynb\" target=\"_parent\"><img src=\"https://colab.research.google.com/assets/colab-badge.svg\" alt=\"Open In Colab\"/></a>"
      ]
    },
    {
      "cell_type": "code",
      "execution_count": null,
      "metadata": {
        "id": "ny6C-zDqPG9o"
      },
      "outputs": [],
      "source": [
        "import numpy as np"
      ]
    },
    {
      "cell_type": "code",
      "source": [
        "data = np.arange(1, 34, 0.5)\n",
        "data"
      ],
      "metadata": {
        "id": "ryFIWKj4PXmc"
      },
      "execution_count": null,
      "outputs": []
    },
    {
      "cell_type": "code",
      "source": [
        "data.ndim"
      ],
      "metadata": {
        "id": "C8P7hoi_Pbqh"
      },
      "execution_count": null,
      "outputs": []
    },
    {
      "cell_type": "code",
      "source": [
        "data.shape"
      ],
      "metadata": {
        "id": "IXdcit1MPg_z"
      },
      "execution_count": null,
      "outputs": []
    },
    {
      "cell_type": "code",
      "source": [
        "len(data)"
      ],
      "metadata": {
        "id": "hE7noE3vPt1x"
      },
      "execution_count": null,
      "outputs": []
    },
    {
      "cell_type": "code",
      "source": [
        "data.reshape(22, 3)"
      ],
      "metadata": {
        "id": "rTHuJAeMP5aF"
      },
      "execution_count": null,
      "outputs": []
    },
    {
      "cell_type": "code",
      "source": [
        "data.reshape(-1, 3)"
      ],
      "metadata": {
        "id": "TtDR1aA7zdxa"
      },
      "execution_count": null,
      "outputs": []
    },
    {
      "cell_type": "code",
      "source": [
        "# A negative number means we are telling numpy to decide the row, and we will just decide the columns\n",
        "data = np.arange(1, 13)\n",
        "data_2 = data.reshape(-1, 4)\n",
        "data_2"
      ],
      "metadata": {
        "id": "ChuyQq6nQMKP"
      },
      "execution_count": null,
      "outputs": []
    },
    {
      "cell_type": "code",
      "source": [
        "# transpose\n",
        "data_2.T"
      ],
      "metadata": {
        "id": "xKkrnBMDQfr2"
      },
      "execution_count": null,
      "outputs": []
    },
    {
      "cell_type": "code",
      "source": [
        "data_2.T?"
      ],
      "metadata": {
        "id": "FGAZf4FeYt4w"
      },
      "execution_count": null,
      "outputs": []
    },
    {
      "cell_type": "code",
      "source": [
        "data_2.transpose()"
      ],
      "metadata": {
        "id": "NFHhyLXAYvtv"
      },
      "execution_count": null,
      "outputs": []
    },
    {
      "cell_type": "code",
      "source": [
        "m1 = np.arange(1, 10).reshape(-1, 3)\n",
        "m1"
      ],
      "metadata": {
        "id": "d-G-9He5Y-tK"
      },
      "execution_count": null,
      "outputs": []
    },
    {
      "cell_type": "markdown",
      "source": [
        "Indexing"
      ],
      "metadata": {
        "id": "qGB2gecVzv6C"
      }
    },
    {
      "cell_type": "code",
      "source": [
        "print(m1[1][1])  # option 1\n"
      ],
      "metadata": {
        "id": "56H0wzQkZ0VO"
      },
      "execution_count": null,
      "outputs": []
    },
    {
      "cell_type": "markdown",
      "source": [
        "Option 2\n",
        "object[row, col]"
      ],
      "metadata": {
        "id": "z0Mla5H1xAwV"
      }
    },
    {
      "cell_type": "code",
      "source": [
        "print(m1[1, 1])  # option 2"
      ],
      "metadata": {
        "id": "ebisJJ9qzu2b"
      },
      "execution_count": null,
      "outputs": []
    },
    {
      "cell_type": "code",
      "source": [
        "m2 = np.arange(1, 11)\n",
        "# multiple indexes using list\n",
        "m2[[-1, -5, -3]]"
      ],
      "metadata": {
        "id": "MmYL95K8anTE"
      },
      "execution_count": null,
      "outputs": []
    },
    {
      "cell_type": "code",
      "source": [
        "# 2d indexing using list\n",
        "m3 = np.arange(1, 10).reshape(-1, 3)\n",
        "m3\n",
        "# print diagonals\n",
        "print(m3[[0, 1, 2], [0, 1, 2]])"
      ],
      "metadata": {
        "id": "2Slak2cobAzn"
      },
      "execution_count": null,
      "outputs": []
    },
    {
      "cell_type": "code",
      "source": [
        "m3"
      ],
      "metadata": {
        "id": "n4g41jI-xOFv"
      },
      "execution_count": null,
      "outputs": []
    },
    {
      "cell_type": "code",
      "source": [
        "m3[[0, 1], [0, 1]]"
      ],
      "metadata": {
        "id": "eeRVp_ZfbiOc"
      },
      "execution_count": null,
      "outputs": []
    },
    {
      "cell_type": "code",
      "source": [
        "# slicing\n",
        "m1"
      ],
      "metadata": {
        "id": "F4qa3SRwhN6A"
      },
      "execution_count": null,
      "outputs": []
    },
    {
      "cell_type": "code",
      "source": [
        "m1[:, :2]"
      ],
      "metadata": {
        "id": "VYpDIiQAiZH_"
      },
      "execution_count": null,
      "outputs": []
    },
    {
      "cell_type": "code",
      "source": [
        "m4 = np.arange(1, 13).reshape(-1, 4)\n",
        "m4"
      ],
      "metadata": {
        "id": "_fswaWVvtlh_"
      },
      "execution_count": null,
      "outputs": []
    },
    {
      "cell_type": "code",
      "source": [
        "m4[1:,1:3]"
      ],
      "metadata": {
        "id": "bgL3Pxyst1Ym"
      },
      "execution_count": null,
      "outputs": []
    },
    {
      "cell_type": "code",
      "source": [
        "m4[:, 1::2]"
      ],
      "metadata": {
        "id": "aS7qM8XBt_vD"
      },
      "execution_count": null,
      "outputs": []
    },
    {
      "cell_type": "code",
      "source": [
        "# alternative, when there is an inconsistency in indexing\n",
        "m4[:, [1, 3]]"
      ],
      "metadata": {
        "id": "wOUzPtCgwBik"
      },
      "execution_count": null,
      "outputs": []
    },
    {
      "cell_type": "code",
      "source": [
        "np.sum(m4)"
      ],
      "metadata": {
        "id": "m5ScaLbHxjfp"
      },
      "execution_count": null,
      "outputs": []
    },
    {
      "cell_type": "code",
      "source": [
        "m4\n",
        "# np.min(m4, axis=1)"
      ],
      "metadata": {
        "id": "va4wGEjYBMS5"
      },
      "execution_count": null,
      "outputs": []
    },
    {
      "cell_type": "code",
      "source": [
        "print(np.min(m4))"
      ],
      "metadata": {
        "id": "PruznZIgCT0t"
      },
      "execution_count": null,
      "outputs": []
    },
    {
      "cell_type": "code",
      "source": [
        "# axis - for one direction\n",
        "# vertical-axis 0, horizontal 1"
      ],
      "metadata": {
        "id": "MCrxnfjjIZ74"
      },
      "execution_count": null,
      "outputs": []
    },
    {
      "cell_type": "code",
      "source": [
        "np.min(m4, axis = 1) # min in each row"
      ],
      "metadata": {
        "id": "3KmefpKPI60P"
      },
      "execution_count": null,
      "outputs": []
    },
    {
      "cell_type": "code",
      "source": [
        "np.min(m4, axis = 0) # min in each col"
      ],
      "metadata": {
        "id": "-hwCfKATI-5f"
      },
      "execution_count": null,
      "outputs": []
    },
    {
      "cell_type": "code",
      "source": [
        "# average\n",
        "np.mean(m4)"
      ],
      "metadata": {
        "id": "-6BkMpxIJavl"
      },
      "execution_count": null,
      "outputs": []
    },
    {
      "cell_type": "code",
      "source": [
        "np.mean(m4, axis = 0) # in each col"
      ],
      "metadata": {
        "id": "5wPLiLv9Jpr5"
      },
      "execution_count": null,
      "outputs": []
    },
    {
      "cell_type": "code",
      "source": [
        "# avg between particular rows or cols"
      ],
      "metadata": {
        "id": "pStaYrD7J2m1"
      },
      "execution_count": null,
      "outputs": []
    },
    {
      "cell_type": "code",
      "source": [
        "#sale is going on amazon\n",
        "prices = np.array([50,45,25,20,35])\n",
        "#your budget\n",
        "budget = 30\n",
        "#check if there atleast one item that sonal can purchase with budget of 30 ? => true/false\n",
        "prices <= budget  # all items less than budget"
      ],
      "metadata": {
        "id": "aRboLj_nnsrD"
      },
      "execution_count": null,
      "outputs": []
    },
    {
      "cell_type": "code",
      "source": [
        "np.any(prices <= budget)  # if there is any item less than budget"
      ],
      "metadata": {
        "id": "8GTEqd5hnu6O"
      },
      "execution_count": null,
      "outputs": []
    },
    {
      "cell_type": "code",
      "source": [],
      "metadata": {
        "id": "FTP8aX0xrPVy"
      },
      "execution_count": null,
      "outputs": []
    },
    {
      "cell_type": "code",
      "source": [
        "np.all(prices <= budget) # if all prices less than budget"
      ],
      "metadata": {
        "id": "ZOUaQSenoGSF"
      },
      "execution_count": null,
      "outputs": []
    },
    {
      "cell_type": "code",
      "source": [
        "m5 = np.arange(1, 13).reshape(3, 4)"
      ],
      "metadata": {
        "id": "QJe9-cK9olAe"
      },
      "execution_count": null,
      "outputs": []
    },
    {
      "cell_type": "code",
      "source": [
        "np.any(m5 > 15)"
      ],
      "metadata": {
        "id": "HZVVtjsLo2qZ"
      },
      "execution_count": null,
      "outputs": []
    },
    {
      "cell_type": "code",
      "source": [
        "np.where(m5 < 10, m5 * 0.8, m5)"
      ],
      "metadata": {
        "id": "hy3cKhLHo5qM"
      },
      "execution_count": null,
      "outputs": []
    },
    {
      "cell_type": "code",
      "source": [
        "bp = np.array([130, 150, 1110, 160, 120, 140, 170])\n",
        "np.where(bp > 140, 'High BP', 'Low BP')"
      ],
      "metadata": {
        "id": "qYdOLal4qNpf"
      },
      "execution_count": null,
      "outputs": []
    },
    {
      "cell_type": "code",
      "source": [
        "m6 = np.array([3, 5, -1, 4, -5, 8, 2])\n",
        "m6.sort() # in place\n",
        "m6"
      ],
      "metadata": {
        "id": "iI1ersQTrVro"
      },
      "execution_count": null,
      "outputs": []
    },
    {
      "cell_type": "code",
      "source": [
        "np.sort(m6) # new sorted array"
      ],
      "metadata": {
        "id": "Vvbrfz2Yv95O"
      },
      "execution_count": null,
      "outputs": []
    },
    {
      "cell_type": "code",
      "source": [
        "m7 = np.arange(1, 19).reshape(-1, 6)\n",
        "m8 = np.sort(m7)[::-1]  # reverse order sorting, axis is default 1 (horizontal)\n",
        "m8"
      ],
      "metadata": {
        "id": "qaeEfIB1wIlb"
      },
      "execution_count": null,
      "outputs": []
    },
    {
      "cell_type": "code",
      "source": [
        "# vertical sorting\n",
        "np.sort(m8, axis=0)"
      ],
      "metadata": {
        "id": "ryRwTKDRej74"
      },
      "execution_count": null,
      "outputs": []
    },
    {
      "cell_type": "code",
      "source": [
        "# Full sort\n",
        "# Convert 2d to 1d, then sort 1d, then convert 1d to 2d again\n",
        "np.sort(m7.flatten()).reshape(-1, 3)"
      ],
      "metadata": {
        "id": "mp_96W_fgZLo"
      },
      "execution_count": null,
      "outputs": []
    },
    {
      "cell_type": "code",
      "source": [
        "x = np.ones((5,5))\n",
        "x"
      ],
      "metadata": {
        "id": "61g7KYvehhKn"
      },
      "execution_count": null,
      "outputs": []
    },
    {
      "cell_type": "code",
      "source": [
        "m5 = np.arange(1, 101).reshape(-1, 5)\n",
        "m5"
      ],
      "metadata": {
        "id": "i6LA5C5GAOtY"
      },
      "execution_count": null,
      "outputs": []
    },
    {
      "cell_type": "code",
      "source": [
        "m5[0][2]"
      ],
      "metadata": {
        "id": "9aZ3kL0_4KSz"
      },
      "execution_count": null,
      "outputs": []
    },
    {
      "cell_type": "code",
      "source": [
        "m5"
      ],
      "metadata": {
        "id": "3KLitOLCygQ4"
      },
      "execution_count": null,
      "outputs": []
    },
    {
      "cell_type": "code",
      "source": [
        "m5[[10, 11, 12, 13]]"
      ],
      "metadata": {
        "id": "KluwQn4_4Nyl"
      },
      "execution_count": null,
      "outputs": []
    },
    {
      "cell_type": "code",
      "source": [
        "m6 = np.arange(11, 51).reshape(-1, 10)\n",
        "m6"
      ],
      "metadata": {
        "id": "hqlJW0084UvX"
      },
      "execution_count": null,
      "outputs": []
    },
    {
      "cell_type": "code",
      "source": [
        "m6[1:3, 4: 6]"
      ],
      "metadata": {
        "id": "jd_2i9YF6biH"
      },
      "execution_count": null,
      "outputs": []
    },
    {
      "cell_type": "code",
      "source": [
        "m6[0: 3: 2, 4: 7: 2]"
      ],
      "metadata": {
        "id": "FkkIFhkt66Lo"
      },
      "execution_count": null,
      "outputs": []
    },
    {
      "cell_type": "code",
      "source": [
        "ages = np.array([2, 6, 8, 11, 12, 13, 15, 16, 22, 26, 37, 41, 44, 55, 77])\n",
        "ages <= 12"
      ],
      "metadata": {
        "id": "Nvs6e0EP7aUf"
      },
      "execution_count": null,
      "outputs": []
    },
    {
      "cell_type": "code",
      "source": [
        "ages[ages <= 12]"
      ],
      "metadata": {
        "id": "sn8N-7av9s7o"
      },
      "execution_count": null,
      "outputs": []
    },
    {
      "cell_type": "code",
      "source": [
        "np.any(ages <= 1)"
      ],
      "metadata": {
        "id": "p56TnLd5938k"
      },
      "execution_count": null,
      "outputs": []
    },
    {
      "cell_type": "code",
      "source": [
        "np.all(ages <= 76)"
      ],
      "metadata": {
        "id": "noBUT-Lw-Uze"
      },
      "execution_count": null,
      "outputs": []
    },
    {
      "cell_type": "code",
      "source": [
        "np.where(ages <= 35, \"Young\", \"Old\")"
      ],
      "metadata": {
        "id": "jIAM_I45-Z5d"
      },
      "execution_count": null,
      "outputs": []
    }
  ]
}