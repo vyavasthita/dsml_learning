{
  "nbformat": 4,
  "nbformat_minor": 0,
  "metadata": {
    "colab": {
      "provenance": [],
      "authorship_tag": "ABX9TyNXo3cT1h0zW1xiYOVxiFCU",
      "include_colab_link": true
    },
    "kernelspec": {
      "name": "python3",
      "display_name": "Python 3"
    },
    "language_info": {
      "name": "python"
    }
  },
  "cells": [
    {
      "cell_type": "markdown",
      "metadata": {
        "id": "view-in-github",
        "colab_type": "text"
      },
      "source": [
        "<a href=\"https://colab.research.google.com/github/vyavasthita/dsml_learning/blob/master/data-visualization/data-visualization-3.ipynb\" target=\"_parent\"><img src=\"https://colab.research.google.com/assets/colab-badge.svg\" alt=\"Open In Colab\"/></a>"
      ]
    },
    {
      "cell_type": "code",
      "execution_count": null,
      "metadata": {
        "id": "Oqge46hqTjao"
      },
      "outputs": [],
      "source": [
        "import pandas as pd"
      ]
    },
    {
      "cell_type": "code",
      "source": [
        "!gdown https://d2beiqkhq929f0.cloudfront.net/public_assets/assets/000/021/299/original/final_vg1_-_final_vg_%281%29.csv?1670840166 -O final_vg.csv"
      ],
      "metadata": {
        "id": "YITMKTIKTnRx"
      },
      "execution_count": null,
      "outputs": []
    },
    {
      "cell_type": "code",
      "source": [
        "import matplotlib.pyplot as plt\n",
        "import seaborn as sns"
      ],
      "metadata": {
        "id": "a8kqNx54cvSt"
      },
      "execution_count": null,
      "outputs": []
    },
    {
      "cell_type": "code",
      "source": [
        "data = pd.read_csv('final_vg.csv')\n",
        "data.head()"
      ],
      "metadata": {
        "id": "sRfW9qdCCQW9"
      },
      "execution_count": null,
      "outputs": []
    },
    {
      "cell_type": "code",
      "source": [
        "data['Name'].value_counts()"
      ],
      "metadata": {
        "id": "GSgEPlwVCePG"
      },
      "execution_count": null,
      "outputs": []
    },
    {
      "cell_type": "code",
      "source": [
        "ih = data[data['Name'] == 'Ice Hockey']"
      ],
      "metadata": {
        "id": "zR9zEqrVCgWE"
      },
      "execution_count": null,
      "outputs": []
    },
    {
      "cell_type": "code",
      "source": [
        "ih.shape"
      ],
      "metadata": {
        "id": "uariHjV-C3G-"
      },
      "execution_count": null,
      "outputs": []
    },
    {
      "cell_type": "code",
      "source": [
        "sns.lineplot(data=ih, x='Year', y='NA_Sales') # bi-variate graph\n",
        "plt.show()"
      ],
      "metadata": {
        "id": "pGJ6EywIC65j"
      },
      "execution_count": null,
      "outputs": []
    },
    {
      "cell_type": "code",
      "source": [
        "sns.lineplot(data=ih, x='Year', y='NA_Sales') # bi-variate graph\n",
        "plt.xlim(1995, 2000)\n",
        "plt.show()"
      ],
      "metadata": {
        "id": "pL_Ha8B4DmO3"
      },
      "execution_count": null,
      "outputs": []
    },
    {
      "cell_type": "code",
      "source": [
        "sns.lineplot(data=ih, x='Year', y='NA_Sales') # bi-variate graph\n",
        "plt.xlim(1995, 2000)\n",
        "plt.xticks(range(1998, 2005, 1))\n",
        "plt.show()"
      ],
      "metadata": {
        "id": "pmbk_YPAF05C"
      },
      "execution_count": null,
      "outputs": []
    },
    {
      "cell_type": "code",
      "source": [
        "bh = data[data['Name'] == 'Baseball']"
      ],
      "metadata": {
        "id": "FQBwIVQLGRkA"
      },
      "execution_count": null,
      "outputs": []
    },
    {
      "cell_type": "code",
      "source": [
        "bh"
      ],
      "metadata": {
        "id": "gsGdB3DNGvro"
      },
      "execution_count": null,
      "outputs": []
    },
    {
      "cell_type": "code",
      "source": [
        "sns.lineplot(data=bh, x='Year', y='NA_Sales')\n",
        "plt.show()"
      ],
      "metadata": {
        "id": "wgUh70sxGwKo"
      },
      "execution_count": null,
      "outputs": []
    },
    {
      "cell_type": "markdown",
      "source": [
        "Line plot together"
      ],
      "metadata": {
        "id": "6X12I0FdIgUj"
      }
    },
    {
      "cell_type": "code",
      "source": [
        "sns.lineplot(data=ih, x='Year', y='NA_Sales')\n",
        "sns.lineplot(data=bh, x='Year', y='NA_Sales')\n",
        "plt.show()"
      ],
      "metadata": {
        "id": "clv5sdYCG8do"
      },
      "execution_count": null,
      "outputs": []
    },
    {
      "cell_type": "code",
      "source": [
        "sns.lineplot(data=ih, x='Year', y='NA_Sales', label='Ice Hockey', color='red')\n",
        "sns.lineplot(data=bh, x='Year', y='NA_Sales', label='Baseball', color='green')\n",
        "plt.legend()\n",
        "plt.show()"
      ],
      "metadata": {
        "id": "FN3x82gWIq0u"
      },
      "execution_count": null,
      "outputs": []
    },
    {
      "cell_type": "code",
      "source": [
        "sns.lineplot(data=ih, x='Year', y='NA_Sales', label='Ice Hockey', color='red')\n",
        "sns.lineplot(data=bh, x='Year', y='NA_Sales', label='Baseball', color='green')\n",
        "plt.legend(loc='lower left')\n",
        "plt.show()"
      ],
      "metadata": {
        "id": "EeOb1-7qJJJm"
      },
      "execution_count": null,
      "outputs": []
    },
    {
      "cell_type": "code",
      "source": [
        "# No frame in lagends\n",
        "sns.lineplot(data=ih, x='Year', y='NA_Sales', label='Ice Hockey', color='red')\n",
        "sns.lineplot(data=bh, x='Year', y='NA_Sales', label='Baseball', color='green')\n",
        "plt.legend(loc='lower left', frameon=False)\n",
        "plt.show()"
      ],
      "metadata": {
        "id": "HHAyTJb9JcVU"
      },
      "execution_count": null,
      "outputs": []
    },
    {
      "cell_type": "markdown",
      "source": [
        "Numerical and Numerical\n",
        "\n",
        "Scatter Plot"
      ],
      "metadata": {
        "id": "d-IaNX7ZKjqG"
      }
    },
    {
      "cell_type": "code",
      "source": [
        "# Rank and sales\n",
        "sns.scatterplot(data=data, x='Rank', y='Global_Sales')\n",
        "plt.show()\n",
        "\n",
        "# In the output if rank decreses then sales increases and vice versa"
      ],
      "metadata": {
        "id": "En5YPceiJprY"
      },
      "execution_count": null,
      "outputs": []
    },
    {
      "cell_type": "markdown",
      "source": [
        "Category and Category relationship"
      ],
      "metadata": {
        "id": "32L3ctkvNc4i"
      }
    },
    {
      "cell_type": "code",
      "source": [
        "# top 3 publisher\n",
        "data['Publisher'].value_counts().head(3)"
      ],
      "metadata": {
        "id": "J37d8AxtLyyr"
      },
      "execution_count": null,
      "outputs": []
    },
    {
      "cell_type": "code",
      "source": [
        "top_3_pub = data['Publisher'].value_counts().head(3).index\n",
        "# data['Publisher'].value_counts().index[:3]"
      ],
      "metadata": {
        "id": "do0-ssCGNo5D"
      },
      "execution_count": null,
      "outputs": []
    },
    {
      "cell_type": "code",
      "source": [
        "data['Publisher'].value_counts().head(3).values"
      ],
      "metadata": {
        "id": "QhFTfLnXN5_4"
      },
      "execution_count": null,
      "outputs": []
    },
    {
      "cell_type": "code",
      "source": [
        "top_3_gen = data['Genre'].value_counts().head(3).index"
      ],
      "metadata": {
        "id": "4iS7if_4N7bh"
      },
      "execution_count": null,
      "outputs": []
    },
    {
      "cell_type": "code",
      "source": [
        "top_3_plat = data['Platform'].value_counts().head(3).index"
      ],
      "metadata": {
        "id": "3kD6zFymOXjM"
      },
      "execution_count": null,
      "outputs": []
    },
    {
      "cell_type": "code",
      "source": [
        "print(top_3_pub)\n",
        "print(top_3_gen)\n",
        "print(top_3_plat)"
      ],
      "metadata": {
        "id": "tW1MYkCXObsJ"
      },
      "execution_count": null,
      "outputs": []
    },
    {
      "cell_type": "markdown",
      "source": [
        "Find the rows containing the top 3 publishers, the top 3 genres and the top 3 platforms"
      ],
      "metadata": {
        "id": "7o9AoDo8PB-a"
      }
    },
    {
      "cell_type": "code",
      "source": [
        "top_3_data = data[data['Publisher'].isin(top_3_pub) & data['Genre'].isin(top_3_gen) & data['Platform'].isin(top_3_plat)]\n",
        "top_3_data"
      ],
      "metadata": {
        "id": "L5ruHC7jO0A-"
      },
      "execution_count": null,
      "outputs": []
    },
    {
      "cell_type": "code",
      "source": [
        "sns.countplot(data=top_3_data, x='Publisher') # Univariate\n",
        "plt.show()"
      ],
      "metadata": {
        "id": "ilv2dkFQQ8tV"
      },
      "execution_count": null,
      "outputs": []
    },
    {
      "cell_type": "code",
      "source": [
        "sns.countplot(data=top_3_data, x='Publisher', hue='Genre') # bivariate analysis, this is a doged bar graph\n",
        "plt.show()"
      ],
      "metadata": {
        "id": "qK1PXIM7RLo_"
      },
      "execution_count": null,
      "outputs": []
    },
    {
      "cell_type": "code",
      "source": [
        "sns.boxplot(data=top_3_data, y='Global_Sales')\n",
        "plt.show()"
      ],
      "metadata": {
        "id": "2hMlYq4-Rcns"
      },
      "execution_count": null,
      "outputs": []
    },
    {
      "cell_type": "code",
      "source": [
        "sns.boxplot(data=top_3_data, y='Global_Sales', hue='Publisher')\n",
        "plt.show()"
      ],
      "metadata": {
        "id": "3zB88To_S2Sy"
      },
      "execution_count": null,
      "outputs": []
    },
    {
      "cell_type": "code",
      "source": [
        "sns.boxplot(data=top_3_data, x='Publisher', y='Global_Sales', hue='Publisher')\n",
        "plt.show()"
      ],
      "metadata": {
        "id": "hBo7SrDATFAt"
      },
      "execution_count": null,
      "outputs": []
    },
    {
      "cell_type": "code",
      "source": [
        "#for each of my publisher, if i want to show the avg global sales ?\n",
        "top_3_data[top_3_data['Publisher'] == 'Namco Bandai Games']['Global_Sales'].mean()"
      ],
      "metadata": {
        "id": "Js-kCS7gU49i"
      },
      "execution_count": null,
      "outputs": []
    },
    {
      "cell_type": "code",
      "source": [
        "# visualize this ?\n",
        "# count for each unique values in my column => sns.countplot\n",
        "sns.barplot(data=top_3_data,x='Publisher', y='Global_Sales') # mean on the y axis => estimator np.mean\n",
        "plt.show()"
      ],
      "metadata": {
        "id": "2lj_e85VXO_l"
      },
      "execution_count": null,
      "outputs": []
    },
    {
      "cell_type": "code",
      "source": [
        "data"
      ],
      "metadata": {
        "id": "33dHUPxbXWSY"
      },
      "execution_count": null,
      "outputs": []
    }
  ]
}